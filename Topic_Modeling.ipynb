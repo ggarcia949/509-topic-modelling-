{
  "cells": [
    {
      "cell_type": "markdown",
      "id": "bce2bb89",
      "metadata": {
        "id": "bce2bb89"
      },
      "source": [
        "# ADS 509 Assignment 5.1: Topic Modeling\n",
        "\n",
        "This notebook holds Assignment 5.1 for Module 5 in ADS 509, Applied Text Mining. Work through this notebook, writing code and answering questions where required. \n",
        "\n",
        "In this assignment you will work with a categorical corpus that accompanies `nltk`. You will build the three types of topic models described in Chapter 8 of _Blueprints for Text Analytics using Python_: NMF, LSA, and LDA. You will compare these models to the true categories. \n"
      ]
    },
    {
      "cell_type": "markdown",
      "id": "d87e2c06",
      "metadata": {
        "id": "d87e2c06"
      },
      "source": [
        "## General Assignment Instructions\n",
        "\n",
        "These instructions are included in every assignment, to remind you of the coding standards for the class. Feel free to delete this cell after reading it. \n",
        "\n",
        "One sign of mature code is conforming to a style guide. We recommend the [Google Python Style Guide](https://google.github.io/styleguide/pyguide.html). If you use a different style guide, please include a cell with a link. \n",
        "\n",
        "Your code should be relatively easy-to-read, sensibly commented, and clean. Writing code is a messy process, so please be sure to edit your final submission. Remove any cells that are not needed or parts of cells that contain unnecessary code. Remove inessential `import` statements and make sure that all such statements are moved into the designated cell. \n",
        "\n",
        "Make use of non-code cells for written commentary. These cells should be grammatical and clearly written. In some of these cells you will have questions to answer. The questions will be marked by a \"Q:\" and will have a corresponding \"A:\" spot for you. *Make sure to answer every question marked with a `Q:` for full credit.* \n"
      ]
    },
    {
      "cell_type": "code",
      "source": [
        "pip install pyLDAvis"
      ],
      "metadata": {
        "colab": {
          "base_uri": "https://localhost:8080/"
        },
        "id": "CmFVlyEqw3M2",
        "outputId": "aca83c0f-0da8-4786-de1d-1f14ef81b953"
      },
      "id": "CmFVlyEqw3M2",
      "execution_count": null,
      "outputs": [
        {
          "output_type": "stream",
          "name": "stdout",
          "text": [
            "Looking in indexes: https://pypi.org/simple, https://us-python.pkg.dev/colab-wheels/public/simple/\n",
            "Collecting pyLDAvis\n",
            "  Downloading pyLDAvis-3.3.1.tar.gz (1.7 MB)\n",
            "\u001b[2K     \u001b[90m━━━━━━━━━━━━━━━━━━━━━━━━━━━━━━━━━━━━━━━━\u001b[0m \u001b[32m1.7/1.7 MB\u001b[0m \u001b[31m18.5 MB/s\u001b[0m eta \u001b[36m0:00:00\u001b[0m\n",
            "\u001b[?25h  Installing build dependencies ... \u001b[?25l\u001b[?25hdone\n",
            "  Getting requirements to build wheel ... \u001b[?25l\u001b[?25hdone\n",
            "  Installing backend dependencies ... \u001b[?25l\u001b[?25hdone\n",
            "  Preparing metadata (pyproject.toml) ... \u001b[?25l\u001b[?25hdone\n",
            "Requirement already satisfied: scipy in /usr/local/lib/python3.8/dist-packages (from pyLDAvis) (1.7.3)\n",
            "Requirement already satisfied: jinja2 in /usr/local/lib/python3.8/dist-packages (from pyLDAvis) (2.11.3)\n",
            "Collecting sklearn\n",
            "  Downloading sklearn-0.0.post1.tar.gz (3.6 kB)\n",
            "  Preparing metadata (setup.py) ... \u001b[?25l\u001b[?25hdone\n",
            "Requirement already satisfied: scikit-learn in /usr/local/lib/python3.8/dist-packages (from pyLDAvis) (1.0.2)\n",
            "Requirement already satisfied: pandas>=1.2.0 in /usr/local/lib/python3.8/dist-packages (from pyLDAvis) (1.3.5)\n",
            "Requirement already satisfied: gensim in /usr/local/lib/python3.8/dist-packages (from pyLDAvis) (3.6.0)\n",
            "Requirement already satisfied: numpy>=1.20.0 in /usr/local/lib/python3.8/dist-packages (from pyLDAvis) (1.21.6)\n",
            "Collecting funcy\n",
            "  Downloading funcy-1.18-py2.py3-none-any.whl (33 kB)\n",
            "Requirement already satisfied: numexpr in /usr/local/lib/python3.8/dist-packages (from pyLDAvis) (2.8.4)\n",
            "Requirement already satisfied: joblib in /usr/local/lib/python3.8/dist-packages (from pyLDAvis) (1.2.0)\n",
            "Requirement already satisfied: setuptools in /usr/local/lib/python3.8/dist-packages (from pyLDAvis) (57.4.0)\n",
            "Requirement already satisfied: future in /usr/local/lib/python3.8/dist-packages (from pyLDAvis) (0.16.0)\n",
            "Requirement already satisfied: pytz>=2017.3 in /usr/local/lib/python3.8/dist-packages (from pandas>=1.2.0->pyLDAvis) (2022.7.1)\n",
            "Requirement already satisfied: python-dateutil>=2.7.3 in /usr/local/lib/python3.8/dist-packages (from pandas>=1.2.0->pyLDAvis) (2.8.2)\n",
            "Requirement already satisfied: six>=1.5.0 in /usr/local/lib/python3.8/dist-packages (from gensim->pyLDAvis) (1.15.0)\n",
            "Requirement already satisfied: smart-open>=1.2.1 in /usr/local/lib/python3.8/dist-packages (from gensim->pyLDAvis) (6.3.0)\n",
            "Requirement already satisfied: MarkupSafe>=0.23 in /usr/local/lib/python3.8/dist-packages (from jinja2->pyLDAvis) (2.0.1)\n",
            "Requirement already satisfied: threadpoolctl>=2.0.0 in /usr/local/lib/python3.8/dist-packages (from scikit-learn->pyLDAvis) (3.1.0)\n",
            "Building wheels for collected packages: pyLDAvis, sklearn\n",
            "  Building wheel for pyLDAvis (pyproject.toml) ... \u001b[?25l\u001b[?25hdone\n",
            "  Created wheel for pyLDAvis: filename=pyLDAvis-3.3.1-py2.py3-none-any.whl size=136898 sha256=66329d02c761f41c0f57cdf1fa2b2d46621c31a958794e043e7f2ff6725b58bd\n",
            "  Stored in directory: /root/.cache/pip/wheels/90/61/ec/9dbe9efc3acf9c4e37ba70fbbcc3f3a0ebd121060aa593181a\n",
            "  Building wheel for sklearn (setup.py) ... \u001b[?25l\u001b[?25hdone\n",
            "  Created wheel for sklearn: filename=sklearn-0.0.post1-py3-none-any.whl size=2344 sha256=049e5bd3fcc5dbf824f078a6c5aab6c109a5844cf89c62bdc540bf91a583bcd4\n",
            "  Stored in directory: /root/.cache/pip/wheels/14/25/f7/1cc0956978ae479e75140219088deb7a36f60459df242b1a72\n",
            "Successfully built pyLDAvis sklearn\n",
            "Installing collected packages: sklearn, funcy, pyLDAvis\n",
            "Successfully installed funcy-1.18 pyLDAvis-3.3.1 sklearn-0.0.post1\n"
          ]
        }
      ]
    },
    {
      "cell_type": "code",
      "execution_count": null,
      "id": "a218df60",
      "metadata": {
        "colab": {
          "base_uri": "https://localhost:8080/"
        },
        "id": "a218df60",
        "outputId": "2f261943-2271-4598-837a-ccd20a6125cc"
      },
      "outputs": [
        {
          "output_type": "stream",
          "name": "stderr",
          "text": [
            "[nltk_data] Downloading package brown to /root/nltk_data...\n",
            "[nltk_data]   Package brown is already up-to-date!\n"
          ]
        },
        {
          "output_type": "execute_result",
          "data": {
            "text/plain": [
              "True"
            ]
          },
          "metadata": {},
          "execution_count": 47
        }
      ],
      "source": [
        "# add any additional libaries you need here\n",
        "import nltk\n",
        "nltk.download('brown')\n"
      ]
    },
    {
      "cell_type": "code",
      "execution_count": null,
      "id": "a85bce08",
      "metadata": {
        "id": "a85bce08"
      },
      "outputs": [],
      "source": [
        "# These libraries may be useful to you\n",
        "\n",
        "from nltk.corpus import brown\n",
        "\n",
        "import numpy as np\n",
        "import pandas as pd\n",
        "from tqdm.auto import tqdm\n",
        "\n",
        "import pyLDAvis\n",
        "import pyLDAvis.sklearn\n",
        "import pyLDAvis.gensim_models\n",
        "\n",
        "import spacy\n",
        "from sklearn.feature_extraction.text import TfidfVectorizer, CountVectorizer\n",
        "from sklearn.decomposition import NMF, TruncatedSVD, LatentDirichletAllocation\n",
        "\n",
        "from spacy.lang.en.stop_words import STOP_WORDS as stopwords\n",
        "\n",
        "from collections import Counter, defaultdict\n",
        "\n",
        "nlp = spacy.load('en_core_web_sm')"
      ]
    },
    {
      "cell_type": "code",
      "execution_count": null,
      "id": "494de237",
      "metadata": {
        "id": "494de237"
      },
      "outputs": [],
      "source": [
        "# This function comes from the BTAP repo.\n",
        "\n",
        "def display_topics(model, features, no_top_words=5):\n",
        "    for topic, words in enumerate(model.components_):\n",
        "        total = words.sum()\n",
        "        largest = words.argsort()[::-1] # invert sort order\n",
        "        print(\"\\nTopic %02d\" % topic)\n",
        "        for i in range(0, no_top_words):\n",
        "            print(\"  %s (%2.2f)\" % (features[largest[i]], abs(words[largest[i]]*100.0/total)))"
      ]
    },
    {
      "cell_type": "markdown",
      "id": "a30a901c",
      "metadata": {
        "id": "a30a901c"
      },
      "source": [
        "## Getting to Know the Brown Corpus\n",
        "\n",
        "Let's spend a bit of time getting to know what's in the Brown corpus, our NLTK example of an \"overlapping\" corpus."
      ]
    },
    {
      "cell_type": "code",
      "execution_count": null,
      "id": "457c59ed",
      "metadata": {
        "colab": {
          "base_uri": "https://localhost:8080/"
        },
        "id": "457c59ed",
        "outputId": "aa3df804-7d49-4934-9d98-4ef4d716d88f"
      },
      "outputs": [
        {
          "output_type": "stream",
          "name": "stdout",
          "text": [
            "For adventure we have 29 articles.\n",
            "For belles_lettres we have 75 articles.\n",
            "For editorial we have 27 articles.\n",
            "For fiction we have 29 articles.\n",
            "For government we have 30 articles.\n",
            "For hobbies we have 36 articles.\n",
            "For humor we have 9 articles.\n",
            "For learned we have 80 articles.\n",
            "For lore we have 48 articles.\n",
            "For mystery we have 24 articles.\n",
            "For news we have 44 articles.\n",
            "For religion we have 17 articles.\n",
            "For reviews we have 17 articles.\n",
            "For romance we have 29 articles.\n",
            "For science_fiction we have 6 articles.\n"
          ]
        }
      ],
      "source": [
        "# categories of articles in Brown corpus\n",
        "for category in brown.categories() :\n",
        "    print(f\"For {category} we have {len(brown.fileids(categories=category))} articles.\")"
      ]
    },
    {
      "cell_type": "markdown",
      "id": "23fb133c",
      "metadata": {
        "id": "23fb133c"
      },
      "source": [
        "Let's create a dataframe of the articles in of hobbies, editorial, government, news, and romance."
      ]
    },
    {
      "cell_type": "code",
      "execution_count": null,
      "id": "18f50b9d",
      "metadata": {
        "colab": {
          "base_uri": "https://localhost:8080/"
        },
        "id": "18f50b9d",
        "outputId": "a10e5760-727d-4dda-ee4a-e4ef9f6b08de"
      },
      "outputs": [
        {
          "output_type": "execute_result",
          "data": {
            "text/plain": [
              "(166, 3)"
            ]
          },
          "metadata": {},
          "execution_count": 51
        }
      ],
      "source": [
        "categories = ['editorial','government','news','romance','hobbies'] \n",
        "\n",
        "category_list = []\n",
        "file_ids = []\n",
        "texts = []\n",
        "\n",
        "for category in categories : \n",
        "    for file_id in brown.fileids(categories=category) :\n",
        "        \n",
        "        # build some lists for a dataframe\n",
        "        category_list.append(category)\n",
        "        file_ids.append(file_id)\n",
        "        \n",
        "        text = brown.words(fileids=file_id)\n",
        "        texts.append(\" \".join(text))\n",
        "\n",
        "        \n",
        "        \n",
        "df = pd.DataFrame()\n",
        "df['category'] = category_list\n",
        "df['id'] = file_ids\n",
        "df['text'] = texts \n",
        "\n",
        "df.shape"
      ]
    },
    {
      "cell_type": "code",
      "execution_count": null,
      "id": "586f47de",
      "metadata": {
        "id": "586f47de"
      },
      "outputs": [],
      "source": [
        "# Let's add some helpful columns on the df\n",
        "df['char_len'] = df['text'].apply(len)\n",
        "df['word_len'] = df['text'].apply(lambda x: len(x.split()))\n"
      ]
    },
    {
      "cell_type": "code",
      "execution_count": null,
      "id": "2128fd2d",
      "metadata": {
        "colab": {
          "base_uri": "https://localhost:8080/",
          "height": 456
        },
        "id": "2128fd2d",
        "outputId": "7c67a56d-3b9f-46bb-c2c5-6a49ffa18ec5"
      },
      "outputs": [
        {
          "output_type": "execute_result",
          "data": {
            "text/plain": [
              "<matplotlib.axes._subplots.AxesSubplot at 0x7f2779ef7580>"
            ]
          },
          "metadata": {},
          "execution_count": 53
        },
        {
          "output_type": "display_data",
          "data": {
            "text/plain": [
              "<Figure size 720x432 with 1 Axes>"
            ],
            "image/png": "[encoded data removed]"
          },
          "metadata": {
            "needs_background": "light"
          }
        }
      ],
      "source": [
        "%matplotlib inline\n",
        "df.groupby('category').agg({'word_len': 'mean'}).plot.bar(figsize=(10,6))"
      ]
    },
    {
      "cell_type": "markdown",
      "id": "554ffeb5",
      "metadata": {
        "id": "554ffeb5"
      },
      "source": [
        "Now do our TF-IDF and Count vectorizations."
      ]
    },
    {
      "cell_type": "code",
      "execution_count": null,
      "id": "21a7d247",
      "metadata": {
        "colab": {
          "base_uri": "https://localhost:8080/"
        },
        "id": "21a7d247",
        "outputId": "ab626d65-8391-4360-a904-36e54fb3bd32"
      },
      "outputs": [
        {
          "output_type": "stream",
          "name": "stderr",
          "text": [
            "/usr/local/lib/python3.8/dist-packages/sklearn/feature_extraction/text.py:396: UserWarning: Your stop_words may be inconsistent with your preprocessing. Tokenizing the stop words generated tokens ['ll', 've'] not in stop_words.\n",
            "  warnings.warn(\n"
          ]
        },
        {
          "output_type": "execute_result",
          "data": {
            "text/plain": [
              "(166, 4941)"
            ]
          },
          "metadata": {},
          "execution_count": 54
        }
      ],
      "source": [
        "count_text_vectorizer = CountVectorizer(stop_words=stopwords, min_df=5, max_df=0.7)\n",
        "count_text_vectors = count_text_vectorizer.fit_transform(df[\"text\"])\n",
        "count_text_vectors.shape"
      ]
    },
    {
      "cell_type": "code",
      "execution_count": null,
      "id": "875deba9",
      "metadata": {
        "colab": {
          "base_uri": "https://localhost:8080/"
        },
        "id": "875deba9",
        "outputId": "0e025b6f-d06c-4c0f-a4d5-4e0f57bd66b8"
      },
      "outputs": [
        {
          "output_type": "execute_result",
          "data": {
            "text/plain": [
              "(166, 4941)"
            ]
          },
          "metadata": {},
          "execution_count": 55
        }
      ],
      "source": [
        "tfidf_text_vectorizer = TfidfVectorizer(stop_words=stopwords, min_df=5, max_df=0.7)\n",
        "tfidf_text_vectors = tfidf_text_vectorizer.fit_transform(df['text'])\n",
        "tfidf_text_vectors.shape"
      ]
    },
    {
      "cell_type": "markdown",
      "id": "a1062b21",
      "metadata": {
        "id": "a1062b21"
      },
      "source": [
        "Q: What do the two data frames `count_text_vectors` and `tfidf_text_vectors` hold? \n",
        "\n",
        "A: they hold the number of words occured in each topic "
      ]
    },
    {
      "cell_type": "markdown",
      "id": "f77c3f94",
      "metadata": {
        "id": "f77c3f94"
      },
      "source": [
        "## Fitting a Non-Negative Matrix Factorization Model\n",
        "\n",
        "In this section the code to fit a five-topic NMF model has already been written. This code comes directly from the [BTAP repo](https://github.com/blueprints-for-text-analytics-python/blueprints-text), which will help you tremendously in the coming sections. "
      ]
    },
    {
      "cell_type": "code",
      "execution_count": null,
      "id": "d28745a3",
      "metadata": {
        "colab": {
          "base_uri": "https://localhost:8080/"
        },
        "id": "d28745a3",
        "outputId": "10c6e91b-887f-40a9-c74a-bf3d8c42a0ec"
      },
      "outputs": [
        {
          "output_type": "stream",
          "name": "stderr",
          "text": [
            "/usr/local/lib/python3.8/dist-packages/sklearn/decomposition/_nmf.py:289: FutureWarning: The 'init' value, when 'init=None' and n_components is less than n_samples and n_features, will be changed from 'nndsvd' to 'nndsvda' in 1.1 (renaming of 0.26).\n",
            "  warnings.warn(\n"
          ]
        }
      ],
      "source": [
        "nmf_text_model = NMF(n_components=5, random_state=314)\n",
        "W_text_matrix = nmf_text_model.fit_transform(tfidf_text_vectors)\n",
        "H_text_matrix = nmf_text_model.components_"
      ]
    },
    {
      "cell_type": "code",
      "execution_count": null,
      "id": "a67185e7",
      "metadata": {
        "colab": {
          "base_uri": "https://localhost:8080/"
        },
        "id": "a67185e7",
        "outputId": "d301b665-6bee-4f58-c8e3-492b091d2a80"
      },
      "outputs": [
        {
          "output_type": "stream",
          "name": "stdout",
          "text": [
            "\n",
            "Topic 00\n",
            "  mr (0.51)\n",
            "  president (0.45)\n",
            "  kennedy (0.43)\n",
            "  united (0.42)\n",
            "  khrushchev (0.40)\n",
            "\n",
            "Topic 01\n",
            "  said (0.88)\n",
            "  didn (0.46)\n",
            "  ll (0.45)\n",
            "  thought (0.42)\n",
            "  man (0.37)\n",
            "\n",
            "Topic 02\n",
            "  state (0.40)\n",
            "  development (0.36)\n",
            "  tax (0.33)\n",
            "  sales (0.30)\n",
            "  program (0.25)\n",
            "\n",
            "Topic 03\n",
            "  mrs (2.61)\n",
            "  mr (0.78)\n",
            "  said (0.64)\n",
            "  miss (0.52)\n",
            "  car (0.51)\n",
            "\n",
            "Topic 04\n",
            "  game (1.01)\n",
            "  league (0.74)\n",
            "  ball (0.72)\n",
            "  baseball (0.71)\n",
            "  team (0.66)\n"
          ]
        },
        {
          "output_type": "stream",
          "name": "stderr",
          "text": [
            "/usr/local/lib/python3.8/dist-packages/sklearn/utils/deprecation.py:87: FutureWarning: Function get_feature_names is deprecated; get_feature_names is deprecated in 1.0 and will be removed in 1.2. Please use get_feature_names_out instead.\n",
            "  warnings.warn(msg, category=FutureWarning)\n"
          ]
        }
      ],
      "source": [
        "display_topics(nmf_text_model, tfidf_text_vectorizer.get_feature_names())"
      ]
    },
    {
      "cell_type": "markdown",
      "id": "fee51e9b",
      "metadata": {
        "id": "fee51e9b"
      },
      "source": [
        "Now some work for you to do. Compare the NMF factorization to the original categories from the Brown Corpus.\n",
        "\n",
        "We are interested in the extent to which our NMF factorization agrees or disagrees with the original categories in the corpus. For each topic in your NMF model, tally the Brown categories and interpret the results. \n"
      ]
    },
    {
      "cell_type": "code",
      "execution_count": 58,
      "id": "7c8c8eb0",
      "metadata": {
        "colab": {
          "base_uri": "https://localhost:8080/"
        },
        "id": "7c8c8eb0",
        "outputId": "c707a80e-ccac-4adc-c68d-0e3519fdef5f"
      },
      "outputs": [
        {
          "output_type": "execute_result",
          "data": {
            "text/plain": [
              "array([18.17705433, 25.86545606, 29.54609649, 14.40020472, 12.0111884 ])"
            ]
          },
          "metadata": {},
          "execution_count": 58
        }
      ],
      "source": [
        "# Your code here\n",
        "#seeing if there any outliers \n",
        "W_text_matrix.sum(axis=0)/W_text_matrix.sum()*100.0\n"
      ]
    },
    {
      "cell_type": "code",
      "source": [
        "#saving the matrix of the new topic \n",
        "df[\"nmf_topic\"] = np.argmax(W_text_matrix, axis = 1).astype(str)"
      ],
      "metadata": {
        "id": "pIBn8qpMV7Wl"
      },
      "id": "pIBn8qpMV7Wl",
      "execution_count": 75,
      "outputs": []
    },
    {
      "cell_type": "code",
      "source": [
        "#for loop that count the unique topic \n",
        "for label in df['nmf_topic'].unique():\n",
        "    print(f\"topic {label} observes original label counts of:\")\n",
        "    print(df[df['nmf_topic'] == label]['category'].value_counts())\n",
        "    print()"
      ],
      "metadata": {
        "colab": {
          "base_uri": "https://localhost:8080/"
        },
        "id": "KuOAK2iKkYby",
        "outputId": "ffb477d3-a236-4ab6-c719-ddc7f534cc97"
      },
      "id": "KuOAK2iKkYby",
      "execution_count": 76,
      "outputs": [
        {
          "output_type": "stream",
          "name": "stdout",
          "text": [
            "topic 2 observes original label counts of:\n",
            "government    26\n",
            "hobbies       26\n",
            "news          11\n",
            "editorial      2\n",
            "Name: category, dtype: int64\n",
            "\n",
            "topic 0 observes original label counts of:\n",
            "editorial     20\n",
            "news           8\n",
            "government     4\n",
            "Name: category, dtype: int64\n",
            "\n",
            "topic 1 observes original label counts of:\n",
            "romance      29\n",
            "hobbies       8\n",
            "editorial     4\n",
            "Name: category, dtype: int64\n",
            "\n",
            "topic 4 observes original label counts of:\n",
            "news         8\n",
            "editorial    1\n",
            "hobbies      1\n",
            "Name: category, dtype: int64\n",
            "\n",
            "topic 3 observes original label counts of:\n",
            "news       17\n",
            "hobbies     1\n",
            "Name: category, dtype: int64\n",
            "\n"
          ]
        }
      ]
    },
    {
      "cell_type": "markdown",
      "id": "f8d4e2bc",
      "metadata": {
        "id": "f8d4e2bc"
      },
      "source": [
        "Q: How does your five-topic NMF model compare to the original Brown categories? \n",
        "\n",
        "A: <!-- Your answer here --> it seem that they inly agree on the news and hobbies but the other's they disagree "
      ]
    },
    {
      "cell_type": "markdown",
      "id": "82e37cb5",
      "metadata": {
        "id": "82e37cb5"
      },
      "source": [
        "## Fitting an LSA Model\n",
        "\n",
        "In this section, follow the example from the repository and fit an LSA model (called a \"TruncatedSVD\" in `sklearn`). Again fit a five-topic model and compare it to the actual categories in the Brown corpus. Use the TF-IDF vectors for your fit, as above. \n",
        "\n",
        "To be explicit, we are once again interested in the extent to which this LSA factorization agrees or disagrees with the original categories in the corpus. For each topic in your model, tally the Brown categories and interpret the results. \n"
      ]
    },
    {
      "cell_type": "code",
      "execution_count": 63,
      "id": "00b53d3d",
      "metadata": {
        "id": "00b53d3d"
      },
      "outputs": [],
      "source": [
        "# Your code here\n",
        "#creating the SVD model\n",
        "from sklearn.decomposition import TruncatedSVD\n",
        "svd_text_model = TruncatedSVD(n_components = 10, random_state=42)"
      ]
    },
    {
      "cell_type": "code",
      "source": [
        "#creating the matrix \n",
        "W_svd_text_matrix = svd_text_model.fit_transform(tfidf_text_vectors)\n",
        "H_svd_text_matrix = svd_text_model.components_"
      ],
      "metadata": {
        "id": "FC3j2jsYhEaz"
      },
      "id": "FC3j2jsYhEaz",
      "execution_count": 64,
      "outputs": []
    },
    {
      "cell_type": "code",
      "source": [
        "#saving the matrix of the new topic \n",
        "df[\"svd_topic\"] = np.argmax(W_svd_text_matrix, axis = 1).astype(str)"
      ],
      "metadata": {
        "id": "YMDx5TlCoSPt"
      },
      "id": "YMDx5TlCoSPt",
      "execution_count": 65,
      "outputs": []
    },
    {
      "cell_type": "code",
      "source": [
        "#for loop that count the unique topic \n",
        "for label in df['svd_topic'].unique():\n",
        "    print(f\"topic {label} observes original label counts of:\")\n",
        "    print(df[df['svd_topic'] == label]['category'].value_counts())\n",
        "    print()"
      ],
      "metadata": {
        "id": "czGlagnBh12a",
        "colab": {
          "base_uri": "https://localhost:8080/"
        },
        "outputId": "952d192b-5287-447e-ea9a-c13c94ce227f"
      },
      "id": "czGlagnBh12a",
      "execution_count": 66,
      "outputs": [
        {
          "output_type": "stream",
          "name": "stdout",
          "text": [
            "topic 0 observes original label counts of:\n",
            "news          33\n",
            "hobbies       33\n",
            "editorial     27\n",
            "romance       21\n",
            "government    15\n",
            "Name: category, dtype: int64\n",
            "\n",
            "topic 8 observes original label counts of:\n",
            "government    6\n",
            "Name: category, dtype: int64\n",
            "\n",
            "topic 9 observes original label counts of:\n",
            "government    5\n",
            "Name: category, dtype: int64\n",
            "\n",
            "topic 7 observes original label counts of:\n",
            "government    2\n",
            "hobbies       1\n",
            "Name: category, dtype: int64\n",
            "\n",
            "topic 6 observes original label counts of:\n",
            "government    2\n",
            "news          1\n",
            "hobbies       1\n",
            "Name: category, dtype: int64\n",
            "\n",
            "topic 4 observes original label counts of:\n",
            "news    7\n",
            "Name: category, dtype: int64\n",
            "\n",
            "topic 3 observes original label counts of:\n",
            "news    3\n",
            "Name: category, dtype: int64\n",
            "\n",
            "topic 1 observes original label counts of:\n",
            "romance    8\n",
            "Name: category, dtype: int64\n",
            "\n",
            "topic 5 observes original label counts of:\n",
            "hobbies    1\n",
            "Name: category, dtype: int64\n",
            "\n"
          ]
        }
      ]
    },
    {
      "cell_type": "markdown",
      "id": "4d94d56f",
      "metadata": {
        "id": "4d94d56f"
      },
      "source": [
        "Q: How does your five-topic LSA model compare to the original Brown categories? \n",
        "\n",
        "A: <!-- Your answer here --> they a gree on the goverment for the most part but for the rest it seem that they give no importance "
      ]
    },
    {
      "cell_type": "code",
      "execution_count": 74,
      "id": "377a886e",
      "metadata": {
        "colab": {
          "base_uri": "https://localhost:8080/"
        },
        "id": "377a886e",
        "outputId": "18e777cb-802a-4034-9182-c08e8870132f"
      },
      "outputs": [
        {
          "output_type": "stream",
          "name": "stdout",
          "text": [
            "\n",
            "Topic 00\n",
            "  said (0.44)\n",
            "  mr (0.25)\n",
            "  mrs (0.22)\n",
            "  state (0.20)\n",
            "  man (0.17)\n",
            "\n",
            "Topic 01\n",
            "  said (3.89)\n",
            "  ll (2.73)\n",
            "  didn (2.63)\n",
            "  thought (2.20)\n",
            "  got (1.97)\n",
            "\n",
            "Topic 02\n",
            "  mrs (3.14)\n",
            "  mr (1.73)\n",
            "  said (1.06)\n",
            "  kennedy (0.82)\n",
            "  laos (0.78)\n",
            "\n",
            "Topic 03\n",
            "  mrs (29.99)\n",
            "  club (6.67)\n",
            "  game (6.21)\n",
            "  jr (5.71)\n",
            "  dallas (5.47)\n",
            "\n",
            "Topic 04\n",
            "  game (4.46)\n",
            "  league (3.20)\n",
            "  baseball (3.18)\n",
            "  ball (3.02)\n",
            "  team (2.91)\n",
            "\n",
            "Topic 05\n",
            "  mrs (4.51)\n",
            "  music (1.15)\n",
            "  af (1.09)\n",
            "  khrushchev (1.04)\n",
            "  miss (0.98)\n",
            "\n",
            "Topic 06\n",
            "  faculty (184.24)\n",
            "  college (178.80)\n",
            "  student (139.55)\n",
            "  shall (123.17)\n",
            "  university (114.98)\n",
            "\n",
            "Topic 07\n",
            "  mrs (10.11)\n",
            "  sales (5.92)\n",
            "  marketing (4.33)\n",
            "  billion (4.33)\n",
            "  business (4.01)\n",
            "\n",
            "Topic 08\n",
            "  state (26.37)\n",
            "  states (18.26)\n",
            "  united (16.73)\n",
            "  shall (15.81)\n",
            "  mrs (15.67)\n",
            "\n",
            "Topic 09\n",
            "  shall (19.61)\n",
            "  united (17.02)\n",
            "  board (14.47)\n",
            "  states (11.02)\n",
            "  court (10.58)\n"
          ]
        }
      ],
      "source": [
        "# call display_topics on your model\n",
        "display_topics(svd_text_model, tfidf_text_vectorizer.get_feature_names())"
      ]
    },
    {
      "cell_type": "markdown",
      "id": "ea8b280a",
      "metadata": {
        "id": "ea8b280a"
      },
      "source": [
        "Q: What is your interpretation of the display topics output? \n",
        "\n",
        "A: there a lot more topic SVD model, spliting each paragraph more into there own topic, making more words "
      ]
    },
    {
      "cell_type": "markdown",
      "id": "b4ab4d29",
      "metadata": {
        "id": "b4ab4d29"
      },
      "source": [
        "## Fitting an LDA Model\n",
        "\n",
        "Finally, fit a five-topic LDA model using the count vectors (`count_text_vectors` from above). Display the results using `pyLDAvis.display` and describe what you learn from that visualization. "
      ]
    },
    {
      "cell_type": "code",
      "execution_count": 67,
      "id": "802cb8ff",
      "metadata": {
        "id": "802cb8ff"
      },
      "outputs": [],
      "source": [
        "# Fit your LDA model here\n",
        "from sklearn.decomposition import LatentDirichletAllocation\n",
        "\n",
        "lda_text_model = LatentDirichletAllocation(n_components = 10, random_state=42)"
      ]
    },
    {
      "cell_type": "code",
      "source": [
        "#creating the matrix \n",
        "W_lda_text_matrix = lda_text_model.fit_transform(count_text_vectors)\n",
        "H_lda_text_matrix = lda_text_model.components_"
      ],
      "metadata": {
        "id": "WIvR6rQfkIht"
      },
      "id": "WIvR6rQfkIht",
      "execution_count": 68,
      "outputs": []
    },
    {
      "cell_type": "code",
      "source": [
        "#saving the matrix of the new topic \n",
        "df[\"lda_topic\"] = np.argmax(W_lda_text_matrix, axis = 1).astype(str)"
      ],
      "metadata": {
        "id": "zENKn6GzorGm"
      },
      "id": "zENKn6GzorGm",
      "execution_count": 69,
      "outputs": []
    },
    {
      "cell_type": "code",
      "source": [
        "#for loop that count the unique topic \n",
        "for label in df['lda_topic'].unique():\n",
        "    print(f\"topic {label} observes original label counts of:\")\n",
        "    print(df[df['lda_topic'] == label]['category'].value_counts())\n",
        "    print()"
      ],
      "metadata": {
        "colab": {
          "base_uri": "https://localhost:8080/"
        },
        "id": "C1WhLjzFoq1q",
        "outputId": "39753d24-e952-4f2a-a310-9ec33f4cd543"
      },
      "id": "C1WhLjzFoq1q",
      "execution_count": 70,
      "outputs": [
        {
          "output_type": "stream",
          "name": "stdout",
          "text": [
            "topic 8 observes original label counts of:\n",
            "editorial     15\n",
            "news          12\n",
            "government    11\n",
            "romance        1\n",
            "hobbies        1\n",
            "Name: category, dtype: int64\n",
            "\n",
            "topic 5 observes original label counts of:\n",
            "romance       20\n",
            "news          11\n",
            "hobbies        8\n",
            "editorial      5\n",
            "government     1\n",
            "Name: category, dtype: int64\n",
            "\n",
            "topic 1 observes original label counts of:\n",
            "government    3\n",
            "hobbies       3\n",
            "editorial     2\n",
            "news          1\n",
            "Name: category, dtype: int64\n",
            "\n",
            "topic 2 observes original label counts of:\n",
            "editorial     5\n",
            "government    3\n",
            "news          3\n",
            "hobbies       2\n",
            "Name: category, dtype: int64\n",
            "\n",
            "topic 9 observes original label counts of:\n",
            "government    4\n",
            "hobbies       4\n",
            "Name: category, dtype: int64\n",
            "\n",
            "topic 7 observes original label counts of:\n",
            "government    5\n",
            "hobbies       5\n",
            "news          1\n",
            "Name: category, dtype: int64\n",
            "\n",
            "topic 4 observes original label counts of:\n",
            "romance       6\n",
            "government    2\n",
            "Name: category, dtype: int64\n",
            "\n",
            "topic 6 observes original label counts of:\n",
            "news          9\n",
            "government    1\n",
            "hobbies       1\n",
            "Name: category, dtype: int64\n",
            "\n",
            "topic 0 observes original label counts of:\n",
            "hobbies    11\n",
            "news        7\n",
            "Name: category, dtype: int64\n",
            "\n",
            "topic 3 observes original label counts of:\n",
            "romance    2\n",
            "hobbies    1\n",
            "Name: category, dtype: int64\n",
            "\n"
          ]
        }
      ]
    },
    {
      "cell_type": "code",
      "execution_count": 71,
      "id": "ab18adf5",
      "metadata": {
        "colab": {
          "base_uri": "https://localhost:8080/"
        },
        "id": "ab18adf5",
        "outputId": "bad88c36-3905-4880-8c1a-3fa7f1ccfde3"
      },
      "outputs": [
        {
          "output_type": "stream",
          "name": "stdout",
          "text": [
            "\n",
            "Topic 00\n",
            "  clay (0.54)\n",
            "  game (0.47)\n",
            "  place (0.45)\n",
            "  cut (0.45)\n",
            "  home (0.44)\n",
            "\n",
            "Topic 01\n",
            "  pool (0.77)\n",
            "  use (0.71)\n",
            "  national (0.70)\n",
            "  area (0.57)\n",
            "  good (0.56)\n",
            "\n",
            "Topic 02\n",
            "  million (0.60)\n",
            "  military (0.57)\n",
            "  sales (0.54)\n",
            "  aircraft (0.54)\n",
            "  equipment (0.50)\n",
            "\n",
            "Topic 03\n",
            "  feed (3.04)\n",
            "  said (1.47)\n",
            "  head (1.08)\n",
            "  meeting (0.94)\n",
            "  daily (0.91)\n",
            "\n",
            "Topic 04\n",
            "  said (1.83)\n",
            "  sam (0.67)\n",
            "  eyes (0.63)\n",
            "  thought (0.63)\n",
            "  little (0.58)\n",
            "\n",
            "Topic 05\n",
            "  mrs (1.05)\n",
            "  said (0.88)\n",
            "  old (0.67)\n",
            "  mr (0.56)\n",
            "  man (0.56)\n",
            "\n",
            "Topic 06\n",
            "  said (2.73)\n",
            "  board (0.85)\n",
            "  000 (0.66)\n",
            "  court (0.56)\n",
            "  county (0.55)\n",
            "\n",
            "Topic 07\n",
            "  state (1.08)\n",
            "  medical (0.75)\n",
            "  shelter (0.68)\n",
            "  program (0.53)\n",
            "  service (0.53)\n",
            "\n",
            "Topic 08\n",
            "  state (0.85)\n",
            "  united (0.78)\n",
            "  states (0.72)\n",
            "  government (0.70)\n",
            "  president (0.67)\n",
            "\n",
            "Topic 09\n",
            "  fiscal (1.00)\n",
            "  property (0.86)\n",
            "  island (0.69)\n",
            "  tax (0.69)\n",
            "  state (0.61)\n"
          ]
        },
        {
          "output_type": "stream",
          "name": "stderr",
          "text": [
            "/usr/local/lib/python3.8/dist-packages/sklearn/utils/deprecation.py:87: FutureWarning: Function get_feature_names is deprecated; get_feature_names is deprecated in 1.0 and will be removed in 1.2. Please use get_feature_names_out instead.\n",
            "  warnings.warn(msg, category=FutureWarning)\n"
          ]
        }
      ],
      "source": [
        "# Call `display_topics` on your fitted model here\n",
        "display_topics(lda_text_model, count_text_vectorizer.get_feature_names())"
      ]
    },
    {
      "cell_type": "markdown",
      "id": "f2c67876",
      "metadata": {
        "id": "f2c67876"
      },
      "source": [
        "Q: What inference do you draw from the displayed topics for your LDA model? \n",
        "\n",
        "A: <!-- Your answer here -->  that it split the paragraph  more making different topics that are to related to each other. there is some key words that repeat \n",
        "\n",
        "Q: Repeat the tallying of Brown categories within your topics. How does your five-topic LDA model compare to the original Brown categories? \n",
        "\n",
        "A: <!-- Your answer here --> it got the news, goverment correct but missing editorial for majority of them "
      ]
    },
    {
      "cell_type": "code",
      "execution_count": 72,
      "id": "6aae75ca",
      "metadata": {
        "colab": {
          "base_uri": "https://localhost:8080/"
        },
        "id": "6aae75ca",
        "outputId": "d15d510d-4eaf-427f-b446-a6a1ffc27236"
      },
      "outputs": [
        {
          "output_type": "stream",
          "name": "stderr",
          "text": [
            "/usr/local/lib/python3.8/dist-packages/pyLDAvis/_prepare.py:246: FutureWarning: In a future version of pandas all arguments of DataFrame.drop except for the argument 'labels' will be keyword-only\n",
            "  default_term_info = default_term_info.sort_values(\n"
          ]
        }
      ],
      "source": [
        "lda_display = pyLDAvis.sklearn.prepare(lda_text_model, count_text_vectors, count_text_vectorizer, sort_topics=False)"
      ]
    },
    {
      "cell_type": "code",
      "execution_count": 73,
      "id": "2a89fc15",
      "metadata": {
        "colab": {
          "base_uri": "https://localhost:8080/",
          "height": 861
        },
        "id": "2a89fc15",
        "outputId": "b225a1d3-7f45-46a7-92dc-d535be08e43e"
      },
      "outputs": [
        {
          "output_type": "execute_result",
          "data": {
            "text/plain": [
              "<IPython.core.display.HTML object>"
            ],
            "text/html": [
              "\n",
              "<link rel=\"stylesheet\" type=\"text/css\" href=\"https://cdn.jsdelivr.net/gh/bmabey/pyLDAvis@3.3.1/pyLDAvis/js/ldavis.v1.0.0.css\">\n",
              "\n",
              "\n",
              "<div id=\"ldavis_el1071402586307883686205170253\"></div>\n",
              "<script type=\"text/javascript\">\n",
              "\n",
              "var ldavis_el1071402586307883686205170253_data = {\"mdsDat\": {\"x\": [-0.06732001541400298, 0.09806879941232646, 0.048207292251172706, -0.14824467107454337, -0.20819820444072304, -0.14794859638912883, 0.023076413666882935, 0.12874168459578306, 0.0945900093352572, 0.1790272880569761], \"y\": [0.11304463939683349, 0.035184187641208, 0.021949513897973647, 0.09869852915049408, -0.0506101076485089, -0.028966960821906557, -0.23740189315260105, 0.039522939956247165, -0.020900456023530023, 0.02947960760378984], \"topics\": [1, 2, 3, 4, 5, 6, 7, 8, 9, 10], \"cluster\": [1, 1, 1, 1, 1, 1, 1, 1, 1, 1], \"Freq\": [10.705424445485026, 6.551383891472108, 7.373821323214434, 1.9137788245195797, 5.897333698362171, 22.898239415294363, 6.713060310405616, 6.42335925961007, 25.379341989673886, 6.144256841962736]}, \"tinfo\": {\"Term\": [\"said\", \"mrs\", \"state\", \"feed\", \"head\", \"tax\", \"fiscal\", \"came\", \"meeting\", \"ll\", \"got\", \"united\", \"states\", \"didn\", \"board\", \"don\", \"property\", \"khrushchev\", \"mr\", \"service\", \"government\", \"island\", \"thought\", \"pool\", \"shall\", \"day\", \"come\", \"went\", \"program\", \"eyes\", \"leg\", \"player\", \"holes\", \"drill\", \"willie\", \"fig\", \"panels\", \"bowl\", \"muscles\", \"runs\", \"yards\", \"coach\", \"hole\", \"cooling\", \"smooth\", \"roof\", \"champions\", \"pennant\", \"transparent\", \"hits\", \"angle\", \"pinch\", \"yankees\", \"pitching\", \"clay\", \"lighter\", \"paste\", \"bull\", \"nut\", \"bats\", \"builder\", \"trim\", \"heating\", \"mays\", \"screw\", \"knee\", \"salt\", \"games\", \"lumber\", \"bars\", \"pieces\", \"cutting\", \"baseball\", \"game\", \"frame\", \"inch\", \"double\", \"cut\", \"team\", \"league\", \"piece\", \"ball\", \"hit\", \"run\", \"heat\", \"place\", \"sign\", \"season\", \"home\", \"right\", \"set\", \"use\", \"house\", \"don\", \"way\", \"good\", \"ll\", \"better\", \"work\", \"second\", \"forests\", \"faculty\", \"inexpensive\", \"wildlife\", \"pool\", \"forest\", \"employee\", \"foundation\", \"recreation\", \"substitute\", \"creative\", \"site\", \"lands\", \"attractions\", \"columns\", \"healthy\", \"eighty\", \"vacation\", \"rust\", \"clarity\", \"disease\", \"experiences\", \"restricted\", \"understandable\", \"professors\", \"centuries\", \"academic\", \"tyranny\", \"catholic\", \"liberty\", \"benefits\", \"roads\", \"acres\", \"insurance\", \"version\", \"features\", \"bible\", \"plants\", \"area\", \"quality\", \"plant\", \"national\", \"areas\", \"employees\", \"use\", \"land\", \"water\", \"miles\", \"good\", \"day\", \"work\", \"american\", \"system\", \"university\", \"island\", \"control\", \"need\", \"development\", \"life\", \"program\", \"men\", \"public\", \"missiles\", \"missile\", \"aircraft\", \"polaris\", \"rebel\", \"enemy\", \"railroads\", \"strategic\", \"railroad\", \"china\", \"missions\", \"weapons\", \"doctrine\", \"mobile\", \"submarines\", \"destroy\", \"procurement\", \"delegates\", \"billion\", \"terrain\", \"consumer\", \"plea\", \"enemies\", \"inventories\", \"destruction\", \"engines\", \"peaceful\", \"electronic\", \"threaten\", \"target\", \"52\", \"britain\", \"chinese\", \"nuclear\", \"khrushchev\", \"military\", \"million\", \"equipment\", \"sales\", \"shares\", \"congo\", \"forces\", \"soviet\", \"market\", \"army\", \"1960\", \"war\", \"west\", \"1959\", \"today\", \"world\", \"people\", \"security\", \"force\", \"industry\", \"1961\", \"american\", \"000\", \"program\", \"high\", \"president\", \"york\", \"said\", \"10\", \"feed\", \"cattle\", \"frames\", \"pitcher\", \"chemical\", \"fed\", \"shipping\", \"pound\", \"daily\", \"cloth\", \"fence\", \"ton\", \"caution\", \"premier\", \"treatment\", \"heater\", \"feeding\", \"stove\", \"sighed\", \"vienna\", \"animal\", \"plate\", \"pounds\", \"aids\", \"hell\", \"reducing\", \"pitch\", \"catastrophe\", \"shook\", \"negotiations\", \"efficiency\", \"khrushchev\", \"meeting\", \"head\", \"ball\", \"baby\", \"level\", \"started\", \"said\", \"weight\", \"room\", \"came\", \"got\", \"cold\", \"rate\", \"days\", \"don\", \"inch\", \"away\", \"day\", \"way\", \"ll\", \"come\", \"stared\", \"ugly\", \"anger\", \"asleep\", \"shouted\", \"smiling\", \"lips\", \"susan\", \"gross\", \"loved\", \"wildly\", \"sam\", \"hated\", \"sleep\", \"drank\", \"filing\", \"receiver\", \"waited\", \"evil\", \"cried\", \"stairs\", \"hesitate\", \"treasury\", \"touching\", \"dirty\", \"tongue\", \"blonde\", \"pete\", \"closet\", \"shame\", \"bottle\", \"rayburn\", \"payment\", \"knowing\", \"eyes\", \"voice\", \"knew\", \"extension\", \"stood\", \"return\", \"title\", \"felt\", \"didn\", \"thought\", \"wasn\", \"woman\", \"said\", \"shall\", \"dark\", \"went\", \"income\", \"suddenly\", \"let\", \"file\", \"little\", \"tax\", \"saw\", \"ll\", \"turned\", \"come\", \"face\", \"day\", \"asked\", \"good\", \"came\", \"going\", \"states\", \"place\", \"way\", \"life\", \"know\", \"united\", \"anne\", \"mrs\", \"dancing\", \"furniture\", \"bride\", \"motel\", \"symphony\", \"golden\", \"lane\", \"va\", \"restaurant\", \"paintings\", \"orange\", \"dad\", \"joan\", \"festival\", \"dear\", \"toes\", \"haired\", \"son\", \"knees\", \"cocktail\", \"loving\", \"sisters\", \"wearing\", \"supper\", \"shirt\", \"jane\", \"bare\", \"walker\", \"dinner\", \"miss\", \"girls\", \"wedding\", \"cousin\", \"old\", \"guests\", \"love\", \"junior\", \"church\", \"garden\", \"warren\", \"brown\", \"god\", \"isn\", \"mother\", \"george\", \"young\", \"father\", \"music\", \"john\", \"man\", \"shop\", \"children\", \"family\", \"know\", \"night\", \"street\", \"club\", \"white\", \"class\", \"little\", \"got\", \"mr\", \"said\", \"looked\", \"ve\", \"school\", \"don\", \"ll\", \"thought\", \"went\", \"home\", \"took\", \"way\", \"people\", \"good\", \"day\", \"world\", \"left\", \"came\", \"work\", \"come\", \"jury\", \"spokesman\", \"tractor\", \"62\", \"davis\", \"bonds\", \"witnesses\", \"trial\", \"exempt\", \"bond\", \"ballot\", \"recommendation\", \"patrolman\", \"avenue\", \"proceedings\", \"arrested\", \"legislators\", \"denied\", \"jail\", \"dallas\", \"hughes\", \"atlanta\", \"ave\", \"commissioner\", \"police\", \"gun\", \"appeals\", \"rep\", \"gifts\", \"bankers\", \"hearing\", \"texas\", \"appeal\", \"cent\", \"attorney\", \"friday\", \"board\", \"said\", \"county\", \"court\", \"yesterday\", \"bill\", \"university\", \"report\", \"election\", \"hospital\", \"fire\", \"monday\", \"000\", \"federal\", \"tax\", \"city\", \"school\", \"department\", \"12\", \"company\", \"state\", \"local\", \"home\", \"shelter\", \"00\", \"films\", \"workshops\", \"rehabilitation\", \"volumes\", \"ratio\", \"33\", \"library\", \"athletic\", \"vocational\", \"gallon\", \"virgin\", \"heel\", \"regions\", \"steadily\", \"boat\", \"knight\", \"36\", \"magazines\", \"formula\", \"shelters\", \"chamber\", \"curriculum\", \"engine\", \"host\", \"35\", \"models\", \"bulletin\", \"publications\", \"medical\", \"corps\", \"student\", \"organizations\", \"determine\", \"inches\", \"volume\", \"headquarters\", \"students\", \"college\", \"mile\", \"peace\", \"state\", \"art\", \"shooting\", \"service\", \"services\", \"program\", \"car\", \"association\", \"result\", \"states\", \"provide\", \"system\", \"available\", \"education\", \"000\", \"federal\", \"af\", \"work\", \"day\", \"republican\", \"eisenhower\", \"india\", \"democrats\", \"motors\", \"stockholders\", \"senator\", \"commodities\", \"democratic\", \"congressional\", \"presidential\", \"trucks\", \"warwick\", \"viet\", \"gop\", \"charter\", \"conservative\", \"rusk\", \"diplomatic\", \"collective\", \"capitol\", \"nam\", \"congressman\", \"hospitals\", \"deny\", \"acceptable\", \"hammarskjold\", \"coalition\", \"spokesmen\", \"deficit\", \"regulations\", \"nixon\", \"council\", \"kennedy\", \"administration\", \"political\", \"legislative\", \"united\", \"government\", \"economic\", \"nations\", \"trust\", \"vote\", \"foreign\", \"president\", \"article\", \"secretary\", \"states\", \"policy\", \"senate\", \"assistance\", \"general\", \"efforts\", \"business\", \"aid\", \"state\", \"labor\", \"public\", \"act\", \"communist\", \"mr\", \"industrial\", \"washington\", \"development\", \"department\", \"congress\", \"program\", \"american\", \"000\", \"shall\", \"city\", \"committee\", \"country\", \"world\", \"said\", \"people\", \"house\", \"interior\", \"allocation\", \"interference\", \"engineer\", \"towns\", \"measurements\", \"assessment\", \"engineers\", \"engineering\", \"stations\", \"bridge\", \"marketing\", \"adjustments\", \"accumulation\", \"tangible\", \"designers\", \"fiscal\", \"movements\", \"property\", \"technical\", \"uniform\", \"adjustment\", \"location\", \"objectives\", \"electronics\", \"municipalities\", \"precise\", \"chain\", \"reflected\", \"assignments\", \"provision\", \"designer\", \"management\", \"data\", \"bridges\", \"rhode\", \"island\", \"boats\", \"product\", \"cities\", \"research\", \"tax\", \"products\", \"techniques\", \"types\", \"service\", \"pressure\", \"local\", \"af\", \"number\", \"state\", \"problem\", \"town\", \"class\", \"company\", \"design\"], \"Freq\": [786.0, 309.0, 491.0, 84.0, 130.0, 177.0, 110.0, 159.0, 93.0, 165.0, 144.0, 305.0, 336.0, 123.0, 175.0, 175.0, 95.0, 68.0, 391.0, 205.0, 277.0, 119.0, 139.0, 76.0, 128.0, 299.0, 183.0, 136.0, 231.0, 96.0, 28.000604025388608, 46.28283229292229, 21.26508569121647, 31.84952868745778, 12.60508351460023, 29.65669534148921, 31.45840966367601, 11.642864425665872, 11.642793255060111, 37.504229048932515, 24.83751547390057, 21.240406049999287, 34.553872081206386, 34.29702975214586, 19.23647508384578, 26.675978136247842, 7.793989820665108, 7.793968203111182, 7.793682261809248, 14.529541492481622, 6.831753216698276, 6.831665574463951, 23.08364232785768, 12.605088594990475, 71.53819411819796, 5.869510296810656, 5.869472743514229, 5.869469819834191, 5.8694215179853115, 5.869418340426784, 21.756180438683103, 13.449537319861024, 19.219486912797553, 12.605087131336793, 15.059043314877936, 14.215365019409376, 16.434176240062754, 25.77727420755604, 25.11398141247112, 24.886252739844142, 41.95356684849441, 22.981401785160912, 30.50310960650171, 62.51769645168408, 30.120562189174308, 46.34042206906033, 30.989400569019242, 59.52454972877688, 38.52478187467385, 39.53192875372067, 39.52039321455947, 37.37007611324004, 34.246187239515166, 49.515317616882484, 28.637876976514306, 59.67588632528424, 33.1434323962644, 34.535558657053, 59.159464997874835, 52.32979612662687, 46.561221044140595, 50.942099829122135, 48.76663336773536, 43.94387887564795, 48.5139837091568, 45.39963396885047, 38.64135059440295, 36.278326816334335, 34.902648604180264, 33.581424274177444, 15.106770513463724, 43.9923513943851, 4.785345924826497, 14.16867378845388, 62.617567351370546, 33.12425956808177, 19.280162533370245, 25.212234435689698, 27.205964679491657, 6.420808990604303, 12.04283588661857, 38.59468071396444, 11.89470692372525, 4.785437006122675, 4.770220553305618, 5.422938058350038, 10.166283809495063, 26.995779552295033, 5.925568932746953, 6.5099546700234745, 10.235347116507524, 7.183412964531428, 3.870619340101246, 3.8467361757315577, 6.339937991092649, 3.751830857840083, 18.8352884449897, 3.619996831215299, 19.79827616114067, 5.920686501972939, 15.689776517183564, 24.968519025665483, 17.921980177456053, 19.156989339729154, 17.60202071557715, 18.050865561928386, 13.117254923314901, 18.334546452846016, 46.173599521634166, 20.05083192801334, 30.180486541129294, 56.995607622870324, 33.32124015612359, 21.58819350622252, 58.38013867795756, 26.725611659287022, 39.03971675095789, 23.162962511273673, 45.544098754767006, 36.49547125727995, 33.53102712833066, 33.17346456524561, 27.171864730706506, 26.04881160668454, 25.701803662730978, 22.8743191422368, 26.33614880073424, 27.83826272291111, 25.59666775630418, 25.669882739860157, 24.880967946214508, 23.401845739504672, 21.702932391459502, 35.739459412196204, 49.90629831145392, 6.670590916326115, 5.731053294527068, 12.13583345088393, 12.082655407051124, 14.8827995362284, 26.299626833255914, 26.763627652508955, 6.596635735010008, 24.957110514231445, 8.549655942405948, 11.368232548728857, 8.473291234638532, 19.339093175766543, 13.543972756684225, 9.47237593132449, 38.11806047172679, 4.605950242107069, 13.785544651941269, 4.558558663847004, 3.852004177808529, 5.152087117330302, 6.409629383275503, 7.610130902116043, 7.562565700111651, 17.418882437849152, 4.791564384749435, 14.272143719636114, 10.077684871018269, 13.304715024932294, 13.880822110385576, 39.72783600029325, 35.46540985165942, 52.46535865949438, 54.945550915312076, 46.16867713357771, 50.054018043400234, 19.21525310739903, 21.03210135876153, 34.379567656969414, 31.35336576290571, 35.03137036109117, 25.868388807521942, 40.057608510454905, 40.62279672404797, 30.86474164042882, 23.578788452852418, 34.118196485345514, 39.67033279268826, 40.20255169158612, 20.61135930129377, 24.02270448082436, 25.099870235855697, 25.76752654820329, 30.876282451941382, 30.531313950448524, 28.125032280981852, 27.588183993727398, 28.14668566106832, 26.01276828244512, 28.300812598095415, 25.47259279575656, 72.62144852949353, 14.62448297299764, 12.524902273834751, 8.21745059730876, 14.876711040299814, 7.563921051396811, 7.847781038288302, 11.670450461176811, 21.824264050379956, 6.179912122980957, 6.590236224110324, 5.77662668377991, 4.914529880519555, 9.649577618613831, 9.844679366493102, 4.149403827462796, 6.02890745279354, 3.2031263380264843, 2.8458627843585123, 5.952539440804289, 4.149407534149287, 4.149410178642194, 4.96301491988963, 5.776627730094021, 4.963016698044442, 5.7766302159327205, 2.5221710627953366, 1.6732316658820665, 2.4325929064095853, 4.92079323164034, 5.776632681865696, 17.688289745678468, 22.343690552453854, 25.826819039986635, 13.099110750006853, 8.500641314720967, 11.640570160869144, 9.555750291699187, 35.139723565707314, 8.307746977737562, 11.323885026359338, 13.436742862587145, 12.536359338463122, 9.066728976877007, 8.714169504723865, 10.459355144217403, 10.65480395990389, 8.441234671691694, 9.358807033080854, 10.830030659119467, 9.571758372953049, 8.947104316864902, 8.708120330227574, 13.289302272934146, 10.03879214525808, 8.632674299460463, 6.999145948426359, 10.529920096741904, 6.69861301864404, 8.632664714017315, 20.33949543472844, 16.50999661422811, 13.601911039077489, 5.644436283286465, 49.397257034274546, 4.856833238376494, 8.900803322446764, 8.248436332341313, 13.039962753845652, 6.735381555214221, 13.537991443389645, 7.360558316128322, 5.381803473120216, 8.012516342944188, 3.88942157449048, 18.83002761088283, 4.553472653853508, 3.8894256691445683, 9.738077707966246, 5.7697712929704394, 10.241371763321665, 5.6416741455203585, 5.651448871141931, 7.405086969328883, 28.542404016438315, 24.007209205902864, 10.7361848643333, 46.602738615002586, 25.287288730100997, 41.97545568148918, 12.28859910519222, 23.653294581658976, 30.798308193161233, 22.512467388657374, 37.389746018832454, 42.69405851742639, 46.5325536987566, 24.683018727328033, 23.640855462497687, 134.90149684886478, 39.118297065697135, 18.695546989999695, 39.70260010116299, 28.441835431982327, 18.72741597840124, 34.934910674127565, 20.930497190638146, 42.70707315336, 36.79188107523774, 26.67443714481928, 32.627745112947764, 23.937600286483644, 33.18797895549797, 25.381808665266902, 38.50953392445364, 26.856487031033765, 34.57620121222651, 28.052255083844436, 26.577314404980978, 29.256021595839087, 27.136137555608236, 27.840954527488257, 26.122225367957572, 26.06177227035051, 25.638511902659353, 34.57749442109822, 300.5407844440945, 20.785898659988863, 19.80062609263176, 17.830569940059725, 16.84541349503729, 16.801467855371236, 20.42511787178334, 13.889460426383883, 13.88744691461047, 13.870591844644323, 12.90498984476596, 12.892677636662132, 10.934763658585656, 10.93473797260909, 10.93473742517668, 10.934734636735765, 10.934732020725605, 10.934699744627663, 69.07858040682763, 9.9496038459762, 9.94959776009048, 9.949594197109983, 9.949565643461847, 13.507933160927333, 8.964505898620613, 8.96449942076445, 8.964500093968713, 8.964496467915938, 8.964468373140479, 30.177006510044365, 82.91029673625137, 35.40341090249911, 14.875234924970444, 23.74127687775866, 190.99905206472596, 27.47836441151438, 48.42791132566151, 52.023005992079554, 73.49748447333212, 24.220483016484383, 21.940874716597225, 74.62247984881277, 49.13498595755576, 35.43804828527988, 71.75270110709167, 40.787694321178584, 93.90148133340443, 47.1898656824343, 46.3430760407161, 106.54427953266021, 160.99304896052487, 28.54545876706426, 79.36746001872217, 80.3012165690194, 106.61943124735379, 89.19606315921583, 52.473168178659186, 70.01878516042908, 74.07415493624148, 64.50269828950606, 116.32975371847108, 81.39812403189666, 161.2780513220605, 250.44151177474058, 55.56389056706443, 54.81180779208259, 84.67461699271202, 85.0298650322643, 80.8561068679803, 72.95958049994242, 71.99342313118292, 100.50190366835305, 66.29926210550586, 96.00739650337555, 94.25571748414274, 98.69527304362886, 95.54646192163423, 90.06736153367059, 74.7364760441636, 74.6077694675588, 80.62794200538426, 74.24896816293474, 45.40994228884421, 8.758030150866665, 21.238240799922135, 5.882647595572333, 11.63016143623332, 27.817215471100567, 8.752129037493221, 29.655104535330373, 7.6343664493616235, 11.168804396888667, 7.335528129106289, 14.46033962263163, 5.1046867215829, 20.22761514479118, 5.730515147260519, 10.703068309461782, 10.00338929910373, 13.67074167025734, 7.485732343414212, 41.5480179705015, 17.42492853867645, 16.040026174428426, 9.200946661759204, 11.182487392993586, 31.479666822418384, 13.597597894496145, 8.447780895941193, 10.38058939840185, 3.8762266680865616, 7.648503637778802, 34.30727737510084, 36.84774977938816, 21.315547393543497, 41.486803450247585, 23.23152118806255, 25.610098544530963, 71.26760362562472, 228.4573875260719, 46.081672343981204, 46.999977471461314, 29.43010312645363, 38.5444775124252, 42.918965236056565, 34.468240708473296, 24.173473991476083, 26.752051166713123, 30.078438295203924, 25.22861393280286, 55.12231683181161, 32.99271129425706, 40.47780624322159, 42.38566174069989, 38.51117978415918, 36.54254362056359, 28.44476249127917, 32.71192644477247, 43.16284374618223, 28.841105792065573, 31.59257596506608, 54.60307630689376, 14.191202093327538, 5.732839948144261, 5.732833630860098, 14.79703096906416, 6.478401855188725, 15.025789595008, 9.216662355182686, 33.53883563791908, 9.492128075072333, 9.926198530143605, 7.612368533055805, 10.431890457579033, 10.536199745352071, 6.369958689693934, 3.8531462010127475, 27.67950452412079, 8.28839949114081, 18.890278058897582, 3.735987971911701, 24.204797408105417, 14.226630449137739, 17.978771819351525, 5.472195267140936, 18.816792438132982, 7.833123202411139, 15.923843317449506, 17.042881792807577, 9.932993300732516, 12.208030536217533, 60.40034688187953, 40.85461945354901, 39.879044540852355, 21.51267215586969, 25.551284293868672, 17.84332342278483, 22.42985748334015, 15.744258392755244, 28.648144633689416, 41.93899593960455, 18.747383505937574, 34.880747327539964, 86.10372438065777, 22.569730902245993, 16.044334723027, 42.50642067947769, 27.30445354217372, 42.78523642000585, 31.385641986353576, 23.874505002185746, 25.05975659774269, 39.436219299537356, 25.905245766226823, 26.410971771656374, 25.12209825373934, 22.86731181736094, 28.11745221105491, 23.14406974490577, 21.289332244293178, 24.875989063561306, 21.443511577988048, 39.2042467703355, 39.20423174320652, 37.24890788502076, 23.56165204514914, 45.07023581999501, 20.628658841076664, 20.598791572695806, 16.71802774536744, 58.45243135254935, 15.7403011019578, 14.762663034922209, 14.762633386384838, 13.784941777938634, 14.691828411721252, 12.807321245449732, 26.482362987887146, 12.765129762369273, 11.829709526331984, 11.829659322907576, 11.829658699940367, 11.829631367130169, 12.708075881715251, 10.85200086441, 10.851997277721537, 10.8519272002775, 10.85180802476879, 12.62871506063517, 9.874369860441215, 9.874367015742367, 9.874345817610351, 16.14283010995576, 16.121065309143578, 67.07430681113374, 117.91941595329257, 116.05141492922917, 73.54139827017336, 25.340637640285596, 247.0661333623628, 222.96552541019938, 69.34102455601445, 66.16005902398086, 33.91116965280364, 47.139408079667895, 80.31579493451274, 212.17644191981603, 35.325457715960326, 92.85243790309812, 226.66201844481566, 73.26176003533364, 42.4867364673681, 47.1117844528823, 135.999790542501, 45.89060890730061, 139.47835142760218, 73.10060494590532, 269.4568184718012, 54.07547304905584, 126.69936359330309, 89.69822505266461, 56.16938576140228, 206.11581197810898, 59.08756023053753, 81.6440480771941, 115.8191797006163, 91.33516733597567, 61.330015746993084, 109.8339099907379, 111.96740851921123, 107.12373076023036, 72.39243088732823, 89.46122626781818, 67.46144627209452, 73.09052667531124, 85.30378403576765, 89.40296477734476, 72.87481800988874, 71.17162660006703, 37.32294335324248, 10.558892998629146, 30.18009634203539, 27.774061508105767, 28.453337850270245, 10.5620609349208, 14.130642035885186, 21.789967039616478, 30.60174149320172, 43.69819029700882, 37.870418101934206, 30.56726247061064, 9.637196020837068, 4.747620923082286, 10.591396830311036, 7.93319496811624, 76.62728810333658, 3.9116288839501165, 65.51413439039233, 39.79024099299319, 20.78594453077473, 9.635845725923994, 19.687944553063346, 12.573602756095594, 20.72333107147038, 6.063262419402243, 5.4351398418192804, 10.749301191860365, 8.29995035533815, 6.464601246303769, 13.877583857390631, 10.979700815790178, 44.97550885122186, 20.490020536508304, 11.403993116700649, 41.33580107374882, 52.854661272716044, 20.132546810599916, 23.879777300990384, 25.17169696994046, 39.061742829281535, 52.79212079710401, 26.053287648675774, 16.74238306906172, 17.85746868000127, 43.17164004063296, 23.517440466746944, 32.53194671903326, 24.827222069542938, 31.322033313941212, 46.43038049818645, 27.03063393311681, 25.18381337153113, 25.867828842699737, 26.581243465374342, 23.23300919757623], \"Total\": [786.0, 309.0, 491.0, 84.0, 130.0, 177.0, 110.0, 159.0, 93.0, 165.0, 144.0, 305.0, 336.0, 123.0, 175.0, 175.0, 95.0, 68.0, 391.0, 205.0, 277.0, 119.0, 139.0, 76.0, 128.0, 299.0, 183.0, 136.0, 231.0, 96.0, 28.846773502505666, 47.94259264676075, 22.111221351088435, 33.63518316314927, 13.451227718758519, 31.723152958895227, 33.690080474695264, 12.489005970831434, 12.48900569155033, 40.342690604787215, 26.951801370185702, 23.05046285011836, 37.51768352090323, 37.555382044859044, 21.151380648634166, 29.501870896243894, 8.640119547561872, 8.64011969880887, 8.640119936066508, 16.31399499421805, 7.677897654403728, 7.677897371202937, 26.001750421343523, 14.26483633210293, 81.8195491948231, 6.71567685807323, 6.715676680231768, 6.715675700414241, 6.715676192874854, 6.715677900843346, 25.01197085148694, 15.401360944389976, 22.094125556611445, 14.428889318254484, 17.324023262007717, 16.368253846123054, 19.08879873243951, 30.712728483149156, 29.900566954504168, 29.880790156288914, 53.12967618130465, 27.86582880797322, 38.67412331014302, 88.5768177003836, 38.492477728224756, 66.64665442762215, 41.45501170028052, 96.71591187124034, 56.52330824168964, 59.793461584884646, 60.71359007576978, 60.35877764535051, 57.592807211507015, 118.49869628620655, 42.28413939681919, 189.70993763735623, 57.83492669472189, 67.52926106945287, 265.9745257403355, 213.49161707604372, 168.4517626649857, 254.2688107766534, 233.28817744744754, 175.5512369108948, 272.60774895854485, 306.0432319931854, 165.18593433215108, 159.0807869640519, 259.5562635372665, 122.58734072720006, 15.95552558882453, 51.624086237104684, 5.633965066976538, 16.945936025339375, 76.39714898883477, 41.62092162277507, 24.540498593494487, 33.097295831551456, 35.760447990606345, 8.507750655496974, 16.012656401718537, 51.90042079840545, 16.028808063118163, 6.598333423627808, 6.612224922536241, 7.536276718958527, 14.168716713469559, 37.92186722801913, 8.491589787556086, 9.424304683898102, 14.820706244516522, 10.42176486288607, 5.67228571769871, 5.657868707148737, 9.47944020324504, 5.6647607801013775, 29.307486631541007, 5.692080371231047, 31.273634870664175, 9.43938077223634, 26.328988918913335, 43.47933607865517, 31.547289716511568, 34.020246581458565, 31.268696615682686, 32.28455682034882, 24.760085211684114, 40.220469463015455, 145.34653082355536, 45.64789251502817, 80.59834526077081, 213.84656388230283, 99.07672981591192, 52.65156669173363, 254.2688107766534, 81.88539493303429, 161.29816647459128, 65.8395142978308, 306.0432319931854, 299.60236124320403, 259.5562635372665, 262.43287782327764, 141.9287401807027, 124.35135410065611, 119.73930709466089, 81.46491527330633, 152.99470153733168, 201.25569977402446, 160.36415186498053, 231.40495059384216, 191.5158054008806, 202.14154856532872, 22.551392736003898, 39.555098644115986, 55.54387573680221, 7.519012783788275, 6.579489937350717, 14.14079583246225, 14.126372475518936, 17.939933553155853, 32.039567078864856, 33.00417730442861, 8.499678174338793, 32.95828209150868, 11.326800427100517, 15.10457044215286, 11.341043673128476, 26.41090969931076, 18.97194793772165, 13.271254142665489, 54.02989008354173, 6.609763099463612, 19.91672579177296, 6.6363841760993445, 5.649088460907208, 7.580654605528233, 9.461449613369076, 11.277980641669684, 11.370890042409176, 26.543302562899278, 7.54415029286387, 22.622460563941207, 16.064991713255953, 21.781321274220904, 22.823525032694036, 77.43877125985117, 68.30330226570933, 121.51466594593467, 128.74254940118533, 105.06037833019428, 117.58711565586462, 37.12158112952877, 43.109547060056514, 88.60467365331087, 78.29220361927011, 96.10216889011024, 62.16457253560297, 128.92639585411632, 145.7038645957093, 105.40658457611515, 62.89469955038371, 158.65977488811134, 255.73556857618294, 264.70387124995153, 52.49686385271132, 82.71932083777153, 97.35085097644723, 114.9767013684007, 262.43287782327764, 281.7262579360362, 231.40495059384216, 218.46185328248046, 296.9566923805312, 147.03395561390445, 786.7260445895488, 144.2296857288214, 84.01021629896583, 18.553900547591127, 18.85337757631201, 13.889540893881893, 25.182804263540305, 14.001679818897827, 14.969286543251984, 23.902559105226906, 50.1420846613366, 14.324095590804099, 15.281616340817235, 13.430671368344512, 11.645769113387333, 23.45460541638042, 24.272408102225135, 10.80055508808413, 16.15372711654084, 9.126332404175882, 8.228027365098704, 17.31609109798377, 12.647514705898196, 12.735886997096932, 15.423516403414732, 18.015356666911934, 15.494318177371257, 18.13474829988508, 8.19428342324224, 5.460837235351264, 8.183467022096686, 16.586803555102897, 20.12257651971088, 68.30330226570933, 93.88211424694016, 130.40056838984614, 60.35877764535051, 34.41933438921881, 81.70190958620547, 58.46016644497268, 786.7260445895488, 45.63075509787664, 101.22687670146034, 159.7682909310828, 144.53411857247207, 66.14153456920937, 64.87140372924705, 140.6517176816451, 175.5512369108948, 66.64665442762215, 121.29584096321034, 299.60236124320403, 272.60774895854485, 165.18593433215108, 183.50992039783074, 15.02990009155675, 11.384481398600789, 10.419684740579616, 8.557843719515066, 13.004670274123864, 8.545614987250469, 11.10737786863563, 26.762183359908605, 21.948389505548313, 18.155162889448984, 7.62480518433835, 66.7585931650477, 6.595723998150836, 12.1551564859094, 11.450557217710843, 18.14638197083766, 9.491227764919415, 19.088537107570257, 10.432413335644931, 7.634903165565546, 11.4272508276372, 5.676746786340811, 27.590437452590272, 6.6741768069113485, 5.714589077636864, 14.360708003719521, 8.588695134606834, 15.284745176014688, 8.560742033212588, 8.59446687496283, 11.333389600223905, 45.933529696871226, 42.07865113040198, 17.851819498107787, 96.6741323592787, 48.76738467730906, 89.34849314069655, 20.91316720905002, 46.72778356928669, 66.28897084738503, 45.905695003699684, 90.28599311292764, 123.03988343661803, 139.20670083047457, 57.9764762289121, 55.02738135415559, 786.7260445895488, 128.35402090735403, 40.1827206547895, 136.03459520381014, 82.31382569138508, 41.15296494641068, 120.98862557169673, 51.59701853216411, 237.00763444347157, 177.8146262327453, 89.45970531002727, 165.18593433215108, 76.89075237991214, 183.50992039783074, 89.8478248363445, 299.60236124320403, 118.23649714213377, 306.0432319931854, 159.7682909310828, 131.73142956312984, 336.3143820993776, 189.70993763735623, 272.60774895854485, 160.36415186498053, 190.99592536406215, 305.0364950550428, 35.421383627799095, 309.9984536551769, 21.62976925645545, 20.6446482421601, 18.674423566516175, 17.68930709061057, 17.687219145120352, 21.62138427793512, 14.733947144606612, 14.73390955613395, 14.73350813139587, 13.748846447351625, 13.748738837574987, 11.778615816959498, 11.778615125378982, 11.778614623485295, 11.778614873141226, 11.778614561157084, 11.778614167208893, 74.69624832980017, 10.793498745369007, 10.79349905251955, 10.793498756261455, 10.793493443004717, 14.71986048551257, 9.808384023182455, 9.80838313222005, 9.808384467634108, 9.808383406046834, 9.808382986580478, 34.336947337198914, 99.86344764509417, 41.09350705574031, 16.658892686029766, 27.450031613177497, 254.86653895268088, 32.344097278105856, 60.57614200903776, 65.6599421517582, 96.22212656237254, 28.449415932289018, 25.497424782685293, 100.95711974324122, 63.21917205649114, 44.04394749198048, 97.49819504196331, 51.98370073884723, 136.40143398802394, 63.45896626530139, 62.26522636043548, 169.95685493009753, 282.84788284756746, 35.2437607964168, 128.78281683155635, 130.87176210149934, 190.99592536406215, 151.82810042297658, 76.40260622618322, 111.19180297199173, 121.88332205177247, 101.24006016695353, 237.00763444347157, 144.53411857247207, 391.1164655196186, 786.7260445895488, 85.27974104616074, 83.92171331976964, 173.23433026378288, 175.5512369108948, 165.18593433215108, 139.20670083047457, 136.03459520381014, 265.9745257403355, 119.90519320779184, 272.60774895854485, 264.70387124995153, 306.0432319931854, 299.60236124320403, 255.73556857618294, 161.14736947654126, 159.7682909310828, 259.5562635372665, 183.50992039783074, 48.16481529123571, 9.621923915938963, 24.03562838989889, 6.728568690847725, 13.50073848960691, 32.787671973774586, 10.607302544338333, 36.46663044428232, 9.637410507313865, 14.477009337452454, 9.593594675307138, 18.9953282356944, 6.733490133659697, 26.826095818770185, 7.679994644472264, 14.432897351578228, 13.515409280014493, 19.28839431747115, 10.613795362397548, 59.0891848076277, 25.153722534447418, 23.24123875119595, 13.362418990657558, 16.42041725042787, 46.42978963305701, 20.08067394629931, 12.477485446558967, 15.429067731917522, 5.77855770085248, 11.471682730207567, 51.722534736178886, 58.79988219674717, 33.69330201705951, 75.19456221945966, 39.546025337588425, 48.047683449717205, 175.2435604960559, 786.7260445895488, 104.45342339142812, 108.5778136824813, 62.12830292536093, 92.92920545042436, 124.35135410065611, 89.6960765128286, 55.2699932372559, 66.99803607465903, 85.70863935114102, 62.537915110074614, 281.7262579360362, 114.20388529337683, 177.8146262327453, 216.14388825220456, 173.23433026378288, 158.77402469093843, 89.05682585956137, 140.0698268738301, 491.12014773354065, 129.87723652347546, 265.9745257403355, 58.27018259354198, 15.977892569150947, 6.581236839652328, 6.581236320457237, 18.886481587445324, 8.515530217620212, 19.768398608748797, 12.323994281003738, 45.58098292551558, 13.229307824395812, 14.099318928072073, 10.901695521735089, 15.056655917166223, 15.215743931604976, 9.335860110055853, 5.650254232442816, 40.65675975311293, 12.368746050444708, 28.462054953433018, 5.692371754684432, 36.96491638344507, 21.801669515262088, 27.584468089618763, 8.48351597406626, 29.347716847287142, 12.306639255924651, 25.638169359834517, 27.546785342862446, 16.158879377567246, 19.884400726272553, 100.49764573861138, 75.11918139495302, 73.6318219883242, 37.89191280286809, 49.31196481228243, 32.88065073323605, 43.616271346708515, 29.498552436887934, 70.94381778382477, 123.85087153864912, 40.35419342872142, 109.27077481493784, 491.12014773354065, 58.81785445859183, 33.01474961358606, 205.5797729882574, 94.89901422349406, 231.40495059384216, 124.85819884415673, 78.5723152461372, 88.83776806978713, 336.3143820993776, 113.3958192577365, 141.9287401807027, 120.24804225500986, 86.17447490561189, 281.7262579360362, 114.20388529337683, 74.31963197813633, 259.5562635372665, 299.60236124320403, 40.0488652249613, 40.048863437794054, 38.09353878015228, 24.406257537277337, 46.85316613834955, 21.473268747358567, 21.47206854985134, 17.562616951503337, 61.4679020078363, 16.584952719406196, 15.60729032383229, 15.607289766014004, 14.629626267882236, 15.604527039564669, 13.651964606415296, 28.293131517318763, 13.650317906767143, 12.674301868124815, 12.674296687647669, 12.67430163593451, 12.674300565744069, 13.648092261454321, 11.696637692220571, 11.696637599016277, 11.696635666898874, 11.696637105206229, 13.64499563854621, 10.718975999947432, 10.718975438677298, 10.718975779284138, 17.54554556937943, 17.56716686830415, 74.2036170440828, 131.46407561581321, 134.01352100301563, 83.78637204748716, 28.234388354570353, 305.0364950550428, 277.83368207362093, 83.39104343873039, 79.61467438993834, 38.9227138445103, 56.48060543772121, 102.10114905712481, 296.9566923805312, 41.69379484250422, 123.22838494399312, 336.3143820993776, 95.00881892661873, 51.63439615794421, 58.4390691836656, 202.76190290140525, 57.36215799197689, 212.49844147115945, 100.47318052611888, 491.12014773354065, 69.90428086064185, 202.14154856532872, 132.71205284814872, 73.66893386980806, 391.1164655196186, 79.54681604635718, 122.31717730649318, 201.25569977402446, 158.77402469093843, 86.01191962449387, 231.40495059384216, 262.43287782327764, 281.7262579360362, 128.35402090735403, 216.14388825220456, 111.07366844407811, 145.42775102922639, 255.73556857618294, 786.7260445895488, 264.70387124995153, 233.28817744744754, 41.06992231595472, 12.37610570483447, 36.31717730999937, 33.47135266764237, 34.40977614861077, 13.36301248549864, 18.194857342711543, 28.600295300530448, 41.25339525377345, 59.31219741554475, 51.81025483907797, 41.856382665556325, 13.352697935555788, 6.702129373049812, 15.146602083902184, 11.423932492747273, 110.84661882986146, 5.698596346949436, 95.70771562525152, 58.2227986918161, 30.701187660448642, 14.293176564954331, 29.350756719270457, 19.01062399950733, 32.47837199202964, 9.594437949862655, 8.65014799108626, 17.27716989519827, 13.358440259618423, 10.562222452303132, 22.96455324670169, 18.3215387065269, 84.70376603822423, 36.15174403905667, 19.20498610319735, 86.09783740265044, 119.73930709466089, 38.89179996369067, 48.66143980552619, 52.93686611245778, 104.13194656626561, 177.8146262327453, 63.27422765318313, 31.51603715902783, 36.215280216818634, 205.5797729882574, 63.16770018885789, 129.87723652347546, 74.31963197813633, 136.62893700168107, 491.12014773354065, 118.57287885275014, 89.45799764020825, 101.24006016695353, 140.0698268738301, 75.41520645800938], \"Category\": [\"Default\", \"Default\", \"Default\", \"Default\", \"Default\", \"Default\", \"Default\", \"Default\", \"Default\", \"Default\", \"Default\", \"Default\", \"Default\", \"Default\", \"Default\", \"Default\", \"Default\", \"Default\", \"Default\", \"Default\", \"Default\", \"Default\", \"Default\", \"Default\", \"Default\", \"Default\", \"Default\", \"Default\", \"Default\", \"Default\", \"Topic1\", \"Topic1\", \"Topic1\", \"Topic1\", \"Topic1\", \"Topic1\", \"Topic1\", \"Topic1\", \"Topic1\", \"Topic1\", \"Topic1\", \"Topic1\", \"Topic1\", \"Topic1\", \"Topic1\", \"Topic1\", \"Topic1\", \"Topic1\", \"Topic1\", \"Topic1\", \"Topic1\", \"Topic1\", \"Topic1\", \"Topic1\", \"Topic1\", \"Topic1\", \"Topic1\", \"Topic1\", \"Topic1\", \"Topic1\", \"Topic1\", \"Topic1\", \"Topic1\", \"Topic1\", \"Topic1\", \"Topic1\", \"Topic1\", \"Topic1\", \"Topic1\", \"Topic1\", \"Topic1\", \"Topic1\", \"Topic1\", \"Topic1\", \"Topic1\", \"Topic1\", \"Topic1\", \"Topic1\", \"Topic1\", \"Topic1\", \"Topic1\", \"Topic1\", \"Topic1\", \"Topic1\", \"Topic1\", \"Topic1\", \"Topic1\", \"Topic1\", \"Topic1\", \"Topic1\", \"Topic1\", \"Topic1\", \"Topic1\", \"Topic1\", \"Topic1\", \"Topic1\", \"Topic1\", \"Topic1\", \"Topic1\", \"Topic1\", \"Topic2\", \"Topic2\", \"Topic2\", \"Topic2\", \"Topic2\", \"Topic2\", \"Topic2\", \"Topic2\", \"Topic2\", \"Topic2\", \"Topic2\", \"Topic2\", \"Topic2\", \"Topic2\", \"Topic2\", \"Topic2\", \"Topic2\", \"Topic2\", \"Topic2\", \"Topic2\", \"Topic2\", \"Topic2\", \"Topic2\", \"Topic2\", \"Topic2\", \"Topic2\", \"Topic2\", \"Topic2\", \"Topic2\", \"Topic2\", \"Topic2\", \"Topic2\", \"Topic2\", \"Topic2\", \"Topic2\", \"Topic2\", \"Topic2\", \"Topic2\", \"Topic2\", \"Topic2\", \"Topic2\", \"Topic2\", \"Topic2\", \"Topic2\", \"Topic2\", \"Topic2\", \"Topic2\", \"Topic2\", \"Topic2\", \"Topic2\", \"Topic2\", \"Topic2\", \"Topic2\", \"Topic2\", \"Topic2\", \"Topic2\", \"Topic2\", \"Topic2\", \"Topic2\", \"Topic2\", \"Topic2\", \"Topic2\", \"Topic3\", \"Topic3\", \"Topic3\", \"Topic3\", \"Topic3\", \"Topic3\", \"Topic3\", \"Topic3\", \"Topic3\", \"Topic3\", \"Topic3\", \"Topic3\", \"Topic3\", \"Topic3\", \"Topic3\", \"Topic3\", \"Topic3\", \"Topic3\", \"Topic3\", \"Topic3\", \"Topic3\", \"Topic3\", \"Topic3\", \"Topic3\", \"Topic3\", \"Topic3\", \"Topic3\", \"Topic3\", \"Topic3\", \"Topic3\", \"Topic3\", \"Topic3\", \"Topic3\", \"Topic3\", \"Topic3\", \"Topic3\", \"Topic3\", \"Topic3\", \"Topic3\", \"Topic3\", \"Topic3\", \"Topic3\", \"Topic3\", \"Topic3\", \"Topic3\", \"Topic3\", \"Topic3\", \"Topic3\", \"Topic3\", \"Topic3\", \"Topic3\", \"Topic3\", \"Topic3\", \"Topic3\", \"Topic3\", \"Topic3\", \"Topic3\", \"Topic3\", \"Topic3\", \"Topic3\", \"Topic3\", \"Topic3\", \"Topic3\", \"Topic3\", \"Topic4\", \"Topic4\", \"Topic4\", \"Topic4\", \"Topic4\", \"Topic4\", \"Topic4\", \"Topic4\", \"Topic4\", \"Topic4\", \"Topic4\", \"Topic4\", \"Topic4\", \"Topic4\", \"Topic4\", \"Topic4\", \"Topic4\", \"Topic4\", \"Topic4\", \"Topic4\", \"Topic4\", \"Topic4\", \"Topic4\", \"Topic4\", \"Topic4\", \"Topic4\", \"Topic4\", \"Topic4\", \"Topic4\", \"Topic4\", \"Topic4\", \"Topic4\", \"Topic4\", \"Topic4\", \"Topic4\", \"Topic4\", \"Topic4\", \"Topic4\", \"Topic4\", \"Topic4\", \"Topic4\", \"Topic4\", \"Topic4\", \"Topic4\", \"Topic4\", \"Topic4\", \"Topic4\", \"Topic4\", \"Topic4\", \"Topic4\", \"Topic4\", \"Topic4\", \"Topic4\", \"Topic5\", \"Topic5\", \"Topic5\", \"Topic5\", \"Topic5\", \"Topic5\", \"Topic5\", \"Topic5\", \"Topic5\", \"Topic5\", \"Topic5\", \"Topic5\", \"Topic5\", \"Topic5\", \"Topic5\", \"Topic5\", \"Topic5\", \"Topic5\", \"Topic5\", \"Topic5\", \"Topic5\", \"Topic5\", \"Topic5\", \"Topic5\", \"Topic5\", \"Topic5\", \"Topic5\", \"Topic5\", \"Topic5\", \"Topic5\", \"Topic5\", \"Topic5\", \"Topic5\", \"Topic5\", \"Topic5\", \"Topic5\", \"Topic5\", \"Topic5\", \"Topic5\", \"Topic5\", \"Topic5\", \"Topic5\", \"Topic5\", \"Topic5\", \"Topic5\", \"Topic5\", \"Topic5\", \"Topic5\", \"Topic5\", \"Topic5\", \"Topic5\", \"Topic5\", \"Topic5\", \"Topic5\", \"Topic5\", \"Topic5\", \"Topic5\", \"Topic5\", \"Topic5\", \"Topic5\", \"Topic5\", \"Topic5\", \"Topic5\", \"Topic5\", \"Topic5\", \"Topic5\", \"Topic5\", \"Topic5\", \"Topic5\", \"Topic5\", \"Topic5\", \"Topic5\", \"Topic6\", \"Topic6\", \"Topic6\", \"Topic6\", \"Topic6\", \"Topic6\", \"Topic6\", \"Topic6\", \"Topic6\", \"Topic6\", \"Topic6\", \"Topic6\", \"Topic6\", \"Topic6\", \"Topic6\", \"Topic6\", \"Topic6\", \"Topic6\", \"Topic6\", \"Topic6\", \"Topic6\", \"Topic6\", \"Topic6\", \"Topic6\", \"Topic6\", \"Topic6\", \"Topic6\", \"Topic6\", \"Topic6\", \"Topic6\", \"Topic6\", \"Topic6\", \"Topic6\", \"Topic6\", \"Topic6\", \"Topic6\", \"Topic6\", \"Topic6\", \"Topic6\", \"Topic6\", \"Topic6\", \"Topic6\", \"Topic6\", \"Topic6\", \"Topic6\", \"Topic6\", \"Topic6\", \"Topic6\", \"Topic6\", \"Topic6\", \"Topic6\", \"Topic6\", \"Topic6\", \"Topic6\", \"Topic6\", \"Topic6\", \"Topic6\", \"Topic6\", \"Topic6\", \"Topic6\", \"Topic6\", \"Topic6\", \"Topic6\", \"Topic6\", \"Topic6\", \"Topic6\", \"Topic6\", \"Topic6\", \"Topic6\", \"Topic6\", \"Topic6\", \"Topic6\", \"Topic6\", \"Topic6\", \"Topic6\", \"Topic6\", \"Topic6\", \"Topic6\", \"Topic6\", \"Topic6\", \"Topic6\", \"Topic6\", \"Topic6\", \"Topic7\", \"Topic7\", \"Topic7\", \"Topic7\", \"Topic7\", \"Topic7\", \"Topic7\", \"Topic7\", \"Topic7\", \"Topic7\", \"Topic7\", \"Topic7\", \"Topic7\", \"Topic7\", \"Topic7\", \"Topic7\", \"Topic7\", \"Topic7\", \"Topic7\", \"Topic7\", \"Topic7\", \"Topic7\", \"Topic7\", \"Topic7\", \"Topic7\", \"Topic7\", \"Topic7\", \"Topic7\", \"Topic7\", \"Topic7\", \"Topic7\", \"Topic7\", \"Topic7\", \"Topic7\", \"Topic7\", \"Topic7\", \"Topic7\", \"Topic7\", \"Topic7\", \"Topic7\", \"Topic7\", \"Topic7\", \"Topic7\", \"Topic7\", \"Topic7\", \"Topic7\", \"Topic7\", \"Topic7\", \"Topic7\", \"Topic7\", \"Topic7\", \"Topic7\", \"Topic7\", \"Topic7\", \"Topic7\", \"Topic7\", \"Topic7\", \"Topic7\", \"Topic7\", \"Topic8\", \"Topic8\", \"Topic8\", \"Topic8\", \"Topic8\", \"Topic8\", \"Topic8\", \"Topic8\", \"Topic8\", \"Topic8\", \"Topic8\", \"Topic8\", \"Topic8\", \"Topic8\", \"Topic8\", \"Topic8\", \"Topic8\", \"Topic8\", \"Topic8\", \"Topic8\", \"Topic8\", \"Topic8\", \"Topic8\", \"Topic8\", \"Topic8\", \"Topic8\", \"Topic8\", \"Topic8\", \"Topic8\", \"Topic8\", \"Topic8\", \"Topic8\", \"Topic8\", \"Topic8\", \"Topic8\", \"Topic8\", \"Topic8\", \"Topic8\", \"Topic8\", \"Topic8\", \"Topic8\", \"Topic8\", \"Topic8\", \"Topic8\", \"Topic8\", \"Topic8\", \"Topic8\", \"Topic8\", \"Topic8\", \"Topic8\", \"Topic8\", \"Topic8\", \"Topic8\", \"Topic8\", \"Topic8\", \"Topic8\", \"Topic8\", \"Topic8\", \"Topic8\", \"Topic8\", \"Topic8\", \"Topic9\", \"Topic9\", \"Topic9\", \"Topic9\", \"Topic9\", \"Topic9\", \"Topic9\", \"Topic9\", \"Topic9\", \"Topic9\", \"Topic9\", \"Topic9\", \"Topic9\", \"Topic9\", \"Topic9\", \"Topic9\", \"Topic9\", \"Topic9\", \"Topic9\", \"Topic9\", \"Topic9\", \"Topic9\", \"Topic9\", \"Topic9\", \"Topic9\", \"Topic9\", \"Topic9\", \"Topic9\", \"Topic9\", \"Topic9\", \"Topic9\", \"Topic9\", \"Topic9\", \"Topic9\", \"Topic9\", \"Topic9\", \"Topic9\", \"Topic9\", \"Topic9\", \"Topic9\", \"Topic9\", \"Topic9\", \"Topic9\", \"Topic9\", \"Topic9\", \"Topic9\", \"Topic9\", \"Topic9\", \"Topic9\", \"Topic9\", \"Topic9\", \"Topic9\", \"Topic9\", \"Topic9\", \"Topic9\", \"Topic9\", \"Topic9\", \"Topic9\", \"Topic9\", \"Topic9\", \"Topic9\", \"Topic9\", \"Topic9\", \"Topic9\", \"Topic9\", \"Topic9\", \"Topic9\", \"Topic9\", \"Topic9\", \"Topic9\", \"Topic9\", \"Topic9\", \"Topic9\", \"Topic9\", \"Topic9\", \"Topic9\", \"Topic9\", \"Topic10\", \"Topic10\", \"Topic10\", \"Topic10\", \"Topic10\", \"Topic10\", \"Topic10\", \"Topic10\", \"Topic10\", \"Topic10\", \"Topic10\", \"Topic10\", \"Topic10\", \"Topic10\", \"Topic10\", \"Topic10\", \"Topic10\", \"Topic10\", \"Topic10\", \"Topic10\", \"Topic10\", \"Topic10\", \"Topic10\", \"Topic10\", \"Topic10\", \"Topic10\", \"Topic10\", \"Topic10\", \"Topic10\", \"Topic10\", \"Topic10\", \"Topic10\", \"Topic10\", \"Topic10\", \"Topic10\", \"Topic10\", \"Topic10\", \"Topic10\", \"Topic10\", \"Topic10\", \"Topic10\", \"Topic10\", \"Topic10\", \"Topic10\", \"Topic10\", \"Topic10\", \"Topic10\", \"Topic10\", \"Topic10\", \"Topic10\", \"Topic10\", \"Topic10\", \"Topic10\", \"Topic10\", \"Topic10\", \"Topic10\"], \"logprob\": [30.0, 29.0, 28.0, 27.0, 26.0, 25.0, 24.0, 23.0, 22.0, 21.0, 20.0, 19.0, 18.0, 17.0, 16.0, 15.0, 14.0, 13.0, 12.0, 11.0, 10.0, 9.0, 8.0, 7.0, 6.0, 5.0, 4.0, 3.0, 2.0, 1.0, -6.1667, -5.6642, -6.4419, -6.0379, -6.9648, -6.1093, -6.0503, -7.0442, -7.0443, -5.8745, -6.2866, -6.443, -5.9564, -5.9639, -6.5421, -6.2152, -7.4456, -7.4456, -7.4456, -6.8228, -7.5774, -7.5774, -6.3598, -6.9648, -5.2287, -7.7292, -7.7292, -7.7292, -7.7292, -7.7292, -6.419, -6.9, -6.543, -6.9648, -6.787, -6.8446, -6.6996, -6.2494, -6.2755, -6.2846, -5.7624, -6.3643, -6.0811, -5.3635, -6.0937, -5.6629, -6.0653, -5.4126, -5.8476, -5.8218, -5.8221, -5.8781, -5.9654, -5.5967, -6.1442, -5.41, -5.9981, -5.957, -5.4187, -5.5414, -5.6582, -5.5683, -5.6119, -5.716, -5.6171, -5.6834, -5.8446, -5.9077, -5.9464, -5.985, -6.2927, -5.2239, -7.4423, -6.3568, -4.8708, -5.5076, -6.0488, -5.7805, -5.7044, -7.1483, -6.5194, -5.3548, -6.5318, -7.4423, -7.4455, -7.3172, -6.6888, -5.7122, -7.2286, -7.1345, -6.682, -7.0361, -7.6545, -7.6606, -7.161, -7.6856, -6.0721, -7.7214, -6.0223, -7.2294, -6.2549, -5.7903, -6.1218, -6.0552, -6.1399, -6.1147, -6.4339, -6.0991, -5.1755, -6.0096, -5.6007, -4.9649, -5.5017, -5.9357, -4.9409, -5.7222, -5.3433, -5.8653, -5.1892, -5.4107, -5.4954, -5.5061, -5.7057, -5.7479, -5.7613, -5.8779, -5.7369, -5.6815, -5.7654, -5.7625, -5.7938, -5.8551, -6.0487, -5.5499, -5.216, -7.2284, -7.3802, -6.63, -6.6344, -6.4259, -5.8566, -5.8391, -7.2396, -5.909, -6.9802, -6.6953, -6.9892, -6.164, -6.5202, -6.8777, -5.4854, -7.5988, -6.5025, -7.6091, -7.7775, -7.4867, -7.2683, -7.0966, -7.1029, -6.2686, -7.5593, -6.4678, -6.8158, -6.538, -6.4956, -5.4441, -5.5576, -5.166, -5.1198, -5.2938, -5.213, -6.1704, -6.0801, -5.5887, -5.6808, -5.5699, -5.8731, -5.4358, -5.4218, -5.6965, -5.9658, -5.5963, -5.4455, -5.4322, -6.1003, -5.9471, -5.9033, -5.877, -5.6961, -5.7074, -5.7895, -5.8087, -5.7887, -5.8675, -5.7832, -5.8885, -3.492, -5.0946, -5.2496, -5.671, -5.0775, -5.7539, -5.717, -5.3202, -4.6942, -5.956, -5.8917, -6.0235, -6.1851, -5.5104, -5.4903, -6.3543, -5.9807, -6.6131, -6.7314, -5.9935, -6.3543, -6.3543, -6.1753, -6.0235, -6.1753, -6.0235, -6.8522, -7.2625, -6.8883, -6.1838, -6.0234, -4.9044, -4.6707, -4.5259, -5.2047, -5.6371, -5.3228, -5.5201, -4.2179, -5.6601, -5.3504, -5.1793, -5.2486, -5.5727, -5.6123, -5.4298, -5.4113, -5.6441, -5.541, -5.3949, -5.5185, -5.5859, -5.613, -6.3157, -6.5962, -6.7471, -6.9569, -6.5485, -7.0008, -6.7471, -5.8901, -6.0987, -6.2925, -7.172, -5.0028, -7.3223, -6.7165, -6.7927, -6.3347, -6.9953, -6.2972, -6.9066, -7.2197, -6.8217, -7.5444, -5.9672, -7.3868, -7.5444, -6.6266, -7.1501, -6.5763, -7.1725, -7.1708, -6.9005, -5.5513, -5.7243, -6.5291, -5.061, -5.6724, -5.1656, -6.394, -5.7392, -5.4752, -5.7886, -5.2813, -5.1486, -5.0625, -5.6966, -5.7397, -3.9981, -5.2361, -5.9744, -5.2213, -5.5548, -5.9727, -5.3492, -5.8615, -5.1483, -5.2974, -5.619, -5.4175, -5.7272, -5.4005, -5.6687, -5.2518, -5.6122, -5.3595, -5.5686, -5.6226, -5.5266, -5.6018, -5.5762, -5.6399, -5.6422, -5.6586, -6.716, -4.5537, -7.225, -7.2735, -7.3783, -7.4352, -7.4378, -7.2425, -7.6281, -7.6283, -7.6295, -7.7016, -7.7026, -7.8673, -7.8673, -7.8673, -7.8673, -7.8673, -7.8673, -6.024, -7.9617, -7.9617, -7.9617, -7.9617, -7.656, -8.066, -8.066, -8.066, -8.066, -8.066, -6.8522, -5.8415, -6.6924, -7.5596, -7.092, -5.007, -6.9459, -6.3792, -6.3076, -5.962, -7.0721, -7.1709, -5.9468, -6.3647, -6.6915, -5.986, -6.5509, -5.717, -6.4051, -6.4232, -5.5907, -5.1779, -6.9078, -5.8852, -5.8735, -5.59, -5.7684, -6.2989, -6.0105, -5.9542, -6.0925, -5.5028, -5.8599, -5.1761, -4.736, -6.2417, -6.2553, -5.8204, -5.8162, -5.8666, -5.9693, -5.9827, -5.6491, -6.0651, -5.6948, -5.7132, -5.6672, -5.6996, -5.7587, -5.9453, -5.947, -5.8694, -5.9518, -5.2165, -6.8623, -5.9764, -7.2602, -6.5786, -5.7066, -6.8629, -5.6426, -6.9996, -6.6191, -7.0395, -6.3608, -7.4021, -6.0252, -7.2864, -6.6617, -6.7293, -6.417, -7.0192, -5.3054, -6.1743, -6.2572, -6.8129, -6.6179, -5.5829, -6.4224, -6.8983, -6.6923, -7.6774, -6.9977, -5.4969, -5.4255, -5.9728, -5.3069, -5.8867, -5.7893, -4.7658, -3.6009, -5.2018, -5.1821, -5.6502, -5.3804, -5.2729, -5.4922, -5.847, -5.7456, -5.6284, -5.8043, -5.0227, -5.536, -5.3315, -5.2854, -5.3813, -5.4338, -5.6843, -5.5445, -5.2673, -5.6704, -5.5793, -4.988, -6.3355, -7.2419, -7.2419, -6.2937, -7.1197, -6.2784, -6.7671, -5.4754, -6.7377, -6.693, -6.9584, -6.6433, -6.6333, -7.1365, -7.6392, -5.6674, -6.8733, -6.0495, -7.6701, -5.8016, -6.333, -6.0989, -7.2885, -6.0534, -6.9298, -6.2203, -6.1524, -6.6923, -6.486, -4.8871, -5.2781, -5.3023, -5.9195, -5.7474, -6.1065, -5.8777, -6.2317, -5.633, -5.2519, -6.0571, -5.4362, -4.5326, -5.8715, -6.2128, -5.2385, -5.6811, -5.2319, -5.5418, -5.8153, -5.7669, -5.3134, -5.7337, -5.7144, -5.7644, -5.8584, -5.6517, -5.8464, -5.9299, -5.7742, -5.9227, -6.6933, -6.6933, -6.7445, -7.2025, -6.5539, -7.3354, -7.3369, -7.5456, -6.2939, -7.6059, -7.67, -7.67, -7.7385, -7.6748, -7.8121, -7.0856, -7.8154, -7.8915, -7.8915, -7.8915, -7.8915, -7.8199, -7.9778, -7.9778, -7.9778, -7.9778, -7.8262, -8.0722, -8.0722, -8.0722, -7.5807, -7.582, -6.1563, -5.5921, -5.6081, -6.0643, -7.1297, -4.8525, -4.9551, -6.1231, -6.17, -6.8384, -6.509, -5.9762, -5.0047, -6.7975, -5.8311, -4.9387, -6.0681, -6.6129, -6.5096, -5.4495, -6.5359, -5.4242, -6.0703, -4.7657, -6.3717, -5.5203, -5.8657, -6.3338, -5.0337, -6.2831, -5.9598, -5.6101, -5.8476, -6.2459, -5.6632, -5.6439, -5.6881, -6.08, -5.8683, -6.1506, -6.0704, -5.9159, -5.869, -6.0734, -6.097, -5.3241, -6.5867, -5.5365, -5.6196, -5.5954, -6.5864, -6.2954, -5.8623, -5.5227, -5.1664, -5.3095, -5.5238, -6.6781, -7.3861, -6.5837, -6.8727, -4.6048, -7.5798, -4.7614, -5.2601, -5.9094, -6.6782, -5.9637, -6.4121, -5.9124, -7.1415, -7.2508, -6.5689, -6.8275, -7.0774, -6.3134, -6.5477, -5.1376, -5.9238, -6.5097, -5.222, -4.9762, -5.9414, -5.7707, -5.718, -5.2786, -4.9773, -5.6836, -6.1258, -6.0613, -5.1785, -5.786, -5.4615, -5.7318, -5.4994, -5.1058, -5.6467, -5.7175, -5.6907, -5.6635, -5.7981], \"loglift\": [30.0, 29.0, 28.0, 27.0, 26.0, 25.0, 24.0, 23.0, 22.0, 21.0, 20.0, 19.0, 18.0, 17.0, 16.0, 15.0, 14.0, 13.0, 12.0, 11.0, 10.0, 9.0, 8.0, 7.0, 6.0, 5.0, 4.0, 3.0, 2.0, 1.0, 2.2046, 2.1992, 2.1954, 2.1799, 2.1694, 2.1671, 2.1659, 2.1643, 2.1643, 2.1615, 2.1527, 2.1526, 2.1521, 2.1437, 2.1395, 2.1337, 2.1314, 2.1314, 2.1313, 2.1186, 2.1177, 2.1176, 2.1154, 2.1107, 2.1001, 2.0997, 2.0997, 2.0997, 2.0997, 2.0997, 2.095, 2.0989, 2.095, 2.0993, 2.0943, 2.0934, 2.0847, 2.0592, 2.06, 2.0515, 1.9982, 2.0417, 1.9971, 1.886, 1.9892, 1.871, 1.9435, 1.749, 1.8511, 1.8206, 1.8051, 1.755, 1.7146, 1.3618, 1.8447, 1.0779, 1.6777, 1.5638, 0.7313, 0.8284, 0.9485, 0.6267, 0.6692, 0.8494, 0.5082, 0.3262, 0.7817, 0.7562, 0.228, 0.9396, 2.6708, 2.5655, 2.5622, 2.5465, 2.5266, 2.4972, 2.4842, 2.4534, 2.4521, 2.4441, 2.4406, 2.4293, 2.4272, 2.4043, 2.399, 2.3964, 2.3935, 2.3856, 2.3657, 2.3555, 2.3553, 2.3534, 2.3433, 2.3397, 2.3232, 2.3135, 2.2834, 2.2729, 2.2683, 2.2591, 2.2078, 2.1708, 2.16, 2.1512, 2.1509, 2.1441, 2.0902, 1.9399, 1.5788, 1.9028, 1.7432, 1.4032, 1.6358, 1.8339, 1.2541, 1.6058, 1.3068, 1.6808, 0.8204, 0.6202, 0.679, 0.6572, 1.0724, 1.1624, 1.1867, 1.4553, 0.966, 0.7473, 0.8905, 0.5266, 0.6846, 0.5693, 2.5689, 2.5058, 2.5002, 2.4875, 2.4692, 2.4543, 2.451, 2.4204, 2.4098, 2.3976, 2.3538, 2.3292, 2.326, 2.3231, 2.3157, 2.2956, 2.2702, 2.27, 2.2584, 2.246, 2.2393, 2.2317, 2.2243, 2.221, 2.2178, 2.2139, 2.1994, 2.186, 2.1533, 2.1466, 2.1409, 2.1143, 2.11, 1.9398, 1.9518, 1.7674, 1.7558, 1.785, 1.7532, 1.9487, 1.8895, 1.6605, 1.6921, 1.5981, 1.7305, 1.4383, 1.33, 1.379, 1.6261, 1.0703, 0.7437, 0.7226, 1.6723, 1.3708, 1.2518, 1.1116, 0.4672, 0.3851, 0.4997, 0.538, 0.2511, 0.8752, -0.7178, 0.8734, 3.8104, 3.7181, 3.5471, 3.4312, 3.4297, 3.3403, 3.3103, 3.2392, 3.1243, 3.1155, 3.115, 3.1124, 3.0933, 3.0679, 3.0537, 2.9995, 2.9705, 2.9091, 2.8944, 2.8883, 2.8416, 2.8346, 2.8222, 2.8187, 2.8176, 2.8121, 2.7778, 2.7732, 2.7429, 2.741, 2.7081, 2.605, 2.5206, 2.3369, 2.4283, 2.5576, 2.0075, 2.1449, 0.8475, 2.2527, 1.7656, 1.4804, 1.5112, 1.9689, 1.9486, 1.3573, 1.1542, 1.8898, 1.3942, 0.636, 0.6069, 1.0403, 0.9081, 2.7076, 2.7049, 2.6425, 2.6296, 2.6196, 2.5872, 2.5786, 2.5562, 2.5459, 2.5419, 2.5299, 2.5295, 2.5246, 2.5191, 2.5027, 2.5002, 2.4877, 2.4871, 2.4819, 2.481, 2.4757, 2.4526, 2.4487, 2.4483, 2.4459, 2.4422, 2.4329, 2.4303, 2.4137, 2.4115, 2.4051, 2.3549, 2.2695, 2.3222, 2.101, 2.1739, 2.0752, 2.299, 2.1498, 2.0641, 2.1181, 1.9491, 1.7722, 1.7349, 1.9767, 1.9858, 1.0673, 1.6425, 2.0655, 1.5992, 1.768, 2.0434, 1.5885, 1.9284, 1.1169, 1.2552, 1.6206, 1.2088, 1.6637, 1.1206, 1.5666, 0.7791, 1.3485, 0.6501, 1.091, 1.23, 0.3887, 0.886, 0.5491, 1.016, 0.8389, 0.3543, 1.45, 1.4431, 1.4343, 1.4324, 1.4279, 1.4252, 1.4227, 1.4172, 1.4151, 1.4149, 1.4138, 1.4108, 1.4098, 1.3998, 1.3998, 1.3998, 1.3998, 1.3998, 1.3998, 1.3959, 1.3927, 1.3927, 1.3927, 1.3927, 1.3882, 1.3841, 1.3841, 1.3841, 1.3841, 1.3841, 1.345, 1.2881, 1.3251, 1.3609, 1.329, 1.1856, 1.3111, 1.2503, 1.2413, 1.2047, 1.3132, 1.3239, 1.1719, 1.2221, 1.2567, 1.1675, 1.2316, 1.1008, 1.1779, 1.1788, 1.0071, 0.9106, 1.2633, 0.9901, 0.9857, 0.8911, 0.9422, 1.0984, 1.0116, 0.9761, 1.0233, 0.7624, 0.8999, 0.5882, 0.3295, 1.0457, 1.0481, 0.7583, 0.7492, 0.7597, 0.8281, 0.8378, 0.5009, 0.8816, 0.4305, 0.4415, 0.3424, 0.3313, 0.4305, 0.7058, 0.7126, 0.305, 0.5693, 2.6422, 2.607, 2.5774, 2.5668, 2.552, 2.5367, 2.5089, 2.4944, 2.4681, 2.4417, 2.4327, 2.4283, 2.4242, 2.4188, 2.4083, 2.4021, 2.4002, 2.3569, 2.352, 2.3489, 2.334, 2.3303, 2.328, 2.3169, 2.3125, 2.3113, 2.3111, 2.3048, 2.3018, 2.2957, 2.2906, 2.2338, 2.2433, 2.1064, 2.1692, 2.0719, 1.8014, 1.4646, 1.8828, 1.8638, 1.9539, 1.8211, 1.6373, 1.7447, 1.8741, 1.7831, 1.654, 1.7933, 1.0697, 1.4594, 1.2211, 1.072, 1.1974, 1.2321, 1.5598, 1.2467, 0.2694, 1.1963, 0.5706, 2.6802, 2.6266, 2.6072, 2.6072, 2.5012, 2.4718, 2.4709, 2.4547, 2.4384, 2.4133, 2.3943, 2.3861, 2.3783, 2.3777, 2.363, 2.3624, 2.3608, 2.3449, 2.3353, 2.3241, 2.3218, 2.3184, 2.3172, 2.3068, 2.3008, 2.2935, 2.269, 2.2651, 2.2586, 2.2574, 2.2361, 2.1362, 2.132, 2.1791, 2.0877, 2.134, 2.0802, 2.1174, 1.8384, 1.6624, 1.9786, 1.6033, 1.0041, 1.7874, 2.0236, 1.169, 1.4995, 1.0573, 1.3644, 1.554, 1.4797, 0.6019, 1.2688, 1.0637, 1.1794, 1.4186, 0.4407, 1.149, 1.4951, 0.4002, 0.1082, 1.3499, 1.3499, 1.3488, 1.336, 1.3324, 1.3311, 1.3297, 1.3219, 1.3209, 1.319, 1.3156, 1.3156, 1.3118, 1.311, 1.3074, 1.3051, 1.3042, 1.3023, 1.3023, 1.3023, 1.3023, 1.2999, 1.2963, 1.2963, 1.2963, 1.2963, 1.2938, 1.2892, 1.2892, 1.2892, 1.2879, 1.2853, 1.2702, 1.2625, 1.2273, 1.2408, 1.2631, 1.1605, 1.1512, 1.1867, 1.1861, 1.2334, 1.1904, 1.1312, 1.0351, 1.2055, 1.0882, 0.9766, 1.1113, 1.1762, 1.1558, 0.9719, 1.1481, 0.9502, 1.0532, 0.771, 1.1145, 0.9041, 0.9795, 1.1, 0.7307, 1.0739, 0.967, 0.8187, 0.8183, 1.033, 0.626, 0.5194, 0.4043, 0.7985, 0.4891, 0.8726, 0.6833, 0.2733, -0.8035, 0.0814, 0.1841, 2.694, 2.6309, 2.6045, 2.6031, 2.5996, 2.5544, 2.5369, 2.5177, 2.491, 2.4841, 2.4762, 2.4753, 2.4636, 2.4449, 2.4319, 2.425, 2.4205, 2.4134, 2.4106, 2.409, 2.3996, 2.3954, 2.3903, 2.3763, 2.3403, 2.3307, 2.325, 2.3151, 2.3138, 2.2987, 2.286, 2.2776, 2.1566, 2.2219, 2.2684, 2.0559, 1.9719, 2.1312, 2.0778, 2.0463, 1.8091, 1.5753, 1.9023, 2.1571, 2.0826, 1.229, 1.8016, 1.4053, 1.6932, 1.3167, 0.4309, 1.3111, 1.5221, 1.4252, 1.1277, 1.6122]}, \"token.table\": {\"Topic\": [2, 8, 1, 2, 3, 4, 5, 6, 7, 8, 9, 10, 1, 2, 3, 4, 5, 6, 7, 8, 9, 10, 1, 2, 3, 4, 5, 6, 7, 8, 9, 10, 1, 3, 7, 8, 9, 10, 1, 2, 3, 5, 6, 7, 8, 9, 10, 1, 2, 3, 5, 6, 7, 8, 9, 10, 6, 8, 7, 8, 9, 1, 8, 9, 10, 1, 2, 3, 8, 9, 7, 2, 6, 7, 8, 9, 6, 10, 2, 6, 9, 3, 5, 6, 7, 8, 9, 10, 2, 6, 10, 7, 8, 10, 2, 3, 4, 7, 8, 9, 10, 1, 8, 10, 2, 3, 4, 6, 8, 9, 10, 4, 6, 8, 9, 3, 9, 10, 2, 10, 1, 2, 3, 5, 6, 7, 8, 9, 10, 3, 5, 1, 1, 4, 5, 7, 6, 1, 3, 6, 7, 9, 2, 7, 9, 1, 2, 3, 6, 7, 8, 9, 10, 1, 2, 3, 4, 8, 9, 10, 1, 3, 5, 6, 7, 8, 9, 3, 6, 7, 1, 2, 6, 8, 9, 1, 2, 4, 9, 3, 4, 5, 6, 7, 9, 10, 5, 6, 9, 10, 9, 10, 6, 7, 9, 10, 1, 2, 3, 6, 7, 8, 9, 10, 1, 7, 8, 6, 7, 9, 3, 5, 7, 9, 2, 7, 1, 2, 3, 4, 5, 8, 9, 10, 4, 7, 9, 2, 7, 8, 1, 3, 4, 5, 6, 9, 10, 4, 5, 6, 1, 4, 6, 3, 7, 3, 7, 6, 1, 6, 9, 1, 2, 4, 6, 1, 1, 2, 3, 4, 8, 9, 1, 2, 3, 5, 6, 7, 8, 9, 10, 2, 6, 7, 8, 1, 2, 5, 6, 7, 8, 9, 2, 3, 9, 5, 6, 1, 2, 3, 5, 6, 7, 8, 9, 4, 6, 8, 10, 6, 8, 10, 7, 9, 7, 9, 10, 1, 2, 5, 1, 6, 2, 6, 10, 3, 6, 9, 10, 2, 3, 7, 9, 1, 3, 6, 9, 1, 9, 10, 1, 6, 8, 10, 2, 3, 4, 5, 6, 8, 9, 10, 1, 3, 4, 5, 6, 7, 9, 9, 1, 3, 5, 6, 7, 8, 9, 2, 4, 6, 10, 2, 3, 8, 9, 4, 6, 1, 4, 8, 9, 1, 3, 6, 7, 8, 9, 2, 7, 2, 6, 9, 10, 2, 6, 8, 1, 9, 10, 3, 4, 7, 9, 10, 1, 2, 3, 5, 6, 7, 8, 9, 3, 4, 6, 9, 1, 3, 6, 9, 2, 6, 7, 9, 3, 5, 6, 7, 8, 9, 10, 1, 2, 3, 6, 7, 8, 9, 10, 1, 2, 5, 2, 3, 5, 6, 7, 8, 9, 10, 1, 3, 5, 6, 9, 1, 5, 1, 4, 6, 1, 2, 4, 6, 8, 9, 1, 8, 9, 6, 1, 2, 3, 4, 5, 6, 8, 9, 9, 2, 3, 5, 6, 7, 8, 9, 10, 2, 9, 1, 2, 3, 4, 5, 6, 9, 10, 1, 7, 9, 6, 7, 8, 9, 9, 3, 6, 8, 9, 1, 2, 3, 5, 6, 7, 9, 10, 3, 9, 3, 8, 9, 9, 9, 9, 3, 6, 9, 10, 1, 2, 3, 4, 5, 7, 8, 9, 10, 1, 6, 9, 2, 3, 7, 8, 9, 1, 3, 6, 9, 10, 1, 2, 3, 6, 8, 9, 2, 6, 7, 8, 9, 10, 1, 3, 5, 6, 7, 9, 10, 1, 2, 6, 7, 2, 3, 6, 8, 5, 6, 2, 7, 8, 1, 2, 3, 4, 5, 6, 7, 8, 9, 1, 2, 9, 6, 3, 4, 6, 8, 9, 1, 6, 7, 6, 1, 3, 5, 6, 8, 3, 8, 9, 10, 6, 7, 1, 2, 3, 4, 5, 6, 7, 8, 9, 10, 1, 2, 3, 4, 5, 6, 7, 8, 9, 6, 9, 3, 9, 2, 3, 9, 9, 5, 7, 9, 9, 1, 2, 3, 7, 8, 9, 10, 1, 6, 7, 8, 9, 10, 6, 10, 6, 8, 10, 2, 3, 7, 8, 9, 10, 3, 9, 10, 1, 2, 3, 5, 8, 9, 10, 1, 2, 3, 8, 9, 10, 1, 4, 5, 6, 7, 9, 10, 1, 5, 6, 9, 5, 9, 2, 4, 6, 8, 3, 7, 1, 2, 3, 4, 5, 6, 8, 9, 1, 5, 6, 9, 10, 1, 5, 6, 1, 3, 3, 4, 7, 9, 2, 3, 6, 7, 8, 9, 2, 4, 7, 8, 9, 1, 2, 9, 10, 2, 3, 9, 9, 3, 7, 8, 9, 1, 3, 9, 1, 3, 6, 10, 2, 3, 9, 1, 2, 3, 5, 9, 3, 5, 3, 9, 1, 3, 6, 7, 8, 2, 6, 7, 10, 9, 10, 2, 7, 8, 10, 3, 8, 1, 2, 3, 6, 9, 10, 1, 5, 9, 7, 9, 2, 9, 1, 2, 5, 7, 8, 9, 10, 1, 2, 3, 4, 5, 6, 9, 1, 2, 3, 4, 5, 6, 7, 8, 9, 2, 3, 8, 1, 2, 3, 6, 7, 8, 5, 6, 9, 2, 3, 6, 8, 9, 10, 1, 3, 4, 9, 2, 3, 4, 6, 7, 8, 9, 10, 1, 3, 4, 5, 6, 2, 4, 5, 6, 3, 4, 5, 6, 9, 1, 4, 6, 6, 1, 10, 1, 5, 7, 8, 10, 5, 9, 8, 1, 2, 3, 4, 6, 7, 9, 5, 8, 9, 10, 1, 2, 3, 6, 9, 10, 1, 2, 3, 7, 8, 9, 10, 3, 5, 6, 7, 8, 9, 2, 6, 7, 2, 1, 3, 8, 9, 10, 2, 6, 8, 10, 1, 3, 5, 6, 9, 1, 3, 4, 1, 2, 4, 6, 7, 6, 4, 8, 1, 2, 3, 4, 5, 6, 1, 5, 7, 8, 2, 6, 9, 1, 2, 3, 5, 6, 7, 8, 9, 10, 1, 6, 7, 9, 7, 9, 2, 3, 6, 2, 4, 5, 6, 9, 1, 2, 3, 4, 5, 6, 8, 9, 6, 1, 2, 3, 4, 5, 6, 7, 8, 9, 10, 9, 1, 3, 4, 5, 6, 7, 9, 2, 3, 4, 5, 7, 8, 9, 10, 5, 9, 1, 3, 5, 6, 3, 7, 6, 9, 5, 6, 1, 3, 4, 5, 6, 7, 8, 9, 10, 6, 7, 8, 9, 10, 2, 3, 9, 3, 4, 5, 6, 7, 9, 1, 5, 6, 9, 10, 1, 4, 9, 1, 10, 6, 8, 4, 5, 6, 5, 8, 1, 2, 3, 4, 5, 6, 7, 8, 9, 10, 1, 2, 3, 4, 6, 7, 1, 2, 1, 5, 6, 1, 1, 3, 4, 5, 6, 7, 8, 9, 10, 1, 2, 5, 6, 7, 9, 9, 1, 7, 8, 1, 2, 3, 5, 6, 7, 9, 10, 6, 7, 9, 1, 4, 6, 8, 9, 1, 4, 8, 5, 6, 7, 8, 9, 10, 9, 1, 2, 3, 9, 10, 1, 3, 6, 7, 9, 10, 2, 2, 7, 8, 9, 1, 3, 9, 10, 1, 9, 10, 3, 9, 2, 6, 7, 8, 9, 10, 3, 5, 6, 9, 7, 9, 6, 6, 1, 2, 3, 5, 6, 7, 9, 1, 2, 6, 7, 9, 5, 7, 3, 4, 6, 7, 9, 3, 4, 9, 1, 6, 6, 1, 3, 4, 5, 6, 7, 9, 6, 8, 1, 2, 3, 4, 5, 6, 7, 8, 9, 4, 5, 8, 9, 1, 2, 3, 4, 7, 9, 10, 2, 3, 6, 7, 9, 10, 2, 3, 8, 9, 6, 1, 4, 6, 7, 9, 1, 2, 3, 4, 5, 6, 7, 8, 9, 1, 8, 9, 7, 9, 1, 2, 3, 4, 5, 6, 7, 8, 9, 1, 2, 3, 4, 8, 9, 10, 2, 3, 6, 10, 2, 6, 8, 1, 2, 3, 4, 5, 6, 7, 8, 9, 1, 4, 5, 1, 2, 3, 4, 5, 6, 7, 8, 9, 10, 1, 2, 4, 5, 6, 8, 1, 2, 5, 6, 7, 8, 9, 10, 2, 3, 4, 9, 10, 3, 4, 5, 6, 9, 2, 5, 6, 5, 6, 6, 1, 6, 6, 8, 1, 2, 3, 5, 6, 7, 8, 9, 10, 1, 2, 3, 4, 8, 9, 10, 1, 2, 3, 6, 7, 9, 10, 3, 9, 10, 1, 9, 1, 10, 1, 2, 3, 4, 7, 8, 9, 2, 3, 4, 5, 6, 7, 8, 9, 10, 1, 2, 3, 4, 5, 6, 8, 9, 10, 6, 7, 8, 9, 2, 3, 5, 6, 8, 9, 1, 3, 5, 8, 9, 10, 2, 3, 6, 7, 8, 9, 10, 1, 2, 5, 6, 9, 3, 9, 10, 3, 3, 9, 3, 5, 6, 10, 2, 6, 7, 8, 1, 2, 3, 5, 6, 7, 9, 6, 3, 5, 6, 2, 9, 3, 10, 1, 3, 4, 6, 9, 10, 3, 5, 6, 7, 9, 10, 1, 2, 6, 8, 9, 1, 2, 3, 6, 7, 8, 9, 10, 2, 3, 8, 9, 1, 2, 3, 5, 6, 7, 8, 9, 10, 4, 9, 1, 3, 5, 6, 7, 8, 9, 10, 6, 9, 3, 4, 9, 1, 2, 3, 4, 6, 7, 8, 9, 10, 1, 2, 9, 10, 1, 2, 3, 4, 5, 6, 7, 9, 10, 6, 4, 8, 9, 10, 6, 1, 6, 1, 7, 9, 2, 5, 7, 9, 10, 2, 3, 5, 6, 8, 9, 3, 6, 8, 1, 2, 3, 4, 5, 6, 7, 8, 9, 10, 1, 5, 6, 1, 2, 6, 9, 10, 1, 6, 9, 1, 1, 4, 1, 4, 1, 4, 1, 2, 3, 5, 6, 7, 8, 9, 10, 1, 2, 6, 7, 9, 10, 2, 6, 7, 9, 10, 1, 4, 6, 10, 1, 4, 3, 6, 3, 3, 6, 7, 9, 1, 2, 3, 9, 10, 3, 7, 9, 2, 5, 6, 8, 9, 1, 4, 9, 1, 3, 4, 6, 10, 4, 9, 2, 3, 4, 6, 7, 8, 9, 10, 9, 1, 3, 4, 6, 8, 9, 10, 1, 2, 3, 4, 6, 8, 9, 10, 5, 7, 3, 9, 2, 3, 6, 8, 9, 10, 1, 2, 3, 6, 7, 8, 9, 10, 2, 9, 1, 2, 3, 6, 7, 8, 9, 10, 5, 7, 9, 10, 1, 2, 3, 4, 7, 8, 9, 10, 5, 8, 9, 10, 2, 3, 6, 7, 8, 9, 10, 2, 8, 9, 10, 1, 2, 3, 6, 8, 9, 10, 1, 3, 8, 1, 3, 2, 3, 4, 5, 8, 9, 10, 3, 8, 10, 2, 5, 9, 3, 5, 10, 4, 7, 9, 2, 8, 9, 1, 2, 3, 4, 7, 8, 9, 10, 7, 9, 10, 4, 6, 8, 9, 5, 9, 2, 8, 9, 1, 7, 9, 2, 3, 6, 7, 8, 9, 10, 9, 1, 3, 6, 7, 8, 9, 10, 6, 2, 9, 1, 2, 3, 7, 8, 9, 10, 1, 3, 5, 6, 7, 8, 9, 2, 6, 9, 10, 1, 2, 3, 4, 5, 6, 7, 8, 9, 2, 4, 6, 7, 8, 1, 4, 1, 2, 4, 5, 6, 7, 9, 1, 2, 4, 5, 6, 7, 8, 9, 1, 2, 9, 1, 2, 1, 3, 4, 5, 6, 7, 9, 10, 2, 3, 5, 6, 7, 9, 10, 1, 4, 9, 5, 6, 7, 8, 9, 1, 2, 3, 4, 5, 6, 7, 8, 9, 1, 2, 3, 6, 7, 8, 9, 10, 1, 9, 1, 2, 6, 8, 10, 1, 2, 3, 4, 5, 6, 8, 9, 10, 2, 3, 5, 6, 9, 2, 3, 5, 6, 8, 9, 10, 3, 7, 9, 9, 2, 3, 5, 6, 7, 8, 9, 10, 2, 3, 5, 6, 7, 8, 9, 10, 1, 2, 4, 6, 7, 8, 9, 10, 1, 5, 8, 9, 10, 5, 9, 3, 8, 9, 10, 3, 8, 3, 6, 8, 9, 1, 4, 6, 7, 9, 6, 4, 5, 6, 1, 3, 6, 8, 1, 6, 7, 8, 10, 4, 5, 1, 4, 6, 1, 2, 5, 6, 7, 8, 9, 6, 1, 2, 3, 9, 10, 1, 4, 5, 1, 5, 1, 7, 5, 6, 7, 3, 4, 9, 7, 9, 1, 5, 6, 4, 5, 1, 3, 4, 5, 6, 7, 8, 9, 10, 1, 2, 3, 4, 6, 7, 8, 9, 10, 2, 3, 4, 5, 6, 7, 8, 9, 10, 2, 3, 6, 8, 9, 10, 5, 8, 9, 2, 3, 4, 5, 6, 7, 9, 1, 4, 6, 3, 9, 1, 4, 6, 9, 2, 5, 6, 7, 8, 2, 3, 6, 7, 8, 9, 1, 3, 9, 2, 6, 1, 3, 4, 5, 6, 9, 10, 6, 5, 6, 6, 1, 2, 3, 6, 7, 8, 9, 10, 3, 4, 9, 10, 1, 3, 4, 7, 9, 5, 7, 8, 9, 10, 1, 2, 3, 4, 6, 7, 8, 3, 8, 9, 10, 1, 2, 8, 9, 10, 1, 3, 1, 3, 5, 6, 7, 8, 10, 1, 3, 4, 5, 6, 8, 9, 10, 3, 7, 8, 1, 5, 7, 8, 9, 10, 1, 2, 3, 4, 5, 6, 7, 8, 9, 6, 1, 4, 9, 5, 6, 1, 3, 4, 5, 6, 7, 8, 9, 5, 9, 3, 5, 6, 7, 9, 10, 6, 8, 10, 3, 7, 1, 3, 5, 9, 10, 1, 2, 4, 6, 9, 10, 3, 7, 8, 1, 6, 9, 3, 5, 9, 1, 3, 4, 5, 6, 7, 9, 1, 2, 4, 8, 9, 10, 2, 6, 1, 5, 1, 2, 5, 6, 8, 10, 2, 3, 5, 6, 8, 9, 10, 1, 2, 6, 7, 8, 9, 10, 1, 2, 3, 4, 5, 6, 8, 9, 10, 6, 2, 3, 5, 6, 1, 4, 5, 6, 8, 1, 2, 3, 6, 7, 8, 9, 2, 4, 6, 9, 3, 5, 8, 3, 8, 4, 5, 6, 8, 9, 1, 2, 3, 6, 8, 9, 10, 6, 8, 3, 7, 9, 10, 1, 5, 6, 7, 6, 2, 3, 5, 6, 9, 10, 1, 6, 10, 9, 1, 2, 3, 5, 6, 9, 10, 1, 3, 5, 6, 7, 1, 2, 4, 5, 6, 7, 8, 9, 10, 1, 2, 3, 4, 5, 6, 7, 8, 9, 10, 3, 4, 9, 6, 6, 8, 1, 3, 4, 6, 8, 1, 3, 4, 5, 6, 7, 9, 1, 3, 4, 6, 9, 10, 1, 2, 4, 5, 6, 9, 10, 2, 7, 5, 6, 1, 6, 7, 3, 5, 6, 8, 1, 2, 3, 6, 7, 8, 9, 10, 8, 1, 2, 3, 5, 6, 8, 9, 10, 1, 6, 9, 1, 6, 1, 3, 5, 6, 7, 9, 1, 2, 3, 6, 8, 9, 10, 1, 2, 5, 6, 8, 9], \"Freq\": [0.06258647663777221, 0.8762106729288109, 0.06389180806883384, 0.07454044274697282, 0.11003589167410273, 0.003549544892712991, 0.007099089785425982, 0.03549544892712991, 0.19522496909921452, 0.09938725699596375, 0.37980130352029007, 0.03194590403441692, 0.19413479172827985, 0.0554670833509371, 0.17333463547167843, 0.048533697932069964, 0.02773354167546855, 0.09013401044527279, 0.11786755212074133, 0.1109341667018742, 0.09706739586413993, 0.08320062502640564, 0.34809235227949414, 0.011228785557403037, 0.07860149890182126, 0.011228785557403037, 0.011228785557403037, 0.022457571114806073, 0.31440599560728505, 0.11228785557403037, 0.06737271334441822, 0.011228785557403037, 0.06359836406875079, 0.38159018441250475, 0.07949795508593849, 0.15899591017187698, 0.23849386525781546, 0.07949795508593849, 0.10858908997845078, 0.015512727139778682, 0.31025454279557363, 0.007756363569889341, 0.007756363569889341, 0.02326909070966802, 0.15512727139778681, 0.3024981792256843, 0.06205090855911473, 0.13046121363264718, 0.05218448545305887, 0.22613277029658843, 0.06957931393741183, 0.017394828484352958, 0.20873794181223548, 0.026092242726529435, 0.23483018453876492, 0.034789656968705916, 0.1622850477205113, 0.7302827147423009, 0.1950217244384516, 0.6240695182030451, 0.11701303466307095, 0.10540349264690559, 0.6675554534304021, 0.17567248774484265, 0.03513449754896853, 0.12449430635869606, 0.06224715317934803, 0.6224715317934802, 0.06224715317934803, 0.06224715317934803, 0.8917201080463468, 0.6482985128977936, 0.06824194872608354, 0.17060487181520884, 0.1023629230891253, 0.9404412482886938, 0.14920631106005475, 0.7460315553002738, 0.5705719940365895, 0.28528599701829477, 0.12679377645257545, 0.052745774402340934, 0.045210663773435085, 0.022605331886717542, 0.06781599566015263, 0.09795643817577603, 0.6781599566015263, 0.03014044251562339, 0.20989036176574968, 0.06996345392191657, 0.6996345392191656, 0.1497824641621201, 0.07489123208106005, 0.7489123208106006, 0.022385800906853964, 0.022385800906853964, 0.014923867271235977, 0.022385800906853964, 0.014923867271235977, 0.8655843017316867, 0.03730966817808994, 0.3767510582969135, 0.2825632937226852, 0.3363848734793871, 0.029858714378212838, 0.019905809585475227, 0.07962323834190091, 0.029858714378212838, 0.049764523963688065, 0.7265620498698457, 0.059717428756425675, 0.3330491930265224, 0.055508198837753736, 0.4995737895397836, 0.11101639767550747, 0.9001892528517064, 0.03600757011406826, 0.05401135517110238, 0.0808008612603697, 0.8888094738640667, 0.0457259780082921, 0.12574643952280326, 0.11812544318808792, 0.00762099633471535, 0.17528291569845303, 0.0152419926694307, 0.08002046151451117, 0.4267757947440596, 0.003810498167357675, 0.09597219348734087, 0.8637497413860679, 0.9117079069144776, 0.07906691735520559, 0.31626766942082235, 0.39533458677602795, 0.15813383471041118, 0.988103693739722, 0.059358978796063534, 0.11871795759212707, 0.059358978796063534, 0.6232692773586671, 0.08903846819409529, 0.16028870629150352, 0.6411548251660141, 0.08014435314575176, 0.08256131007741424, 0.31648502196342126, 0.027520436692471412, 0.07568120090429639, 0.048160764211824976, 0.12384196511612136, 0.2683242577515963, 0.055040873384942825, 0.10093187389794107, 0.33307518386320556, 0.08074549911835285, 0.010093187389794107, 0.06055912433876464, 0.33307518386320556, 0.07065231172855875, 0.08043166382486414, 0.4182446518892935, 0.03217266552994565, 0.11260432935480978, 0.03217266552994565, 0.08043166382486414, 0.2412949914745924, 0.13857231512710103, 0.06928615756355051, 0.7621477331990556, 0.034003280439411705, 0.034003280439411705, 0.5100492065911756, 0.3910377250532346, 0.017001640219705853, 0.047968768675407905, 0.07195315301311185, 0.023984384337703953, 0.8394534518196384, 0.05074575232711195, 0.008457625387851992, 0.22835588547200378, 0.4820846471075635, 0.06766100310281593, 0.13532200620563187, 0.025372876163555973, 0.8179630558147956, 0.11685186511639938, 0.16488175441516906, 0.7694481872707889, 0.28403113204132896, 0.5680622640826579, 0.01711183997228196, 0.05133551991684588, 0.8042564786972521, 0.10267103983369176, 0.038181387306739534, 0.05090851640898605, 0.012727129102246512, 0.038181387306739534, 0.2927239693516698, 0.30545109845391627, 0.22908832384043723, 0.038181387306739534, 0.15117948924824726, 0.07558974462412363, 0.6803077016171126, 0.17210786579928608, 0.6884314631971443, 0.08605393289964304, 0.05057398266770956, 0.10114796533541912, 0.5816008006786599, 0.2528699133385478, 0.757767102537684, 0.15155342050753678, 0.13305829932822374, 0.1663228741602797, 0.024948431124041954, 0.016632287416027968, 0.016632287416027968, 0.2079035927003496, 0.3575941794446013, 0.07484529337212587, 0.07483674929660251, 0.6735307436694226, 0.22451024788980753, 0.11183140551898364, 0.7455427034598909, 0.11183140551898364, 0.08244305757386235, 0.09893166908863481, 0.0741987518164761, 0.18961903241988337, 0.46992542817101535, 0.05771014030170364, 0.008244305757386234, 0.2614809426070446, 0.1743206284046964, 0.581068761348988, 0.6130011481909151, 0.215378781796808, 0.14910838739779017, 0.10423621529205215, 0.729653507044365, 0.2615135085718779, 0.6973693561916744, 0.9175824014435988, 0.8366579286973216, 0.03346631714789287, 0.1003989514436786, 0.8015695598682043, 0.05171416515278738, 0.10342833030557476, 0.05171416515278738, 0.8934317709380505, 0.11394284866917015, 0.6076951929022408, 0.11394284866917015, 0.03798094955639005, 0.03798094955639005, 0.11394284866917015, 0.22630011258452637, 0.11943617053072225, 0.044002799669213465, 0.10686394205380412, 0.28287514073065795, 0.025144456953836263, 0.044002799669213465, 0.13829451324609945, 0.012572228476918131, 0.5250385807988007, 0.20193791569184644, 0.20193791569184644, 0.040387583138369286, 0.16141319542436164, 0.021521759389914883, 0.043043518779829766, 0.11836967664453187, 0.4196743081033403, 0.010760879694957442, 0.23673935328906373, 0.055524821452743296, 0.7033144050680817, 0.22209928581097318, 0.6985927321862803, 0.2328642440620934, 0.09700784412208178, 0.1255395629815176, 0.017119031315661493, 0.0057063437718871644, 0.10842053166585612, 0.40515040780398864, 0.06847612526264597, 0.17119031315661493, 0.14757693521163115, 0.12298077934302597, 0.6886923643209454, 0.049192311737210385, 0.025712360984413127, 0.4371101367350232, 0.5142472196882626, 0.7598254407105114, 0.20722512019377584, 0.8539795085907889, 0.09149780449187023, 0.030499268163956744, 0.08823485605579498, 0.17646971211158996, 0.6176439923905648, 0.9608450847110229, 0.9638851735308479, 0.03860239649876219, 0.21231318074319203, 0.7334455334764816, 0.052069811174375945, 0.052069811174375945, 0.26034905587187973, 0.5727679229181354, 0.0918217942254533, 0.5968416624654465, 0.1836435884509066, 0.0918217942254533, 0.11886234502845318, 0.01981039083807553, 0.7428896564278323, 0.11886234502845318, 0.8795788276993022, 0.07996171160902747, 0.039980855804513736, 0.8934320636760205, 0.18565643878527774, 0.6188547959509257, 0.12377095919018515, 0.03294141807129465, 0.03294141807129465, 0.01411775060198342, 0.04235325180595026, 0.15529525662181762, 0.037647334938622455, 0.6541224445585652, 0.02823550120396684, 0.1126631567196549, 0.0250362570488122, 0.08136783540863965, 0.17525379934168542, 0.4694298196652288, 0.00625906426220305, 0.125181285244061, 0.9467978085065649, 0.016018171161481548, 0.032036342322963096, 0.008009085580740774, 0.5366087339096318, 0.13615445487259314, 0.24828165300296398, 0.016018171161481548, 0.1831221032420454, 0.3662442064840908, 0.1831221032420454, 0.1831221032420454, 0.6395163236608847, 0.03197581618304424, 0.06395163236608847, 0.2558065294643539, 0.8084553413189156, 0.16169106826378313, 0.08586809426356008, 0.4293404713178004, 0.08586809426356008, 0.34347237705424033, 0.026597667982465073, 0.10639067192986029, 0.06649416995616268, 0.545252193640534, 0.053195335964930146, 0.19948250986848806, 0.7061198442925979, 0.17652996107314947, 0.05787984988663701, 0.17363954965991105, 0.11575969977327402, 0.6366783487530071, 0.07250457009003147, 0.2537659953151101, 0.6525411308102832, 0.9259131145074833, 0.9189509469492589, 0.03534426719035611, 0.039709636366740984, 0.5956445455011148, 0.19854818183370493, 0.07941927273348197, 0.07941927273348197, 0.023295033249070025, 0.023295033249070025, 0.04659006649814005, 0.015530022166046684, 0.613435875558844, 0.05435507758116339, 0.06212008866418674, 0.1630652327434902, 0.8180782617592183, 0.03029919487997105, 0.0605983897599421, 0.09089758463991314, 0.1752577655848567, 0.6134021795469984, 0.08762888279242835, 0.13144332418864252, 0.020785240063298453, 0.7586612623103935, 0.041570480126596907, 0.17667454053803686, 0.07556170762928237, 0.018890426907320592, 0.2266851228878471, 0.09445213453660295, 0.018890426907320592, 0.11334256144392355, 0.4722606726830148, 0.037012381264582915, 0.009253095316145729, 0.023132738290364323, 0.27296631182629905, 0.19431500163906032, 0.023132738290364323, 0.41176274156848497, 0.027759285948437188, 0.10610862377025546, 0.7427603663917882, 0.10610862377025546, 0.019755025794155286, 0.009877512897077643, 0.019755025794155286, 0.6420383383100468, 0.009877512897077643, 0.009877512897077643, 0.02963253869123293, 0.25681533532401873, 0.8799852933503525, 0.01222201796319934, 0.02444403592639868, 0.01222201796319934, 0.0611100898159967, 0.23362460780160438, 0.7008738234048131, 0.3490621776644622, 0.41887461319735464, 0.20943730659867732, 0.1349020305370745, 0.017986937404943268, 0.0269804061074149, 0.6295428091730143, 0.1618824366444894, 0.008993468702471634, 0.9110446127068623, 0.04338307679556487, 0.9329249361178756, 0.926483613084274, 0.01511909281381455, 0.01511909281381455, 0.0604763712552582, 0.13607183532433095, 0.18142911376577459, 0.3930964131591783, 0.01511909281381455, 0.16631002095196004, 0.9467977285610188, 0.11303917224055332, 0.008074226588610952, 0.008074226588610952, 0.3148948369558271, 0.08074226588610951, 0.33911751672165996, 0.12111339882916426, 0.016148453177221904, 0.7561751238919074, 0.1512350247783815, 0.06539156016189876, 0.0544929668015823, 0.043594373441265835, 0.04904367012142406, 0.17982679044522157, 0.40324795433170896, 0.1852760871253798, 0.021797186720632918, 0.060899792298148986, 0.6698977152796388, 0.24359916919259594, 0.15305157593276875, 0.1890637114463614, 0.04501516939199081, 0.6032032698526768, 0.9679650844144171, 0.19003940011866602, 0.027148485731238, 0.013574242865619, 0.7601576004746641, 0.01427859264652, 0.11422874117216, 0.00713929632326, 0.00713929632326, 0.19990029705128, 0.23559677866758003, 0.22845748234432, 0.19276100072802002, 0.4871310749506277, 0.4871310749506277, 0.1743944335330054, 0.10463666011980324, 0.7092040297008887, 0.9647299133556324, 0.9404412010911559, 0.9523587720660522, 0.7029267835671567, 0.05020905596908262, 0.15062716790724787, 0.05020905596908262, 0.06137611489836477, 0.2823301285324779, 0.11047700681705658, 0.04910089191869181, 0.024550445959345905, 0.024550445959345905, 0.07365133787803772, 0.2946053515121509, 0.07365133787803772, 0.9053296265070018, 0.053254683912176574, 0.026627341956088287, 0.10649743316475345, 0.013312179145594181, 0.03993653743678254, 0.5457993449693614, 0.27955576205747784, 0.013476432010125883, 0.013476432010125883, 0.04042929603037765, 0.9029209446784341, 0.026952864020251766, 0.013752533377196098, 0.04813386682018634, 0.06876266688598048, 0.24066933410093172, 0.13064906708336294, 0.5019674682676576, 0.038294580207394686, 0.09573645051848671, 0.44038767238503884, 0.07658916041478937, 0.31593028671100615, 0.028720935155546013, 0.018419969348882678, 0.027629954023324018, 0.018419969348882678, 0.07367987739553071, 0.43286927969874295, 0.3960293410009776, 0.027629954023324018, 0.03642983054052098, 0.03642983054052098, 0.8743159329725035, 0.03642983054052098, 0.7494072000890568, 0.0624506000074214, 0.0624506000074214, 0.0624506000074214, 0.6548871533237883, 0.2619548613295153, 0.1178756547470361, 0.1178756547470361, 0.5893782737351805, 0.6203736162864193, 0.020679120542880645, 0.06203736162864193, 0.031018680814320965, 0.020679120542880645, 0.020679120542880645, 0.031018680814320965, 0.010339560271440323, 0.17577252461448548, 0.8253836682373874, 0.0717724928902076, 0.0717724928902076, 0.9338958134759431, 0.019943327182227764, 0.4387531980090108, 0.2193765990045054, 0.11965996309336659, 0.19943327182227766, 0.03384714151178853, 0.253853561338414, 0.7107899717475592, 0.9708841435621189, 0.12443159443968697, 0.024886318887937395, 0.4728400588708105, 0.22397686999143657, 0.12443159443968697, 0.1106447311553928, 0.1936282795219374, 0.0829835483665446, 0.553223655776964, 0.07407002222654831, 0.8888402667185796, 0.07676842033073836, 0.12015926660463394, 0.05006636108526414, 0.036715331462527034, 0.13017253882168678, 0.3204247109456905, 0.046728603679579865, 0.0700929055193698, 0.12015926660463394, 0.030039816651158485, 0.09242688403866174, 0.014219520621332575, 0.08531712372799545, 0.07109760310666287, 0.04976832217466401, 0.40525633770797836, 0.042658561863997725, 0.06398784279599659, 0.18485376807732348, 0.9338958883088451, 0.9329249553232823, 0.6781574599695201, 0.2260524866565067, 0.01626865351403264, 0.01626865351403264, 0.9435819038138931, 0.983354369810413, 0.10368929456136372, 0.725825061929546, 0.15553394184204558, 0.9404413639325082, 0.0062982594410297904, 0.025193037764119162, 0.025193037764119162, 0.23303559931810225, 0.0629825944102979, 0.5731416091337109, 0.06928085385132769, 0.37127790687134415, 0.0265198504908103, 0.039779775736215446, 0.25193857966269784, 0.01325992524540515, 0.3049782806443184, 0.38206398011245124, 0.6003862544624234, 0.08753553127479274, 0.1750710625495855, 0.700284250198342, 0.03786314108014601, 0.7193996805227743, 0.03786314108014601, 0.03786314108014601, 0.03786314108014601, 0.07572628216029202, 0.6341522964432394, 0.10569204940720658, 0.10569204940720658, 0.06083716216581927, 0.08111621622109236, 0.06083716216581927, 0.04055810811054618, 0.5272554054371004, 0.16223243244218472, 0.08111621622109236, 0.034781623615429504, 0.13912649446171801, 0.1093136742199213, 0.05962564048359344, 0.5763811913414032, 0.07950085397812459, 0.01625489186220066, 0.048764675586601976, 0.34948017503731416, 0.5364114314526217, 0.024382337793300988, 0.01625489186220066, 0.00812744593110033, 0.058246296048376466, 0.029123148024188233, 0.8736944407256471, 0.9467980982088863, 0.699962839962258, 0.1749907099905645, 0.6747316784380553, 0.13494633568761105, 0.06747316784380553, 0.06747316784380553, 0.7945756666169017, 0.17657237035931148, 0.25063907708228367, 0.039874398626726947, 0.022785370643843967, 0.06265976927057092, 0.10823051055825884, 0.4841891261816843, 0.011392685321921983, 0.017089027982882976, 0.7477986069363532, 0.0482450714152486, 0.0964901428304972, 0.0964901428304972, 0.0241225357076243, 0.0873319945035755, 0.698655956028604, 0.174663989007151, 0.9513847403411563, 0.029730773135661134, 0.1319086504545538, 0.011991695495868529, 0.011991695495868529, 0.8274269892149284, 0.18566982876919208, 0.011604364298074505, 0.04641745719229802, 0.1740654644711176, 0.2669003788557136, 0.31331783604801167, 0.09939085077106895, 0.29817255231320683, 0.049695425385534474, 0.14908627615660341, 0.3975634030842758, 0.052299287631745, 0.052299287631745, 0.8019224103534234, 0.10459857526349, 0.7057802200599756, 0.07057802200599757, 0.14115604401199514, 0.9738104068939883, 0.018093000223599248, 0.43423200536638196, 0.018093000223599248, 0.506604006260779, 0.22604572229781458, 0.640462879843808, 0.11302286114890729, 0.061579441250651665, 0.184738323751955, 0.12315888250130333, 0.6465841331318425, 0.7742303982787361, 0.040748968330459795, 0.16299587332183918, 0.018992787163482478, 0.4178413175966145, 0.018992787163482478, 0.07597114865392991, 0.45582689192357945, 0.7080788392111008, 0.1770197098027752, 0.8486085325164131, 0.0707173777097011, 0.1022226027193429, 0.13629680362579052, 0.1022226027193429, 0.03407420090644763, 0.647409817222505, 0.029876294810359607, 0.08962888443107883, 0.029876294810359607, 0.836536254690069, 0.24240429032529875, 0.7514533000084261, 0.03496467394801525, 0.10489402184404575, 0.0699293478960305, 0.7692228268563356, 0.7093468462289908, 0.26600506733587154, 0.21892173210830534, 0.03807334471448789, 0.4378434642166107, 0.03807334471448789, 0.23795840446554928, 0.028555008535865914, 0.09585509774456996, 0.6709856842119897, 0.09585509774456996, 0.8300984993768576, 0.1037623124221072, 0.671671266056708, 0.19190607601620227, 0.04781676491197648, 0.09563352982395296, 0.5738011789437177, 0.09563352982395296, 0.04781676491197648, 0.04781676491197648, 0.04781676491197648, 0.020688057406786146, 0.010344028703393073, 0.04137611481357229, 0.03103208611017922, 0.48616934905947445, 0.3723850333221506, 0.04137611481357229, 0.10016936989173937, 0.033389789963913126, 0.06677957992782625, 0.04451971995188417, 0.27824824969927603, 0.3005081096752181, 0.05564964993985521, 0.022259859975942084, 0.08903943990376834, 0.8523153281185849, 0.01937080291178602, 0.11622481747071611, 0.053487474208309786, 0.09169281292853106, 0.0687696096963983, 0.6112854195235404, 0.053487474208309786, 0.11461601616066383, 0.20485678801717647, 0.7406360797544073, 0.03151642892571946, 0.5575421121672228, 0.030974561787067936, 0.12389824714827175, 0.09292368536120381, 0.12389824714827175, 0.06194912357413587, 0.28568000780886793, 0.07142000195221698, 0.5713600156177359, 0.07142000195221698, 0.061293886648582874, 0.05253761712735675, 0.008756269521226125, 0.008756269521226125, 0.2889568942004621, 0.20139419898820088, 0.35900705037027114, 0.026268808563678376, 0.011903314192660995, 0.02380662838532199, 0.8689419360642526, 0.011903314192660995, 0.08332319934862696, 0.3095260904141546, 0.37143130849698547, 0.061905218082830914, 0.18571565424849273, 0.055379575808022795, 0.022151830323209117, 0.40980886097936864, 0.3433533700097413, 0.15506281226246382, 0.13087620807872233, 0.4580667282755282, 0.392628624236167, 0.9338959081034182, 0.9456815354662894, 0.031522717848876315, 0.29071447201255296, 0.4070002608175742, 0.2131906128092055, 0.058142894402510595, 0.019380964800836866, 0.7163962502768757, 0.2204296154698079, 0.911682734748225, 0.04666974100023149, 0.1750115287508681, 0.035002305750173615, 0.011667435250057872, 0.23334870500115745, 0.3500230575017362, 0.14000922300069446, 0.05412884996708293, 0.10825769993416585, 0.14434359991222115, 0.6946535745775643, 0.08462351877535775, 0.04835629644306157, 0.29013777865836937, 0.12089074110765391, 0.38685037154449253, 0.060445370553826955, 0.02257217274819528, 0.09028869099278113, 0.3837269367193198, 0.12414695011507404, 0.06771651824458584, 0.23700781385605046, 0.06771651824458584, 0.07835367254803431, 0.019588418137008578, 0.05876525441102574, 0.019588418137008578, 0.039176836274017156, 0.7835367254803431, 0.7928704774750187, 0.14415826863182157, 0.024026378105303597, 0.9401131862748668, 0.08115803560544683, 0.054105357070297885, 0.6492642848435747, 0.16231607121089367, 0.054105357070297885, 0.75534871873634, 0.151069743747268, 0.0302139487494536, 0.0302139487494536, 0.7793730559984812, 0.051958203733232074, 0.025979101866616037, 0.07793730559984811, 0.025979101866616037, 0.26520446958438687, 0.05304089391687738, 0.6895316209194059, 0.1248759475840102, 0.041625315861336734, 0.041625315861336734, 0.2497518951680204, 0.5411291061973775, 0.968774074782073, 0.2751865518550574, 0.7338308049468197, 0.7112470467510053, 0.09031708530171495, 0.07902744963900057, 0.045158542650857475, 0.011289635662714369, 0.06773781397628621, 0.8465545486870422, 0.03255979033411701, 0.03255979033411701, 0.06511958066823402, 0.03515010650412115, 0.8436025560989076, 0.0703002130082423, 0.024659464763611406, 0.024659464763611406, 0.04931892952722281, 0.0049318929527222815, 0.03945514362177825, 0.04931892952722281, 0.024659464763611406, 0.6707374415702302, 0.1035697520071679, 0.019236798954036443, 0.7887087571154943, 0.11542079372421866, 0.05771039686210933, 0.6922142525997276, 0.1730535631499319, 0.07300423387886366, 0.048669489252575776, 0.8517160619200761, 0.03163597267950374, 0.03163597267950374, 0.11072590437826309, 0.7750813306478417, 0.03163597267950374, 0.030364811292684517, 0.007591202823171129, 0.11386804234756694, 0.03795601411585565, 0.2049624762256205, 0.44028976374392553, 0.030364811292684517, 0.13664165081708032, 0.9250101539710497, 0.14703804984323918, 0.15030556206197782, 0.03921014662486378, 0.009802536656215945, 0.1143629276558527, 0.3234837096551262, 0.006535024437477296, 0.04574517106234108, 0.13396800096828457, 0.03594263440612513, 0.9522438985734751, 0.08994416078637904, 0.0207563447968567, 0.08994416078637904, 0.17296953997380585, 0.5604213095151309, 0.04843147119266564, 0.0207563447968567, 0.02519492938277054, 0.06838623689609145, 0.017996378130550383, 0.017996378130550383, 0.007198551252220154, 0.02159565375666046, 0.8026384646225471, 0.039592031887210846, 0.7745443006514253, 0.2278071472504192, 0.09275262729409176, 0.030917542431363916, 0.030917542431363916, 0.8347736456468258, 0.2987947524094801, 0.6971877556221202, 0.933895944280396, 0.9527302422344395, 0.7580668932480786, 0.15161337864961572, 0.21472299044196702, 0.007668678230070251, 0.19938563398182652, 0.15337356460140503, 0.22239166867203727, 0.007668678230070251, 0.0460120693804215, 0.12269885168112402, 0.02300603469021075, 0.03389996855403319, 0.13559987421613276, 0.542399496864531, 0.13559987421613276, 0.13559987421613276, 0.6634575913888381, 0.13269151827776762, 0.13269151827776762, 0.058001797771553516, 0.01933393259051784, 0.13533752813362487, 0.07733573036207136, 0.6573537080776065, 0.01933393259051784, 0.6858363540959642, 0.07094858835475493, 0.023649529451584973, 0.04729905890316995, 0.14189717670950985, 0.46293916925772854, 0.3703513354061828, 0.0925878338515457, 0.8599570936318157, 0.09052179932966481, 0.26288560178063375, 0.7229354048967428, 0.3226989366529385, 0.3226989366529385, 0.3226989366529385, 0.7046289275443217, 0.17615723188608043, 0.1464786621517059, 0.08239424746033458, 0.12816882938274268, 0.00457745819224081, 0.013732374576722429, 0.2838024079189302, 0.11443645480602024, 0.04119712373016729, 0.10070408022929782, 0.08239424746033458, 0.5903514978031287, 0.017363279347150845, 0.017363279347150845, 0.03472655869430169, 0.20835935216581014, 0.12154295543005592, 0.9194559643616569, 0.06129706429077713, 0.93289341759332, 0.026654097645523428, 0.026654097645523428, 0.9497440085536598, 0.22182575506347657, 0.06391589552676444, 0.015039034241591632, 0.052636619845570706, 0.3797356146001887, 0.12031227393273305, 0.030078068483183264, 0.10903299825153932, 0.011279275681193723, 0.014925810644444168, 0.014925810644444168, 0.0447774319333325, 0.23881297031110668, 0.4029968873999925, 0.268664591599995, 0.9404412085850324, 0.24377085714572666, 0.08125695238190889, 0.6500556190552711, 0.21004064816374227, 0.01714617536030549, 0.008573087680152745, 0.06429815760114559, 0.28719843728511696, 0.10716359600190932, 0.30434461264542245, 0.0042865438400763725, 0.03975554706189209, 0.6758443000521656, 0.23853328237135257, 0.6902071888688083, 0.12003603284674927, 0.015004504105843659, 0.12003603284674927, 0.030009008211687317, 0.3649562807426525, 0.06082604679044209, 0.5474344211139788, 0.34016156781460916, 0.012148627421950326, 0.1943780387512052, 0.17008078390730458, 0.21867529359510587, 0.0485945096878013, 0.971293326501815, 0.0502848536095893, 0.0502848536095893, 0.06285606701198662, 0.7417015907414422, 0.1005697072191786, 0.0719048670842493, 0.2568030967294618, 0.030816371607535416, 0.020544247738356943, 0.5136061934589236, 0.09244911482260625, 0.8874744412789278, 0.5584909549231551, 0.08818278235628767, 0.23515408628343376, 0.11757704314171688, 0.027535179605620547, 0.027535179605620547, 0.08260553881686164, 0.8260553881686165, 0.024348719053006902, 0.048697438106013805, 0.9009026049612553, 0.659573646364751, 0.2638294585459004, 0.21713838697467563, 0.10021771706523491, 0.06681181137682328, 0.00835147642210291, 0.16702952844205818, 0.4426282503714542, 0.022704595226894227, 0.11352297613447113, 0.794660832941298, 0.04540919045378845, 0.6595190279246887, 0.18843400797848248, 0.9175823021312398, 0.9338958683095667, 0.017651538687473864, 0.07649000097905341, 0.017651538687473864, 0.0058838462291579555, 0.6295715465199012, 0.07649000097905341, 0.17651538687473867, 0.015229986004080306, 0.030459972008160613, 0.791959272212176, 0.10660990202856215, 0.04568995801224092, 0.04152408740502175, 0.9342919666129894, 0.0304265631600338, 0.0152132815800169, 0.053246485530059146, 0.00760664079000845, 0.8975836132209971, 0.5124203199406837, 0.2635304502552087, 0.20496812797627345, 0.8553142034338628, 0.06109387167384734, 0.9264836394492137, 0.04476852221448462, 0.011192130553621156, 0.02238426110724231, 0.4700694832520885, 0.358148177715877, 0.05596065276810577, 0.033576391660863465, 0.2425468182275549, 0.6467915152734797, 0.05235713788625987, 0.05235713788625987, 0.04712142409763388, 0.01570714136587796, 0.13612855850427566, 0.5602213753829806, 0.005235713788625987, 0.005235713788625987, 0.1204214171383977, 0.056016699032050796, 0.6161836893525587, 0.11203339806410159, 0.1680500970961524, 0.07152637776172512, 0.014305275552345025, 0.02861055110469005, 0.014305275552345025, 0.08583165331407014, 0.7724848798266313, 0.014305275552345025, 0.3297291296217176, 0.02442437997197908, 0.1831828497898431, 0.04884875994395816, 0.3907900795516653, 0.02442437997197908, 0.7486520490323708, 0.06238767075269757, 0.06238767075269757, 0.12477534150539514, 0.9501866582387413, 0.6689694648839617, 0.016724236622099042, 0.13379389297679234, 0.05017270986629713, 0.13379389297679234, 0.19237049975248136, 0.006205499992015528, 0.06205499992015527, 0.031027499960077635, 0.07446599990418633, 0.4654124994011645, 0.04964399993612422, 0.031027499960077635, 0.09308249988023291, 0.9706458158160353, 0.07083560567644655, 0.8854450709555819, 0.739896202387833, 0.22196886071634991, 0.07438715794541102, 0.09918287726054803, 0.057856678401986356, 0.016530479543424674, 0.28928339200993175, 0.3223443510967811, 0.024795719315137008, 0.016530479543424674, 0.09918287726054803, 0.07343769601454993, 0.17135462403394983, 0.15911500803152484, 0.14687539202909985, 0.07343769601454993, 0.11015654402182488, 0.2570319360509247, 0.6356349155494978, 0.10593915259158297, 0.10593915259158297, 0.10593915259158297, 0.021938974015415856, 0.21938974015415855, 0.7459251165241391, 0.031179038094559793, 0.16213099809171094, 0.08730130666476743, 0.018707422856735878, 0.16213099809171094, 0.4240349180860132, 0.018707422856735878, 0.037414845713471756, 0.05612226857020763, 0.8934319096647897, 0.18006049885522343, 0.8102722448485055, 0.09282401409414175, 0.025315640207493204, 0.03375418694332427, 0.02109636683957767, 0.18142875482036797, 0.4894357106782019, 0.012657820103746602, 0.004219273367915534, 0.126578201037466, 0.016877093471662136, 0.2360975839600237, 0.012107568408206343, 0.05448405783692854, 0.19977487873540467, 0.4903565205323569, 0.006053784204103171, 0.015399157339157718, 0.030798314678315435, 0.015399157339157718, 0.053897050687052014, 0.2232877814177869, 0.12319325871326174, 0.2771848321048389, 0.25408609609610233, 0.13628268730031654, 0.1022120154752374, 0.034070671825079134, 0.034070671825079134, 0.6814134365015827, 0.023452228811499647, 0.023452228811499647, 0.269700631332246, 0.6566624067219902, 0.023452228811499647, 0.03301629872205474, 0.14857334424924634, 0.7923911693293139, 0.7711305090044778, 0.22032300257270793, 0.9264836385142365, 0.8361045473833079, 0.13377672758132927, 0.17567369860850507, 0.7026947944340203, 0.02474828494216605, 0.02474828494216605, 0.017677346387261463, 0.0883867319363073, 0.5692105536698191, 0.02474828494216605, 0.01414187710980917, 0.20152174881478066, 0.02828375421961834, 0.02361170103224762, 0.16528190722573335, 0.02361170103224762, 0.02361170103224762, 0.02361170103224762, 0.20069945877410478, 0.5312632732255714, 0.08324473934763892, 0.02081118483690973, 0.36419573464592025, 0.06243355451072918, 0.04162236967381946, 0.42662928915664944, 0.010405592418454864, 0.21502096996561798, 0.023891218885068666, 0.7406277854371286, 0.90097024887101, 0.06930540375930846, 0.14966685110639333, 0.8231676810851634, 0.12935626406425735, 0.04975240925548359, 0.009950481851096718, 0.009950481851096718, 0.05970289110658031, 0.5970289110658031, 0.13930674591535405, 0.01065165615433072, 0.01065165615433072, 0.23433643539527585, 0.02130331230866144, 0.17042649846929153, 0.12781987385196864, 0.03195496846299216, 0.3621563092472445, 0.02130331230866144, 0.13053752899229407, 0.13053752899229407, 0.12531602783260232, 0.01566450347907529, 0.07310101623568468, 0.25585355682489636, 0.07310101623568468, 0.12009452667291054, 0.07832251739537645, 0.3221474373651455, 0.02478057210501119, 0.4708308699952126, 0.14868343263006714, 0.3493342902858835, 0.09113068442240438, 0.015188447403734063, 0.18226136884480876, 0.1670729214410747, 0.18226136884480876, 0.024688377955421326, 0.4279318845606363, 0.008229459318473775, 0.07406513386626398, 0.4443908031975839, 0.01645891863694755, 0.11651159674690965, 0.4272091880720021, 0.0077674397831273105, 0.09320927739752773, 0.02330231934938193, 0.3029301515419651, 0.015534879566254621, 0.010013673907533327, 0.07009571735273329, 0.06008204344519996, 0.8311349343252662, 0.04005469563013331, 0.9101228724999065, 0.050562381805550366, 0.025281190902775183, 0.9755495040834624, 0.8235605932861739, 0.11765151332659626, 0.7282563937933587, 0.06620512670848716, 0.06620512670848716, 0.06620512670848716, 0.03630187651856468, 0.14520750607425872, 0.18150938259282343, 0.6171319008155997, 0.22386419463070098, 0.04797089884943593, 0.11193209731535049, 0.031980599232957284, 0.12792239693182914, 0.39975749041196607, 0.031980599232957284, 0.9610325555953262, 0.010256600130593178, 0.24615840313423626, 0.7384752094027087, 0.021343274796993814, 0.9604473658647217, 0.17548180975045172, 0.7019272390018069, 0.0332381813246569, 0.012783915894098807, 0.007670349536459284, 0.41164209178998157, 0.5266973348368709, 0.005113566357639523, 0.003225822542690288, 0.009677467628070863, 0.9709725853497766, 0.012903290170761151, 0.3126811612808382, 0.6253623225616765, 0.9608451061975913, 0.12848262935222146, 0.7387751187752734, 0.12848262935222146, 0.9525140767633364, 0.07482000042238744, 0.26654625150475525, 0.11690625065998037, 0.11223000063358116, 0.04208625023759294, 0.046762500263992146, 0.3133087517687474, 0.02805750015839529, 0.06280249260972795, 0.08792348965361912, 0.01256049852194559, 0.828992902448409, 0.13725965532784065, 0.1699405256439932, 0.07843408875876609, 0.013072348126461015, 0.1764766997072237, 0.05882556656907457, 0.05882556656907457, 0.2614469625292203, 0.045753218442613555, 0.3014444575405706, 0.6631778065892552, 0.07903675252847994, 0.019759188132119986, 0.11855512879271991, 0.5861892479195595, 0.11855512879271991, 0.006586396044039995, 0.019759188132119986, 0.046104772308279966, 0.05692437531314549, 0.9107900050103278, 0.5165371215121328, 0.01291342803780332, 0.46488340936091954, 0.06587184382389849, 0.10978640637316414, 0.11710550013137508, 0.007319093758210942, 0.10246731261495319, 0.02927637503284377, 0.13906278140600792, 0.18297734395527357, 0.22689190650453922, 0.893431998160637, 0.26301083016157584, 0.05260216603231516, 0.6838281584200971, 0.047083465916363185, 0.027465355117878523, 0.031388977277575454, 0.003923622159696932, 0.07454882103424171, 0.749411832502114, 0.01961811079848466, 0.03923622159696932, 0.007847244319393864, 0.9455412713543805, 0.026390855621421905, 0.5805988236712819, 0.23751770059279714, 0.15834513372853143, 0.9455338707709641, 0.9201521505205132, 0.029682327436145586, 0.8934319333242426, 0.7425569653701217, 0.14851139307402433, 0.023765020340148126, 0.570360488163555, 0.07129506102044438, 0.23765020340148127, 0.07129506102044438, 0.09151577827590321, 0.08236420044831289, 0.018303155655180644, 0.08236420044831289, 0.32030522396566125, 0.4118210022415645, 0.70355090675954, 0.175887726689885, 0.0879438633449425, 0.9259130982991917, 0.04911148423562158, 0.15111225918652796, 0.007555612959326398, 0.06422271015427437, 0.35511380908834067, 0.018889032398315995, 0.05666709719494798, 0.2757798730154135, 0.02266683887797919, 0.13084941730912622, 0.6542470865456311, 0.19627412596368934, 0.6588310780186202, 0.049412330851396506, 0.06588310780186202, 0.14823699255418954, 0.06588310780186202, 0.7905186520745071, 0.1693968540159658, 0.03764374533688129, 0.9117079405430074, 0.6101814816190048, 0.36610888897140287, 0.35998310082390234, 0.5759729613182437, 0.9113318721185448, 0.07010245170142652, 0.31627230891137703, 0.05798325663375245, 0.052712051485229505, 0.14232253901011965, 0.20557700079239505, 0.04744084633670655, 0.015813615445568852, 0.10542410297045901, 0.05798325663375245, 0.049628810455825796, 0.3722160784186935, 0.049628810455825796, 0.03722160784186935, 0.39703048364660637, 0.0744432156837387, 0.44753331426307236, 0.09945184761401607, 0.049725923807008035, 0.34808146664905626, 0.049725923807008035, 0.3925914230504495, 0.31407313844035956, 0.15703656922017978, 0.07851828461008989, 0.9594808595130909, 0.020858279554632413, 0.7534223256705492, 0.15068446513410985, 0.9309732808398308, 0.021537896421740872, 0.021537896421740872, 0.6676747890739669, 0.25845475706089044, 0.02105067742758412, 0.02105067742758412, 0.15788008070688092, 0.7683497261068204, 0.02105067742758412, 0.05967557584622683, 0.05967557584622683, 0.8831985225241571, 0.824638102780606, 0.02617898738986051, 0.05235797477972102, 0.02617898738986051, 0.06544746847465127, 0.29285567161171755, 0.5020382941915158, 0.1673460980638386, 0.58352451961003, 0.06483605773444778, 0.3241802886722389, 0.23120991710904193, 0.5780247927726049, 0.42635549916419047, 0.5542621489134476, 0.01010248321380038, 0.09428984332880357, 0.013469977618400509, 0.10775982094720407, 0.030307449641401144, 0.0067349888092002545, 0.713908813775227, 0.02020496642760076, 0.9610893171568059, 0.1741396309682378, 0.1266470043405366, 0.015830875542567076, 0.07915437771283537, 0.0633235021702683, 0.1741396309682378, 0.3799410130216098, 0.05903542249904346, 0.09276994964135402, 0.0674690542846211, 0.02530089535673291, 0.05060179071346582, 0.09276994964135402, 0.37951343035099366, 0.2277080582105962, 0.13020842413213893, 0.7812505447928335, 0.7379316054396292, 0.2635470019427247, 0.06165045695296726, 0.1849513708589018, 0.04110030463531151, 0.04110030463531151, 0.16440121854124604, 0.4932036556237381, 0.06321689174816458, 0.04741266881112344, 0.06321689174816458, 0.03160844587408229, 0.11062956055928802, 0.06321689174816458, 0.2054548981815349, 0.4109097963630698, 0.632948768213766, 0.210982922737922, 0.01728571488956919, 0.11235714678219973, 0.12100000422698433, 0.038892858501530674, 0.012964286167176892, 0.18582143506286877, 0.4753571594631527, 0.038892858501530674, 0.05224239203010295, 0.12538174087224707, 0.1149332624662265, 0.689599574797359, 0.008818667271384207, 0.17637334542768415, 0.017637334542768415, 0.026456001814152624, 0.017637334542768415, 0.2292853490559894, 0.39684002721228934, 0.13228000907076312, 0.04354537139291513, 0.13063611417874538, 0.21772685696457564, 0.6096351995008118, 0.1137816552966932, 0.04452325642044516, 0.054417313402766315, 0.03957622792928459, 0.06925839887624803, 0.6282726183773929, 0.04947028491160574, 0.10058135658860823, 0.6034881395316494, 0.15087203488291234, 0.15087203488291234, 0.02190681639181438, 0.4381363278362876, 0.15334771474270065, 0.1095340819590719, 0.06572044917544313, 0.15334771474270065, 0.06572044917544313, 0.12484563196980993, 0.8114966078037645, 0.03121140799245248, 0.07078958180757333, 0.84947498169088, 0.030830225415614167, 0.04624533812342125, 0.13873601437026375, 0.015415112707807084, 0.20039646520149207, 0.5241138320654408, 0.04624533812342125, 0.10117157386308825, 0.7587868039731619, 0.10117157386308825, 0.04354117815893061, 0.6313470833044939, 0.32655883619197956, 0.911924793127041, 0.7375231290805961, 0.21072089402302746, 0.10528904661103831, 0.7370233262772682, 0.10528904661103831, 0.7550240983304358, 0.16778313296231906, 0.05592771098743969, 0.11028551193140487, 0.055142755965702436, 0.055142755965702436, 0.3308565357942146, 0.11028551193140487, 0.055142755965702436, 0.1654282678971073, 0.11028551193140487, 0.07485903897200678, 0.22457711691602036, 0.5988723117760543, 0.10711385862807421, 0.10711385862807421, 0.6426831517684453, 0.10711385862807421, 0.05699452297141473, 0.9119123675426357, 0.0529479244384377, 0.7942188665765656, 0.1058958488768754, 0.12962545986253443, 0.6481272993126722, 0.12962545986253443, 0.07804131766007445, 0.022297519331449845, 0.022297519331449845, 0.3790578286346474, 0.07804131766007445, 0.36790906896892245, 0.05574379832862461, 0.973810363438024, 0.02880960261403463, 0.076825606970759, 0.05761920522806926, 0.02880960261403463, 0.02880960261403463, 0.4129376374678297, 0.3745248339824502, 0.9502149708776536, 0.705183095329484, 0.176295773832371, 0.0450258948070124, 0.0787953159122717, 0.0787953159122717, 0.1575906318245434, 0.28141184254382745, 0.24764242143856818, 0.10130826331577789, 0.04525639728073021, 0.04525639728073021, 0.4676494385675455, 0.2564529179241378, 0.09051279456146041, 0.030170931520486804, 0.06034186304097361, 0.23229387175506824, 0.011614693587753412, 0.2555232589305751, 0.4762024370978899, 0.2435692825422653, 0.018736098657097328, 0.014052073992822997, 0.02342012332137166, 0.08899646862121231, 0.3138296525063803, 0.018736098657097328, 0.04215622197846899, 0.23888525787799095, 0.5749857807114256, 0.022999431228457025, 0.06899829368537108, 0.2529937435130273, 0.06899829368537108, 0.9151961953517184, 0.06779231076679396, 0.11854559175415992, 0.00987879931284666, 0.10866679244131326, 0.08890919381561994, 0.5927279587707996, 0.03951519725138664, 0.02963639793853998, 0.421945570432576, 0.06751129126921217, 0.016877822817303042, 0.016877822817303042, 0.15190040535572735, 0.0843891140865152, 0.008438911408651521, 0.22785060803359106, 0.9419302339614101, 0.04957527547165316, 0.9467977112159016, 0.23552715687360215, 0.7065814706208065, 0.019066357473681718, 0.03559053395087254, 0.04448816743859067, 0.17159721726313545, 0.31777262456136196, 0.2898086335999621, 0.11312705434384486, 0.005084361992981791, 0.017008666203304823, 0.4252166550826206, 0.008504333101652412, 0.034017332406609646, 0.034017332406609646, 0.3146603247611392, 0.16158232893139582, 0.838187893552966, 0.05238674334706037, 0.05238674334706037, 0.7339879059293084, 0.014979345018965477, 0.059917380075861906, 0.029958690037930953, 0.13481410517068929, 0.07824751910081902, 0.011178217014402718, 0.04471286805761087, 0.022356434028805435, 0.3018118593888734, 0.43595046356170597, 0.04471286805761087, 0.022356434028805435, 0.04471286805761087, 0.005772527872952815, 0.05195275085657533, 0.017317583618858445, 0.49066486920098923, 0.22512858704515978, 0.0404076951106697, 0.155858252569726, 0.017317583618858445, 0.8658496801314973, 0.057723312008766486, 0.5182938395254022, 0.07404197707505747, 0.2961679083002299, 0.08885037249006895, 0.029616790830022985, 0.27735327153936684, 0.04894469497753532, 0.09788938995507064, 0.008157449162922555, 0.008157449162922555, 0.33445541567982473, 0.01631489832584511, 0.13867663576968342, 0.07341704246630298, 0.05680509407943207, 0.05680509407943207, 0.0973801612790264, 0.03246005375967547, 0.7546962499124547, 0.09524378473404299, 0.4000238958829806, 0.0571462708404258, 0.0571462708404258, 0.0571462708404258, 0.3238288680957462, 0.0190487569468086, 0.019366935113196728, 0.1355685457923771, 0.8134112747542627, 0.9780147614210831, 0.05350720958636487, 0.004864291780578625, 0.029185750683471748, 0.06810008492810074, 0.09242154383099387, 0.20916454656488087, 0.3307718410793465, 0.20916454656488087, 0.052687586282241426, 0.042150069025793144, 0.073762620795138, 0.010537517256448286, 0.010537517256448286, 0.2845129659241037, 0.442575724770828, 0.073762620795138, 0.27901162479061076, 0.11279193342599157, 0.023745670194945594, 0.2849480423393471, 0.03561850529241839, 0.06530059303610039, 0.14841043871840998, 0.05936417548736399, 0.007790951876153536, 0.3038471231699879, 0.031163807504614144, 0.5609485350830545, 0.08570047063768889, 0.6981235819849442, 0.23270786066164806, 0.5118316467637269, 0.08081552317322004, 0.29632358496847344, 0.08081552317322004, 0.05148430752184543, 0.9438789712338328, 0.09173609381611421, 0.045868046908057104, 0.6421526567127994, 0.18347218763222842, 0.13360690198702765, 0.5344276079481106, 0.13360690198702765, 0.13360690198702765, 0.06680345099351383, 0.9175824270603224, 0.24439519272206708, 0.48879038544413417, 0.12219759636103354, 0.030289492172567774, 0.3937633982433811, 0.06057898434513555, 0.4846318747610844, 0.056747632908782486, 0.822840677177346, 0.028373816454391243, 0.028373816454391243, 0.056747632908782486, 0.15379090417844074, 0.8458499729814242, 0.12153581358294424, 0.3646074407488327, 0.48614325433177696, 0.5705894670566192, 0.017290589910806644, 0.08645294955403321, 0.17290589910806642, 0.05187176973241993, 0.05187176973241993, 0.05187176973241993, 0.9264840945895064, 0.07707066606525266, 0.7514389941362134, 0.03853533303262633, 0.05780299954893949, 0.07707066606525266, 0.08226961135047732, 0.08226961135047732, 0.740426502154296, 0.11701907955038209, 0.8191335568526746, 0.898286514513033, 0.047278237605949104, 0.026775106444028692, 0.9237411723189899, 0.04016265966604304, 0.39595257978369064, 0.10218131091192016, 0.49813389069561076, 0.9353638709500987, 0.9329249849679646, 0.08751011201937263, 0.700080896154981, 0.08751011201937263, 0.06653404173736083, 0.8649425425856907, 0.15395098145113068, 0.03421132921136237, 0.17105664605681184, 0.017105664605681185, 0.41053595053634845, 0.06842265842272474, 0.017105664605681185, 0.10263398763408711, 0.03421132921136237, 0.008144646515642883, 0.030542424433660814, 0.02443393954692865, 0.0020361616289107207, 0.02850626280475009, 0.087554950043161, 0.175109900086322, 0.5477274781769839, 0.09366343492989317, 0.03270749211298852, 0.026760675365172425, 0.002973408373908047, 0.08622884284333336, 0.005946816747816094, 0.008920225121724142, 0.11596292658241383, 0.6749637008771266, 0.04460112560862071, 0.05057981546328191, 0.01685993848776064, 0.01685993848776064, 0.01685993848776064, 0.15173944638984574, 0.7418372934614681, 0.17698318674904343, 0.7079327469961737, 0.9779600976019646, 0.021400544250450636, 0.021400544250450636, 0.14980380975315444, 0.5136130620108152, 0.21400544250450634, 0.021400544250450636, 0.04280108850090127, 0.10957304158047497, 0.3287191247414249, 0.4382921663218999, 0.8361234982033318, 0.11148313309377757, 0.03926567624039896, 0.013088558746799652, 0.6806050548335819, 0.24868261618919338, 0.013581084550081756, 0.013581084550081756, 0.3123649446518804, 0.10864867640065405, 0.5432433820032703, 0.05638264368839764, 0.01409566092209941, 0.2678175575198888, 0.1409566092209941, 0.4087741667408829, 0.11276528737679528, 0.08817530633176246, 0.7054024506540997, 0.08817530633176246, 0.7052392862646154, 0.11753988104410258, 0.07289875720756925, 0.07289875720756925, 0.024299585735856416, 0.46169212898127193, 0.31589461456613344, 0.04859917147171283, 0.024299585735856416, 0.9175823437100534, 0.7473231810361642, 0.22419695431084927, 0.9611460038188114, 0.112732628920886, 0.19023631130399513, 0.169098943381329, 0.04227473584533225, 0.01409157861511075, 0.18319052199643973, 0.1972821006115505, 0.0845494716906645, 0.06602140826441862, 0.06602140826441862, 0.13204281652883723, 0.7262354909086048, 0.044203856480313095, 0.6188539907243834, 0.044203856480313095, 0.17681542592125238, 0.08840771296062619, 0.2080818703382135, 0.22495337333860915, 0.005623834333465229, 0.25869637933940054, 0.2980632196736571, 0.6899808453043614, 0.05307544963879704, 0.017691816546265678, 0.035383633092531355, 0.15922634891639112, 0.017691816546265678, 0.017691816546265678, 0.08587701231034792, 0.08587701231034792, 0.12022781723448708, 0.6870160984827833, 0.22210914286838998, 0.12691951021050857, 0.03172987755262714, 0.06345975510525428, 0.5394079183946614, 0.1512913526478961, 0.7564567632394805, 0.1190478575548446, 0.034013673587098454, 0.034013673587098454, 0.13605469434839382, 0.6292529613613215, 0.034013673587098454, 0.017006836793549227, 0.02155068672774157, 0.03591781121290262, 0.0071835622425805235, 0.3376274254012846, 0.5244000437083782, 0.02155068672774157, 0.03591781121290262, 0.014367124485161047, 0.6627651631926763, 0.13255303263853527, 0.13255303263853527, 0.13070273741670704, 0.501027160097377, 0.02178378956945117, 0.02178378956945117, 0.19605410612506055, 0.15248652698615822, 0.09454192160916759, 0.05042235819155605, 0.2142950223141132, 0.012605589547889012, 0.025211179095778025, 0.25841458573172477, 0.01890838432183352, 0.06933074251338957, 0.24580899618383575, 0.9338959130452609, 0.22336932516053254, 0.4467386503210651, 0.29782576688071005, 0.6963444975978853, 0.2785377990391541, 0.04169961172019598, 0.08339922344039195, 0.025019767032117588, 0.13343875750462714, 0.5504348747065869, 0.10841899047250955, 0.008339922344039196, 0.04169961172019598, 0.749156059938706, 0.14983121198774121, 0.01117843039614979, 0.02235686079229958, 0.4583156462421414, 0.04471372158459916, 0.17885488633839663, 0.27946075990374475, 0.0871845253233686, 0.05812301688224573, 0.8137222363514401, 0.08320980702299889, 0.8737029737414883, 0.925913072873624, 0.10873332491211918, 0.6886443911100881, 0.14497776654949224, 0.03624444163737306, 0.08239808722632071, 0.08239808722632071, 0.4119904361316035, 0.16479617445264141, 0.20599521806580176, 0.041199043613160354, 0.13711165356063107, 0.8226699213637865, 0.027422330712126214, 0.8440812501531116, 0.06492932693485474, 0.9610893515069848, 0.05138387852372432, 0.05138387852372432, 0.8735259349033134, 0.09103825601046873, 0.052021860577410706, 0.09103825601046873, 0.31213116346446423, 0.36415302404187494, 0.026010930288705353, 0.052021860577410706, 0.02761265394090732, 0.02761265394090732, 0.02761265394090732, 0.16567592364544392, 0.24851388546816588, 0.49702777093633177, 0.7027307661038711, 0.17568269152596777, 0.08783887161719155, 0.8783887161719155, 0.17674499917901887, 0.7069799967160755, 0.032572029820470694, 0.22800420874329483, 0.032572029820470694, 0.6840126262298846, 0.01639148128520742, 0.029504666313373357, 0.08523570268307859, 0.006556592514082969, 0.03933955508449781, 0.8097391754892466, 0.013113185028165938, 0.05629210916620864, 0.20908497690306066, 0.1688763274986259, 0.3457943848781388, 0.008041729880886948, 0.1849597872603998, 0.016083459761773895, 0.20057513087909856, 0.2281050508036807, 0.0432613027386291, 0.015731382814046947, 0.0432613027386291, 0.07079122266321125, 0.06685837695969951, 0.26350066213528633, 0.07079122266321125, 0.9501890823112585, 0.7119902571688413, 0.026370009524771903, 0.026370009524771903, 0.21096007619817522, 0.11915867305874314, 0.05957933652937157, 0.13107454036461746, 0.6553727018230873, 0.03574760191762295, 0.1918851966791198, 0.5756555900373594, 0.03198086611318664, 0.03198086611318664, 0.03198086611318664, 0.06396173222637327, 0.03198086611318664, 0.1732492618007369, 0.3464985236014738, 0.4619980314686318, 0.9612595089853146, 0.13283162018199424, 0.13283162018199424, 0.6641581009099713, 0.21277623517168123, 0.7092541172389375, 0.04101101613781184, 0.5126377017226481, 0.30758262103358885, 0.02050550806890592, 0.08202203227562369, 0.1146361173392077, 0.02292722346784154, 0.1146361173392077, 0.02292722346784154, 0.5043989162925139, 0.1146361173392077, 0.06878167040352462, 0.1174324997321734, 0.7045949983930404, 0.035410385290669665, 0.08852596322667415, 0.832144054330737, 0.017705192645334832, 0.0523874613525734, 0.7334244589360276, 0.1047749227051468, 0.0523874613525734, 0.917582440685026, 0.006863235939381172, 0.28139267351462804, 0.041179415636287034, 0.1509911906663858, 0.4735632798173009, 0.041179415636287034, 0.07843929404816416, 0.8628322345298058, 0.03921964702408208, 0.9569622452171241, 0.1226319992850565, 0.032701866476015064, 0.0735791995710339, 0.008175466619003766, 0.0735791995710339, 0.6703882627583089, 0.0245263998570113, 0.017248374945238794, 0.03449674989047759, 0.4312093736309699, 0.500202873411925, 0.017248374945238794, 0.2045900503475244, 0.24178824131980153, 0.01859909548613858, 0.10539487442145196, 0.10539487442145196, 0.05579728645841574, 0.09919517592607242, 0.14879276388910864, 0.030998492476897635, 0.1797454407924823, 0.04035101732076133, 0.09170685754718484, 0.03668274301887394, 0.10271168045284702, 0.3521543329811898, 0.003668274301887394, 0.05502411452831091, 0.12472132626417139, 0.014673097207549576, 0.758534681224813, 0.030341387248992522, 0.18204832349395514, 0.9510959709012824, 0.9004199908544388, 0.06002799939029592, 0.4163858336169444, 0.15340530712203215, 0.17532035099660817, 0.1972353948711842, 0.04383008774915204, 0.05145749865695884, 0.022053213710125218, 0.029404284946833625, 0.29404284946833625, 0.5292771290430053, 0.05880856989366725, 0.014702142473416812, 0.03794829342100123, 0.29409927401275954, 0.03794829342100123, 0.16128024703925523, 0.4174312276310135, 0.047435366776251535, 0.1394776554644523, 0.008204567968497193, 0.016409135936994387, 0.04102283984248597, 0.6071380296687923, 0.17229592733844107, 0.008204567968497193, 0.826156783494621, 0.11802239764208872, 0.7869053510146379, 0.13115089183577297, 0.9664545327614033, 0.09427467500054967, 0.848472075004947, 0.03634554199713817, 0.43614650396565807, 0.4906648169613654, 0.018172770998569086, 0.13484552259697166, 0.13099279337991532, 0.030821833736450664, 0.312071066581563, 0.07705458434112666, 0.09631823042640833, 0.15025643946519698, 0.069349125907014, 0.9116828066710639, 0.03128231260336718, 0.04692346890505077, 0.15641156301683592, 0.011730867226262693, 0.3519260167878808, 0.06647491428215527, 0.3323745714107763, 0.003910289075420898, 0.8845558328688695, 0.03845894925516824, 0.03845894925516824, 0.9275817841124044, 0.037103271364496176, 0.016095723734822917, 0.032191447469645834, 0.016095723734822917, 0.24143585602234377, 0.4667759883098646, 0.20924440855269794, 0.11561955147721248, 0.013602300173789703, 0.17682990225926615, 0.2924494537364786, 0.07481265095584337, 0.31285290399716315, 0.006801150086894851, 0.014662602448707396, 0.03665650612176849, 0.17595122938448876, 0.6891423150892476, 0.029325204897414792, 0.051319108570475884], \"Term\": [\"00\", \"00\", \"000\", \"000\", \"000\", \"000\", \"000\", \"000\", \"000\", \"000\", \"000\", \"000\", \"10\", \"10\", \"10\", \"10\", \"10\", \"10\", \"10\", \"10\", \"10\", \"10\", \"12\", \"12\", \"12\", \"12\", \"12\", \"12\", \"12\", \"12\", \"12\", \"12\", \"1959\", \"1959\", \"1959\", \"1959\", \"1959\", \"1959\", \"1960\", \"1960\", \"1960\", \"1960\", \"1960\", \"1960\", \"1960\", \"1960\", \"1960\", \"1961\", \"1961\", \"1961\", \"1961\", \"1961\", \"1961\", \"1961\", \"1961\", \"1961\", \"33\", \"33\", \"35\", \"35\", \"35\", \"36\", \"36\", \"36\", \"36\", \"52\", \"52\", \"52\", \"52\", \"52\", \"62\", \"academic\", \"academic\", \"academic\", \"academic\", \"acceptable\", \"accumulation\", \"accumulation\", \"acres\", \"acres\", \"acres\", \"act\", \"act\", \"act\", \"act\", \"act\", \"act\", \"act\", \"adjustment\", \"adjustment\", \"adjustment\", \"adjustments\", \"adjustments\", \"adjustments\", \"administration\", \"administration\", \"administration\", \"administration\", \"administration\", \"administration\", \"administration\", \"af\", \"af\", \"af\", \"aid\", \"aid\", \"aid\", \"aid\", \"aid\", \"aid\", \"aid\", \"aids\", \"aids\", \"aids\", \"aids\", \"aircraft\", \"aircraft\", \"aircraft\", \"allocation\", \"allocation\", \"american\", \"american\", \"american\", \"american\", \"american\", \"american\", \"american\", \"american\", \"american\", \"anger\", \"anger\", \"angle\", \"animal\", \"animal\", \"animal\", \"animal\", \"anne\", \"appeal\", \"appeal\", \"appeal\", \"appeal\", \"appeal\", \"appeals\", \"appeals\", \"appeals\", \"area\", \"area\", \"area\", \"area\", \"area\", \"area\", \"area\", \"area\", \"areas\", \"areas\", \"areas\", \"areas\", \"areas\", \"areas\", \"areas\", \"army\", \"army\", \"army\", \"army\", \"army\", \"army\", \"army\", \"arrested\", \"arrested\", \"arrested\", \"art\", \"art\", \"art\", \"art\", \"art\", \"article\", \"article\", \"article\", \"article\", \"asked\", \"asked\", \"asked\", \"asked\", \"asked\", \"asked\", \"asked\", \"asleep\", \"asleep\", \"assessment\", \"assessment\", \"assignments\", \"assignments\", \"assistance\", \"assistance\", \"assistance\", \"assistance\", \"association\", \"association\", \"association\", \"association\", \"association\", \"association\", \"association\", \"association\", \"athletic\", \"athletic\", \"athletic\", \"atlanta\", \"atlanta\", \"atlanta\", \"attorney\", \"attorney\", \"attorney\", \"attorney\", \"attractions\", \"attractions\", \"available\", \"available\", \"available\", \"available\", \"available\", \"available\", \"available\", \"available\", \"ave\", \"ave\", \"ave\", \"avenue\", \"avenue\", \"avenue\", \"away\", \"away\", \"away\", \"away\", \"away\", \"away\", \"away\", \"baby\", \"baby\", \"baby\", \"ball\", \"ball\", \"ball\", \"ballot\", \"ballot\", \"bankers\", \"bankers\", \"bare\", \"bars\", \"bars\", \"bars\", \"baseball\", \"baseball\", \"baseball\", \"baseball\", \"bats\", \"benefits\", \"benefits\", \"benefits\", \"benefits\", \"benefits\", \"benefits\", \"better\", \"better\", \"better\", \"better\", \"better\", \"better\", \"better\", \"better\", \"better\", \"bible\", \"bible\", \"bible\", \"bible\", \"bill\", \"bill\", \"bill\", \"bill\", \"bill\", \"bill\", \"bill\", \"billion\", \"billion\", \"billion\", \"blonde\", \"blonde\", \"board\", \"board\", \"board\", \"board\", \"board\", \"board\", \"board\", \"board\", \"boat\", \"boat\", \"boat\", \"boat\", \"boats\", \"boats\", \"boats\", \"bond\", \"bond\", \"bonds\", \"bonds\", \"bonds\", \"bottle\", \"bottle\", \"bottle\", \"bowl\", \"bride\", \"bridge\", \"bridge\", \"bridge\", \"bridges\", \"bridges\", \"bridges\", \"bridges\", \"britain\", \"britain\", \"britain\", \"britain\", \"brown\", \"brown\", \"brown\", \"brown\", \"builder\", \"builder\", \"builder\", \"bull\", \"bulletin\", \"bulletin\", \"bulletin\", \"business\", \"business\", \"business\", \"business\", \"business\", \"business\", \"business\", \"business\", \"came\", \"came\", \"came\", \"came\", \"came\", \"came\", \"came\", \"capitol\", \"car\", \"car\", \"car\", \"car\", \"car\", \"car\", \"car\", \"catastrophe\", \"catastrophe\", \"catastrophe\", \"catastrophe\", \"catholic\", \"catholic\", \"catholic\", \"catholic\", \"cattle\", \"cattle\", \"caution\", \"caution\", \"caution\", \"caution\", \"cent\", \"cent\", \"cent\", \"cent\", \"cent\", \"cent\", \"centuries\", \"centuries\", \"chain\", \"chain\", \"chain\", \"chain\", \"chamber\", \"chamber\", \"chamber\", \"champions\", \"charter\", \"charter\", \"chemical\", \"chemical\", \"chemical\", \"chemical\", \"chemical\", \"children\", \"children\", \"children\", \"children\", \"children\", \"children\", \"children\", \"children\", \"china\", \"china\", \"china\", \"china\", \"chinese\", \"chinese\", \"chinese\", \"chinese\", \"church\", \"church\", \"church\", \"church\", \"cities\", \"cities\", \"cities\", \"cities\", \"cities\", \"cities\", \"cities\", \"city\", \"city\", \"city\", \"city\", \"city\", \"city\", \"city\", \"city\", \"clarity\", \"clarity\", \"clarity\", \"class\", \"class\", \"class\", \"class\", \"class\", \"class\", \"class\", \"class\", \"clay\", \"clay\", \"clay\", \"clay\", \"clay\", \"closet\", \"closet\", \"cloth\", \"cloth\", \"cloth\", \"club\", \"club\", \"club\", \"club\", \"club\", \"club\", \"coach\", \"coach\", \"coalition\", \"cocktail\", \"cold\", \"cold\", \"cold\", \"cold\", \"cold\", \"cold\", \"cold\", \"cold\", \"collective\", \"college\", \"college\", \"college\", \"college\", \"college\", \"college\", \"college\", \"college\", \"columns\", \"columns\", \"come\", \"come\", \"come\", \"come\", \"come\", \"come\", \"come\", \"come\", \"commissioner\", \"commissioner\", \"commissioner\", \"committee\", \"committee\", \"committee\", \"committee\", \"commodities\", \"communist\", \"communist\", \"communist\", \"communist\", \"company\", \"company\", \"company\", \"company\", \"company\", \"company\", \"company\", \"company\", \"congo\", \"congo\", \"congress\", \"congress\", \"congress\", \"congressional\", \"congressman\", \"conservative\", \"consumer\", \"consumer\", \"consumer\", \"consumer\", \"control\", \"control\", \"control\", \"control\", \"control\", \"control\", \"control\", \"control\", \"control\", \"cooling\", \"cooling\", \"cooling\", \"corps\", \"corps\", \"corps\", \"corps\", \"corps\", \"council\", \"council\", \"council\", \"council\", \"council\", \"country\", \"country\", \"country\", \"country\", \"country\", \"country\", \"county\", \"county\", \"county\", \"county\", \"county\", \"county\", \"court\", \"court\", \"court\", \"court\", \"court\", \"court\", \"court\", \"cousin\", \"cousin\", \"cousin\", \"cousin\", \"creative\", \"creative\", \"creative\", \"creative\", \"cried\", \"cried\", \"curriculum\", \"curriculum\", \"curriculum\", \"cut\", \"cut\", \"cut\", \"cut\", \"cut\", \"cut\", \"cut\", \"cut\", \"cut\", \"cutting\", \"cutting\", \"cutting\", \"dad\", \"daily\", \"daily\", \"daily\", \"daily\", \"daily\", \"dallas\", \"dallas\", \"dallas\", \"dancing\", \"dark\", \"dark\", \"dark\", \"dark\", \"dark\", \"data\", \"data\", \"data\", \"data\", \"davis\", \"davis\", \"day\", \"day\", \"day\", \"day\", \"day\", \"day\", \"day\", \"day\", \"day\", \"day\", \"days\", \"days\", \"days\", \"days\", \"days\", \"days\", \"days\", \"days\", \"days\", \"dear\", \"deficit\", \"delegates\", \"delegates\", \"democratic\", \"democratic\", \"democratic\", \"democrats\", \"denied\", \"denied\", \"denied\", \"deny\", \"department\", \"department\", \"department\", \"department\", \"department\", \"department\", \"department\", \"design\", \"design\", \"design\", \"design\", \"design\", \"design\", \"designer\", \"designer\", \"designers\", \"designers\", \"designers\", \"destroy\", \"destroy\", \"destroy\", \"destroy\", \"destroy\", \"destroy\", \"destruction\", \"destruction\", \"destruction\", \"determine\", \"determine\", \"determine\", \"determine\", \"determine\", \"determine\", \"determine\", \"development\", \"development\", \"development\", \"development\", \"development\", \"development\", \"didn\", \"didn\", \"didn\", \"didn\", \"didn\", \"didn\", \"didn\", \"dinner\", \"dinner\", \"dinner\", \"diplomatic\", \"dirty\", \"dirty\", \"disease\", \"disease\", \"disease\", \"disease\", \"doctrine\", \"doctrine\", \"don\", \"don\", \"don\", \"don\", \"don\", \"don\", \"don\", \"don\", \"double\", \"double\", \"double\", \"double\", \"double\", \"drank\", \"drank\", \"drank\", \"drill\", \"drill\", \"economic\", \"economic\", \"economic\", \"economic\", \"education\", \"education\", \"education\", \"education\", \"education\", \"education\", \"efficiency\", \"efficiency\", \"efficiency\", \"efficiency\", \"efficiency\", \"efforts\", \"efforts\", \"efforts\", \"efforts\", \"eighty\", \"eighty\", \"eighty\", \"eisenhower\", \"election\", \"election\", \"election\", \"election\", \"electronic\", \"electronic\", \"electronic\", \"electronics\", \"electronics\", \"electronics\", \"electronics\", \"employee\", \"employee\", \"employee\", \"employees\", \"employees\", \"employees\", \"employees\", \"employees\", \"enemies\", \"enemies\", \"enemy\", \"enemy\", \"engine\", \"engine\", \"engine\", \"engine\", \"engine\", \"engineer\", \"engineer\", \"engineer\", \"engineer\", \"engineering\", \"engineering\", \"engineers\", \"engineers\", \"engineers\", \"engineers\", \"engines\", \"engines\", \"equipment\", \"equipment\", \"equipment\", \"equipment\", \"equipment\", \"equipment\", \"evil\", \"evil\", \"evil\", \"exempt\", \"exempt\", \"experiences\", \"experiences\", \"extension\", \"extension\", \"extension\", \"extension\", \"extension\", \"extension\", \"extension\", \"eyes\", \"eyes\", \"eyes\", \"eyes\", \"eyes\", \"eyes\", \"eyes\", \"face\", \"face\", \"face\", \"face\", \"face\", \"face\", \"face\", \"face\", \"face\", \"faculty\", \"faculty\", \"faculty\", \"family\", \"family\", \"family\", \"family\", \"family\", \"family\", \"father\", \"father\", \"father\", \"features\", \"features\", \"features\", \"features\", \"features\", \"features\", \"fed\", \"fed\", \"fed\", \"fed\", \"federal\", \"federal\", \"federal\", \"federal\", \"federal\", \"federal\", \"federal\", \"federal\", \"feed\", \"feed\", \"feed\", \"feed\", \"feed\", \"feeding\", \"feeding\", \"feeding\", \"feeding\", \"felt\", \"felt\", \"felt\", \"felt\", \"felt\", \"fence\", \"fence\", \"fence\", \"festival\", \"fig\", \"fig\", \"file\", \"file\", \"file\", \"file\", \"file\", \"filing\", \"filing\", \"films\", \"fire\", \"fire\", \"fire\", \"fire\", \"fire\", \"fire\", \"fire\", \"fiscal\", \"fiscal\", \"fiscal\", \"fiscal\", \"force\", \"force\", \"force\", \"force\", \"force\", \"force\", \"forces\", \"forces\", \"forces\", \"forces\", \"forces\", \"forces\", \"forces\", \"foreign\", \"foreign\", \"foreign\", \"foreign\", \"foreign\", \"foreign\", \"forest\", \"forest\", \"forest\", \"forests\", \"formula\", \"formula\", \"formula\", \"formula\", \"formula\", \"foundation\", \"foundation\", \"foundation\", \"foundation\", \"frame\", \"frame\", \"frame\", \"frame\", \"frame\", \"frames\", \"frames\", \"frames\", \"friday\", \"friday\", \"friday\", \"friday\", \"friday\", \"furniture\", \"gallon\", \"gallon\", \"game\", \"game\", \"game\", \"game\", \"game\", \"game\", \"games\", \"games\", \"games\", \"games\", \"garden\", \"garden\", \"garden\", \"general\", \"general\", \"general\", \"general\", \"general\", \"general\", \"general\", \"general\", \"general\", \"george\", \"george\", \"george\", \"george\", \"gifts\", \"gifts\", \"girls\", \"girls\", \"girls\", \"god\", \"god\", \"god\", \"god\", \"god\", \"going\", \"going\", \"going\", \"going\", \"going\", \"going\", \"going\", \"going\", \"golden\", \"good\", \"good\", \"good\", \"good\", \"good\", \"good\", \"good\", \"good\", \"good\", \"good\", \"gop\", \"got\", \"got\", \"got\", \"got\", \"got\", \"got\", \"got\", \"government\", \"government\", \"government\", \"government\", \"government\", \"government\", \"government\", \"government\", \"gross\", \"gross\", \"guests\", \"guests\", \"guests\", \"guests\", \"gun\", \"gun\", \"haired\", \"hammarskjold\", \"hated\", \"hated\", \"head\", \"head\", \"head\", \"head\", \"head\", \"head\", \"head\", \"head\", \"head\", \"headquarters\", \"headquarters\", \"headquarters\", \"headquarters\", \"headquarters\", \"healthy\", \"healthy\", \"healthy\", \"hearing\", \"hearing\", \"hearing\", \"hearing\", \"hearing\", \"hearing\", \"heat\", \"heat\", \"heat\", \"heat\", \"heat\", \"heater\", \"heater\", \"heater\", \"heating\", \"heating\", \"heel\", \"heel\", \"hell\", \"hell\", \"hell\", \"hesitate\", \"hesitate\", \"high\", \"high\", \"high\", \"high\", \"high\", \"high\", \"high\", \"high\", \"high\", \"high\", \"hit\", \"hit\", \"hit\", \"hit\", \"hit\", \"hit\", \"hits\", \"hits\", \"hole\", \"hole\", \"hole\", \"holes\", \"home\", \"home\", \"home\", \"home\", \"home\", \"home\", \"home\", \"home\", \"home\", \"hospital\", \"hospital\", \"hospital\", \"hospital\", \"hospital\", \"hospital\", \"hospitals\", \"host\", \"host\", \"host\", \"house\", \"house\", \"house\", \"house\", \"house\", \"house\", \"house\", \"house\", \"hughes\", \"hughes\", \"hughes\", \"inch\", \"inch\", \"inch\", \"inch\", \"inch\", \"inches\", \"inches\", \"inches\", \"income\", \"income\", \"income\", \"income\", \"income\", \"income\", \"india\", \"industrial\", \"industrial\", \"industrial\", \"industrial\", \"industrial\", \"industry\", \"industry\", \"industry\", \"industry\", \"industry\", \"industry\", \"inexpensive\", \"insurance\", \"insurance\", \"insurance\", \"insurance\", \"interference\", \"interference\", \"interference\", \"interference\", \"interior\", \"interior\", \"interior\", \"inventories\", \"inventories\", \"island\", \"island\", \"island\", \"island\", \"island\", \"island\", \"isn\", \"isn\", \"isn\", \"isn\", \"jail\", \"jail\", \"jane\", \"joan\", \"john\", \"john\", \"john\", \"john\", \"john\", \"john\", \"john\", \"junior\", \"junior\", \"junior\", \"junior\", \"junior\", \"jury\", \"jury\", \"kennedy\", \"kennedy\", \"kennedy\", \"kennedy\", \"kennedy\", \"khrushchev\", \"khrushchev\", \"khrushchev\", \"knee\", \"knee\", \"knees\", \"knew\", \"knew\", \"knew\", \"knew\", \"knew\", \"knew\", \"knew\", \"knight\", \"knight\", \"know\", \"know\", \"know\", \"know\", \"know\", \"know\", \"know\", \"know\", \"know\", \"knowing\", \"knowing\", \"knowing\", \"knowing\", \"labor\", \"labor\", \"labor\", \"labor\", \"labor\", \"labor\", \"labor\", \"land\", \"land\", \"land\", \"land\", \"land\", \"land\", \"lands\", \"lands\", \"lands\", \"lands\", \"lane\", \"league\", \"league\", \"league\", \"league\", \"league\", \"left\", \"left\", \"left\", \"left\", \"left\", \"left\", \"left\", \"left\", \"left\", \"leg\", \"legislative\", \"legislative\", \"legislators\", \"legislators\", \"let\", \"let\", \"let\", \"let\", \"let\", \"let\", \"let\", \"let\", \"let\", \"level\", \"level\", \"level\", \"level\", \"level\", \"level\", \"level\", \"liberty\", \"liberty\", \"liberty\", \"liberty\", \"library\", \"library\", \"library\", \"life\", \"life\", \"life\", \"life\", \"life\", \"life\", \"life\", \"life\", \"life\", \"lighter\", \"lips\", \"lips\", \"little\", \"little\", \"little\", \"little\", \"little\", \"little\", \"little\", \"little\", \"little\", \"little\", \"ll\", \"ll\", \"ll\", \"ll\", \"ll\", \"ll\", \"local\", \"local\", \"local\", \"local\", \"local\", \"local\", \"local\", \"local\", \"location\", \"location\", \"location\", \"location\", \"location\", \"looked\", \"looked\", \"looked\", \"looked\", \"looked\", \"love\", \"love\", \"love\", \"loved\", \"loved\", \"loving\", \"lumber\", \"lumber\", \"magazines\", \"magazines\", \"man\", \"man\", \"man\", \"man\", \"man\", \"man\", \"man\", \"man\", \"man\", \"management\", \"management\", \"management\", \"management\", \"management\", \"management\", \"management\", \"market\", \"market\", \"market\", \"market\", \"market\", \"market\", \"market\", \"marketing\", \"marketing\", \"marketing\", \"mays\", \"mays\", \"measurements\", \"measurements\", \"medical\", \"medical\", \"medical\", \"medical\", \"medical\", \"medical\", \"medical\", \"meeting\", \"meeting\", \"meeting\", \"meeting\", \"meeting\", \"meeting\", \"meeting\", \"meeting\", \"meeting\", \"men\", \"men\", \"men\", \"men\", \"men\", \"men\", \"men\", \"men\", \"men\", \"mile\", \"mile\", \"mile\", \"mile\", \"miles\", \"miles\", \"miles\", \"miles\", \"miles\", \"miles\", \"military\", \"military\", \"military\", \"military\", \"military\", \"military\", \"million\", \"million\", \"million\", \"million\", \"million\", \"million\", \"million\", \"miss\", \"miss\", \"miss\", \"miss\", \"miss\", \"missile\", \"missile\", \"missile\", \"missiles\", \"missions\", \"missions\", \"mobile\", \"mobile\", \"mobile\", \"mobile\", \"models\", \"models\", \"models\", \"models\", \"monday\", \"monday\", \"monday\", \"monday\", \"monday\", \"monday\", \"monday\", \"motel\", \"mother\", \"mother\", \"mother\", \"motors\", \"motors\", \"movements\", \"movements\", \"mr\", \"mr\", \"mr\", \"mr\", \"mr\", \"mr\", \"mrs\", \"mrs\", \"mrs\", \"mrs\", \"municipalities\", \"municipalities\", \"muscles\", \"music\", \"music\", \"music\", \"nam\", \"national\", \"national\", \"national\", \"national\", \"national\", \"national\", \"national\", \"national\", \"nations\", \"nations\", \"nations\", \"nations\", \"need\", \"need\", \"need\", \"need\", \"need\", \"need\", \"need\", \"need\", \"need\", \"negotiations\", \"negotiations\", \"night\", \"night\", \"night\", \"night\", \"night\", \"night\", \"night\", \"night\", \"nixon\", \"nixon\", \"nuclear\", \"nuclear\", \"nuclear\", \"number\", \"number\", \"number\", \"number\", \"number\", \"number\", \"number\", \"number\", \"number\", \"nut\", \"objectives\", \"objectives\", \"objectives\", \"old\", \"old\", \"old\", \"old\", \"old\", \"old\", \"old\", \"old\", \"old\", \"orange\", \"organizations\", \"organizations\", \"organizations\", \"organizations\", \"paintings\", \"panels\", \"panels\", \"paste\", \"patrolman\", \"patrolman\", \"payment\", \"payment\", \"payment\", \"payment\", \"payment\", \"peace\", \"peace\", \"peace\", \"peace\", \"peace\", \"peace\", \"peaceful\", \"peaceful\", \"peaceful\", \"pennant\", \"people\", \"people\", \"people\", \"people\", \"people\", \"people\", \"people\", \"people\", \"people\", \"pete\", \"pete\", \"pete\", \"piece\", \"piece\", \"piece\", \"piece\", \"piece\", \"pieces\", \"pieces\", \"pieces\", \"pinch\", \"pitch\", \"pitch\", \"pitcher\", \"pitcher\", \"pitching\", \"pitching\", \"place\", \"place\", \"place\", \"place\", \"place\", \"place\", \"place\", \"place\", \"place\", \"plant\", \"plant\", \"plant\", \"plant\", \"plant\", \"plant\", \"plants\", \"plants\", \"plants\", \"plants\", \"plants\", \"plate\", \"plate\", \"plate\", \"plate\", \"player\", \"player\", \"plea\", \"plea\", \"polaris\", \"police\", \"police\", \"police\", \"police\", \"policy\", \"policy\", \"policy\", \"policy\", \"policy\", \"political\", \"political\", \"political\", \"pool\", \"pool\", \"pool\", \"pool\", \"pool\", \"pound\", \"pound\", \"pound\", \"pounds\", \"pounds\", \"pounds\", \"precise\", \"precise\", \"premier\", \"premier\", \"president\", \"president\", \"president\", \"president\", \"president\", \"president\", \"president\", \"president\", \"presidential\", \"pressure\", \"pressure\", \"pressure\", \"pressure\", \"pressure\", \"pressure\", \"pressure\", \"problem\", \"problem\", \"problem\", \"problem\", \"problem\", \"problem\", \"problem\", \"problem\", \"proceedings\", \"proceedings\", \"procurement\", \"procurement\", \"product\", \"product\", \"product\", \"product\", \"product\", \"product\", \"products\", \"products\", \"products\", \"products\", \"products\", \"products\", \"products\", \"products\", \"professors\", \"professors\", \"program\", \"program\", \"program\", \"program\", \"program\", \"program\", \"program\", \"program\", \"property\", \"property\", \"property\", \"property\", \"provide\", \"provide\", \"provide\", \"provide\", \"provide\", \"provide\", \"provide\", \"provide\", \"provision\", \"provision\", \"provision\", \"provision\", \"public\", \"public\", \"public\", \"public\", \"public\", \"public\", \"public\", \"publications\", \"publications\", \"publications\", \"publications\", \"quality\", \"quality\", \"quality\", \"quality\", \"quality\", \"quality\", \"quality\", \"railroad\", \"railroad\", \"railroad\", \"railroads\", \"railroads\", \"rate\", \"rate\", \"rate\", \"rate\", \"rate\", \"rate\", \"rate\", \"ratio\", \"ratio\", \"ratio\", \"rayburn\", \"rayburn\", \"rayburn\", \"rebel\", \"receiver\", \"receiver\", \"recommendation\", \"recommendation\", \"recommendation\", \"recreation\", \"recreation\", \"recreation\", \"reducing\", \"reducing\", \"reducing\", \"reducing\", \"reducing\", \"reducing\", \"reducing\", \"reducing\", \"reflected\", \"reflected\", \"reflected\", \"regions\", \"regions\", \"regions\", \"regions\", \"regulations\", \"regulations\", \"rehabilitation\", \"rehabilitation\", \"rehabilitation\", \"rep\", \"rep\", \"rep\", \"report\", \"report\", \"report\", \"report\", \"report\", \"report\", \"report\", \"republican\", \"research\", \"research\", \"research\", \"research\", \"research\", \"research\", \"research\", \"restaurant\", \"restricted\", \"restricted\", \"result\", \"result\", \"result\", \"result\", \"result\", \"result\", \"result\", \"return\", \"return\", \"return\", \"return\", \"return\", \"return\", \"return\", \"rhode\", \"rhode\", \"rhode\", \"rhode\", \"right\", \"right\", \"right\", \"right\", \"right\", \"right\", \"right\", \"right\", \"right\", \"roads\", \"roads\", \"roads\", \"roads\", \"roads\", \"roof\", \"roof\", \"room\", \"room\", \"room\", \"room\", \"room\", \"room\", \"room\", \"run\", \"run\", \"run\", \"run\", \"run\", \"run\", \"run\", \"run\", \"runs\", \"runs\", \"rusk\", \"rust\", \"rust\", \"said\", \"said\", \"said\", \"said\", \"said\", \"said\", \"said\", \"said\", \"sales\", \"sales\", \"sales\", \"sales\", \"sales\", \"sales\", \"sales\", \"salt\", \"salt\", \"salt\", \"sam\", \"sam\", \"sam\", \"sam\", \"sam\", \"saw\", \"saw\", \"saw\", \"saw\", \"saw\", \"saw\", \"saw\", \"saw\", \"saw\", \"school\", \"school\", \"school\", \"school\", \"school\", \"school\", \"school\", \"school\", \"screw\", \"screw\", \"season\", \"season\", \"season\", \"season\", \"season\", \"second\", \"second\", \"second\", \"second\", \"second\", \"second\", \"second\", \"second\", \"second\", \"secretary\", \"secretary\", \"secretary\", \"secretary\", \"secretary\", \"security\", \"security\", \"security\", \"security\", \"security\", \"security\", \"security\", \"senate\", \"senate\", \"senate\", \"senator\", \"service\", \"service\", \"service\", \"service\", \"service\", \"service\", \"service\", \"service\", \"services\", \"services\", \"services\", \"services\", \"services\", \"services\", \"services\", \"services\", \"set\", \"set\", \"set\", \"set\", \"set\", \"set\", \"set\", \"set\", \"shall\", \"shall\", \"shall\", \"shall\", \"shall\", \"shame\", \"shame\", \"shares\", \"shares\", \"shares\", \"shares\", \"shelter\", \"shelter\", \"shelters\", \"shelters\", \"shelters\", \"shelters\", \"shipping\", \"shipping\", \"shipping\", \"shipping\", \"shipping\", \"shirt\", \"shook\", \"shook\", \"shook\", \"shooting\", \"shooting\", \"shooting\", \"shooting\", \"shop\", \"shop\", \"shop\", \"shop\", \"shop\", \"shouted\", \"shouted\", \"sighed\", \"sighed\", \"sighed\", \"sign\", \"sign\", \"sign\", \"sign\", \"sign\", \"sign\", \"sign\", \"sisters\", \"site\", \"site\", \"site\", \"site\", \"site\", \"sleep\", \"sleep\", \"sleep\", \"smiling\", \"smiling\", \"smooth\", \"smooth\", \"son\", \"son\", \"son\", \"soviet\", \"soviet\", \"soviet\", \"spokesman\", \"spokesmen\", \"stairs\", \"stairs\", \"stairs\", \"stared\", \"stared\", \"started\", \"started\", \"started\", \"started\", \"started\", \"started\", \"started\", \"started\", \"started\", \"state\", \"state\", \"state\", \"state\", \"state\", \"state\", \"state\", \"state\", \"state\", \"states\", \"states\", \"states\", \"states\", \"states\", \"states\", \"states\", \"states\", \"states\", \"stations\", \"stations\", \"stations\", \"stations\", \"stations\", \"stations\", \"steadily\", \"steadily\", \"stockholders\", \"stood\", \"stood\", \"stood\", \"stood\", \"stood\", \"stood\", \"stood\", \"stove\", \"stove\", \"stove\", \"strategic\", \"strategic\", \"street\", \"street\", \"street\", \"street\", \"student\", \"student\", \"student\", \"student\", \"student\", \"students\", \"students\", \"students\", \"students\", \"students\", \"students\", \"submarines\", \"submarines\", \"submarines\", \"substitute\", \"substitute\", \"suddenly\", \"suddenly\", \"suddenly\", \"suddenly\", \"suddenly\", \"suddenly\", \"suddenly\", \"supper\", \"susan\", \"susan\", \"symphony\", \"system\", \"system\", \"system\", \"system\", \"system\", \"system\", \"system\", \"system\", \"tangible\", \"tangible\", \"tangible\", \"tangible\", \"target\", \"target\", \"target\", \"target\", \"target\", \"tax\", \"tax\", \"tax\", \"tax\", \"tax\", \"team\", \"team\", \"team\", \"team\", \"team\", \"team\", \"team\", \"technical\", \"technical\", \"technical\", \"technical\", \"techniques\", \"techniques\", \"techniques\", \"techniques\", \"techniques\", \"terrain\", \"terrain\", \"texas\", \"texas\", \"texas\", \"texas\", \"texas\", \"texas\", \"texas\", \"thought\", \"thought\", \"thought\", \"thought\", \"thought\", \"thought\", \"thought\", \"thought\", \"threaten\", \"threaten\", \"threaten\", \"title\", \"title\", \"title\", \"title\", \"title\", \"title\", \"today\", \"today\", \"today\", \"today\", \"today\", \"today\", \"today\", \"today\", \"today\", \"toes\", \"ton\", \"ton\", \"ton\", \"tongue\", \"tongue\", \"took\", \"took\", \"took\", \"took\", \"took\", \"took\", \"took\", \"took\", \"touching\", \"touching\", \"town\", \"town\", \"town\", \"town\", \"town\", \"town\", \"towns\", \"towns\", \"towns\", \"tractor\", \"tractor\", \"transparent\", \"treasury\", \"treasury\", \"treasury\", \"treasury\", \"treatment\", \"treatment\", \"treatment\", \"treatment\", \"treatment\", \"treatment\", \"trial\", \"trial\", \"trial\", \"trim\", \"trim\", \"trucks\", \"trust\", \"trust\", \"trust\", \"turned\", \"turned\", \"turned\", \"turned\", \"turned\", \"turned\", \"turned\", \"types\", \"types\", \"types\", \"types\", \"types\", \"types\", \"tyranny\", \"tyranny\", \"ugly\", \"ugly\", \"understandable\", \"understandable\", \"uniform\", \"uniform\", \"uniform\", \"uniform\", \"united\", \"united\", \"united\", \"united\", \"united\", \"united\", \"united\", \"university\", \"university\", \"university\", \"university\", \"university\", \"university\", \"university\", \"use\", \"use\", \"use\", \"use\", \"use\", \"use\", \"use\", \"use\", \"use\", \"va\", \"vacation\", \"vacation\", \"vacation\", \"vacation\", \"ve\", \"ve\", \"ve\", \"ve\", \"ve\", \"version\", \"version\", \"version\", \"version\", \"version\", \"version\", \"version\", \"vienna\", \"vienna\", \"vienna\", \"viet\", \"virgin\", \"virgin\", \"virgin\", \"vocational\", \"vocational\", \"voice\", \"voice\", \"voice\", \"voice\", \"voice\", \"volume\", \"volume\", \"volume\", \"volume\", \"volume\", \"volume\", \"volume\", \"volumes\", \"volumes\", \"vote\", \"vote\", \"vote\", \"vote\", \"waited\", \"waited\", \"waited\", \"waited\", \"walker\", \"war\", \"war\", \"war\", \"war\", \"war\", \"war\", \"warren\", \"warren\", \"warren\", \"warwick\", \"washington\", \"washington\", \"washington\", \"washington\", \"washington\", \"washington\", \"washington\", \"wasn\", \"wasn\", \"wasn\", \"wasn\", \"wasn\", \"water\", \"water\", \"water\", \"water\", \"water\", \"water\", \"water\", \"water\", \"water\", \"way\", \"way\", \"way\", \"way\", \"way\", \"way\", \"way\", \"way\", \"way\", \"way\", \"weapons\", \"weapons\", \"weapons\", \"wearing\", \"wedding\", \"wedding\", \"weight\", \"weight\", \"weight\", \"weight\", \"weight\", \"went\", \"went\", \"went\", \"went\", \"went\", \"went\", \"went\", \"west\", \"west\", \"west\", \"west\", \"west\", \"west\", \"white\", \"white\", \"white\", \"white\", \"white\", \"white\", \"white\", \"wildlife\", \"wildlife\", \"wildly\", \"wildly\", \"willie\", \"witnesses\", \"witnesses\", \"woman\", \"woman\", \"woman\", \"woman\", \"work\", \"work\", \"work\", \"work\", \"work\", \"work\", \"work\", \"work\", \"workshops\", \"world\", \"world\", \"world\", \"world\", \"world\", \"world\", \"world\", \"world\", \"yankees\", \"yankees\", \"yankees\", \"yards\", \"yards\", \"yesterday\", \"yesterday\", \"yesterday\", \"yesterday\", \"yesterday\", \"yesterday\", \"york\", \"york\", \"york\", \"york\", \"york\", \"york\", \"york\", \"young\", \"young\", \"young\", \"young\", \"young\", \"young\"]}, \"R\": 30, \"lambda.step\": 0.01, \"plot.opts\": {\"xlab\": \"PC1\", \"ylab\": \"PC2\"}, \"topic.order\": [1, 2, 3, 4, 5, 6, 7, 8, 9, 10]};\n",
              "\n",
              "function LDAvis_load_lib(url, callback){\n",
              "  var s = document.createElement('script');\n",
              "  s.src = url;\n",
              "  s.async = true;\n",
              "  s.onreadystatechange = s.onload = callback;\n",
              "  s.onerror = function(){console.warn(\"failed to load library \" + url);};\n",
              "  document.getElementsByTagName(\"head\")[0].appendChild(s);\n",
              "}\n",
              "\n",
              "if(typeof(LDAvis) !== \"undefined\"){\n",
              "   // already loaded: just create the visualization\n",
              "   !function(LDAvis){\n",
              "       new LDAvis(\"#\" + \"ldavis_el1071402586307883686205170253\", ldavis_el1071402586307883686205170253_data);\n",
              "   }(LDAvis);\n",
              "}else if(typeof define === \"function\" && define.amd){\n",
              "   // require.js is available: use it to load d3/LDAvis\n",
              "   require.config({paths: {d3: \"https://d3js.org/d3.v5\"}});\n",
              "   require([\"d3\"], function(d3){\n",
              "      window.d3 = d3;\n",
              "      LDAvis_load_lib(\"https://cdn.jsdelivr.net/gh/bmabey/pyLDAvis@3.3.1/pyLDAvis/js/ldavis.v3.0.0.js\", function(){\n",
              "        new LDAvis(\"#\" + \"ldavis_el1071402586307883686205170253\", ldavis_el1071402586307883686205170253_data);\n",
              "      });\n",
              "    });\n",
              "}else{\n",
              "    // require.js not available: dynamically load d3 & LDAvis\n",
              "    LDAvis_load_lib(\"https://d3js.org/d3.v5.js\", function(){\n",
              "         LDAvis_load_lib(\"https://cdn.jsdelivr.net/gh/bmabey/pyLDAvis@3.3.1/pyLDAvis/js/ldavis.v3.0.0.js\", function(){\n",
              "                 new LDAvis(\"#\" + \"ldavis_el1071402586307883686205170253\", ldavis_el1071402586307883686205170253_data);\n",
              "            })\n",
              "         });\n",
              "}\n",
              "</script>"
            ]
          },
          "metadata": {},
          "execution_count": 73
        }
      ],
      "source": [
        "pyLDAvis.display(lda_display)"
      ]
    },
    {
      "cell_type": "markdown",
      "id": "a3d14c87",
      "metadata": {
        "id": "a3d14c87"
      },
      "source": [
        "Q: What conclusions do you draw from the visualization above? Please address the principal component scatterplot and the salient terms graph.\n",
        "\n",
        "A: from the topic 9 has a lot in commen with topic 3, 2, 8, 10 and topic 6 and 5 have some agreements \n"
      ]
    }
  ],
  "metadata": {
    "kernelspec": {
      "display_name": "Python 3 (ipykernel)",
      "language": "python",
      "name": "python3"
    },
    "language_info": {
      "codemirror_mode": {
        "name": "ipython",
        "version": 3
      },
      "file_extension": ".py",
      "mimetype": "text/x-python",
      "name": "python",
      "nbconvert_exporter": "python",
      "pygments_lexer": "ipython3",
      "version": "3.8.8"
    },
    "colab": {
      "provenance": []
    }
  },
  "nbformat": 4,
  "nbformat_minor": 5
}